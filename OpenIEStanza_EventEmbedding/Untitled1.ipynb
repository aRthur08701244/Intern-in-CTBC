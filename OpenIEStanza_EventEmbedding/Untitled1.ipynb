{
 "cells": [
  {
   "cell_type": "code",
   "execution_count": 15,
   "id": "b470c836",
   "metadata": {
    "scrolled": true
   },
   "outputs": [],
   "source": [
    "# from ipynb.fs.full.c1_NeuralTensorNetworkForEB import net"
   ]
  },
  {
   "cell_type": "code",
   "execution_count": 4,
   "id": "f18ae939",
   "metadata": {},
   "outputs": [
    {
     "data": {
      "text/plain": [
       "net(\n",
       "  (ln1_1): Bilinear(in1_features=100, in2_features=100, out_features=100, bias=True)\n",
       "  (ln1_2): Linear(in_features=200, out_features=100, bias=True)\n",
       "  (ln2_1): Bilinear(in1_features=100, in2_features=100, out_features=100, bias=True)\n",
       "  (ln2_2): Linear(in_features=200, out_features=100, bias=True)\n",
       "  (ln3_1): Bilinear(in1_features=100, in2_features=100, out_features=100, bias=True)\n",
       "  (ln3_2): Linear(in_features=200, out_features=100, bias=True)\n",
       "  (tanh): Tanh()\n",
       ")"
      ]
     },
     "execution_count": 4,
     "metadata": {},
     "output_type": "execute_result"
    }
   ],
   "source": [
    "# import torch\n",
    "torch.load('./input/EB_Model.pth')"
   ]
  },
  {
   "cell_type": "code",
   "execution_count": 5,
   "id": "72a1451d",
   "metadata": {},
   "outputs": [
    {
     "data": {
      "text/plain": [
       "'/Users/arthur/Desktop/OpenIEStanza_EventEmbedding'"
      ]
     },
     "execution_count": 5,
     "metadata": {},
     "output_type": "execute_result"
    }
   ],
   "source": [
    "pwd"
   ]
  },
  {
   "cell_type": "code",
   "execution_count": null,
   "id": "f4a9f572",
   "metadata": {},
   "outputs": [],
   "source": []
  }
 ],
 "metadata": {
  "kernelspec": {
   "display_name": "Python 3 (ipykernel)",
   "language": "python",
   "name": "python3"
  },
  "language_info": {
   "codemirror_mode": {
    "name": "ipython",
    "version": 3
   },
   "file_extension": ".py",
   "mimetype": "text/x-python",
   "name": "python",
   "nbconvert_exporter": "python",
   "pygments_lexer": "ipython3",
   "version": "3.9.7"
  }
 },
 "nbformat": 4,
 "nbformat_minor": 5
}
