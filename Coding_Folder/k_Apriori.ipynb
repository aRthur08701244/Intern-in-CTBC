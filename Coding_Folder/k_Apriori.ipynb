{
 "cells": [
  {
   "cell_type": "markdown",
   "id": "c74358a6",
   "metadata": {},
   "source": [
    "# Apyori / Apriori"
   ]
  },
  {
   "cell_type": "code",
   "execution_count": 1,
   "id": "8e49b560",
   "metadata": {},
   "outputs": [],
   "source": [
    "import pandas as pd\n",
    "import numpy as np\n",
    "import os\n",
    "import datetime\n",
    "from apyori import apriori\n",
    "import pandas as pd\n",
    "\n",
    "os.chdir('/Users/arthur/Desktop/factor_investment')"
   ]
  },
  {
   "cell_type": "code",
   "execution_count": 2,
   "id": "091be352",
   "metadata": {},
   "outputs": [
    {
     "name": "stdout",
     "output_type": "stream",
     "text": [
      "['Basketball', 'Socks']\n",
      "Rule: Basketball →Socks\n",
      "Support: 0.25\n",
      "Lift: 2.0\n",
      "==================================\n",
      "['Bottle', 'Pants']\n",
      "Rule: Bottle →Pants\n",
      "Support: 0.25\n",
      "Lift: 2.6666666666666665\n",
      "==================================\n",
      "['Bottle', 'Socks']\n",
      "Rule: Bottle →Socks\n",
      "Support: 0.25\n",
      "Lift: 2.6666666666666665\n",
      "==================================\n",
      "['Pants', 'Jeans']\n",
      "Rule: Pants →Jeans\n",
      "Support: 0.25\n",
      "Lift: 2.6666666666666665\n",
      "==================================\n",
      "['Socks', 'Jersy']\n",
      "Rule: Socks →Jersy\n",
      "Support: 0.25\n",
      "Lift: 2.0\n",
      "==================================\n"
     ]
    }
   ],
   "source": [
    "market_data = [['T-Shirt','Pants','Jeans','Jersy','Socks','Basketball','Bottle','Shorts'],\n",
    " ['T-Shirt','Jeans'],\n",
    " ['Jersy','Basketball','Socks','Bottle'],\n",
    " ['Jeans','Pants','Bottle'],\n",
    " ['Shorts','Basketball'],\n",
    " ['Shorts','Jersy'],\n",
    " ['T-Shirt'],\n",
    " ['Basketball','Jersy']]\n",
    "association_rules = apriori(market_data, min_support=0.2, min_confidence=0.2, min_lift=2, max_length=2)\n",
    "association_results = list(association_rules)\n",
    "\n",
    "for product in association_results:\n",
    "    pair = product[0] \n",
    "    products = [x for x in pair]\n",
    "    print(products)\n",
    "    print(\"Rule: \" + products[0] + \" →\" + products[1])\n",
    "    print(\"Support: \" + str(product[1]))\n",
    "    print(\"Lift: \" + str(product[2][0][3]))\n",
    "    print(\"==================================\")"
   ]
  },
  {
   "cell_type": "code",
   "execution_count": 2,
   "id": "2f3e7fbb",
   "metadata": {
    "scrolled": true
   },
   "outputs": [
    {
     "name": "stderr",
     "output_type": "stream",
     "text": [
      "/var/folders/w8/jwxq4stj29506b1pf67xpb000000gq/T/ipykernel_6261/2000295121.py:2: DtypeWarning: Columns (0,9) have mixed types. Specify dtype option on import or set low_memory=False.\n",
      "  price_df = pd.read_csv('./data/TEJ_StockPrice_20052022.csv', encoding='big5', encoding_errors='ignore', usecols=col_list)\n"
     ]
    }
   ],
   "source": [
    "col_list = [\"證券代碼\", \"簡稱\", \"年月日\", \"收盤價(元)\", \"報酬率％\"]\n",
    "price_df = pd.read_csv('./data/TEJ_StockPrice_20052022.csv', encoding='big5', encoding_errors='ignore', usecols=col_list)\n",
    "price_df[\"證券代碼\"] = [str(x).strip() for x in price_df[\"證券代碼\"]]\n",
    "price_df[\"簡稱\"] = [x.strip() for x in price_df[\"簡稱\"]]\n",
    "\n",
    "with open(\"./data/StockValidation.csv\", 'r') as file:\n",
    "    validstock_df = pd.read_csv(file, sep=',', low_memory=False, index_col=0)\n",
    "    \n",
    "validstock_df['stock_id'] = [str(x).strip() for x in validstock_df['stock_id']]"
   ]
  },
  {
   "cell_type": "code",
   "execution_count": 3,
   "id": "6dbe6099",
   "metadata": {},
   "outputs": [],
   "source": [
    "price_df = price_df.loc[price_df.證券代碼.isin( validstock_df.iloc[:, 0] ), :]\n",
    "price_df = price_df.reset_index(drop=True)\n",
    "price_df['年月日'] = pd.to_datetime(price_df['年月日']).dt.date\n",
    "price_df = price_df[ price_df['年月日'] > datetime.date(2009, 12,31) ]"
   ]
  },
  {
   "cell_type": "code",
   "execution_count": 4,
   "id": "eeaf8c19",
   "metadata": {},
   "outputs": [
    {
     "data": {
      "text/html": [
       "<div>\n",
       "<style scoped>\n",
       "    .dataframe tbody tr th:only-of-type {\n",
       "        vertical-align: middle;\n",
       "    }\n",
       "\n",
       "    .dataframe tbody tr th {\n",
       "        vertical-align: top;\n",
       "    }\n",
       "\n",
       "    .dataframe thead th {\n",
       "        text-align: right;\n",
       "    }\n",
       "</style>\n",
       "<table border=\"1\" class=\"dataframe\">\n",
       "  <thead>\n",
       "    <tr style=\"text-align: right;\">\n",
       "      <th></th>\n",
       "      <th>證券代碼</th>\n",
       "      <th>簡稱</th>\n",
       "      <th>年月日</th>\n",
       "      <th>收盤價(元)</th>\n",
       "      <th>報酬率％</th>\n",
       "    </tr>\n",
       "  </thead>\n",
       "  <tbody>\n",
       "    <tr>\n",
       "      <th>1242</th>\n",
       "      <td>50</td>\n",
       "      <td>元大台灣50</td>\n",
       "      <td>2010-01-04</td>\n",
       "      <td>38.1670</td>\n",
       "      <td>0.0886</td>\n",
       "    </tr>\n",
       "    <tr>\n",
       "      <th>1243</th>\n",
       "      <td>50</td>\n",
       "      <td>元大台灣50</td>\n",
       "      <td>2010-01-05</td>\n",
       "      <td>38.1670</td>\n",
       "      <td>0.0</td>\n",
       "    </tr>\n",
       "    <tr>\n",
       "      <th>1244</th>\n",
       "      <td>50</td>\n",
       "      <td>元大台灣50</td>\n",
       "      <td>2010-01-06</td>\n",
       "      <td>38.8763</td>\n",
       "      <td>1.8584</td>\n",
       "    </tr>\n",
       "    <tr>\n",
       "      <th>1245</th>\n",
       "      <td>50</td>\n",
       "      <td>元大台灣50</td>\n",
       "      <td>2010-01-07</td>\n",
       "      <td>38.7750</td>\n",
       "      <td>-0.2606</td>\n",
       "    </tr>\n",
       "    <tr>\n",
       "      <th>1246</th>\n",
       "      <td>50</td>\n",
       "      <td>元大台灣50</td>\n",
       "      <td>2010-01-08</td>\n",
       "      <td>39.0115</td>\n",
       "      <td>0.6098</td>\n",
       "    </tr>\n",
       "    <tr>\n",
       "      <th>...</th>\n",
       "      <td>...</td>\n",
       "      <td>...</td>\n",
       "      <td>...</td>\n",
       "      <td>...</td>\n",
       "      <td>...</td>\n",
       "    </tr>\n",
       "    <tr>\n",
       "      <th>3892485</th>\n",
       "      <td>9958</td>\n",
       "      <td>世紀鋼</td>\n",
       "      <td>2022-05-10</td>\n",
       "      <td>117.5000</td>\n",
       "      <td>1.2931</td>\n",
       "    </tr>\n",
       "    <tr>\n",
       "      <th>3892486</th>\n",
       "      <td>9958</td>\n",
       "      <td>世紀鋼</td>\n",
       "      <td>2022-05-11</td>\n",
       "      <td>115.5000</td>\n",
       "      <td>-1.7021</td>\n",
       "    </tr>\n",
       "    <tr>\n",
       "      <th>3892487</th>\n",
       "      <td>9958</td>\n",
       "      <td>世紀鋼</td>\n",
       "      <td>2022-05-12</td>\n",
       "      <td>112.0000</td>\n",
       "      <td>-3.0303</td>\n",
       "    </tr>\n",
       "    <tr>\n",
       "      <th>3892488</th>\n",
       "      <td>9958</td>\n",
       "      <td>世紀鋼</td>\n",
       "      <td>2022-05-13</td>\n",
       "      <td>116.0000</td>\n",
       "      <td>3.5714</td>\n",
       "    </tr>\n",
       "    <tr>\n",
       "      <th>3892489</th>\n",
       "      <td>9958</td>\n",
       "      <td>世紀鋼</td>\n",
       "      <td>2022-05-16</td>\n",
       "      <td>118.5000</td>\n",
       "      <td>2.1552</td>\n",
       "    </tr>\n",
       "  </tbody>\n",
       "</table>\n",
       "<p>2921221 rows × 5 columns</p>\n",
       "</div>"
      ],
      "text/plain": [
       "         證券代碼      簡稱         年月日    收盤價(元)    報酬率％\n",
       "1242       50  元大台灣50  2010-01-04   38.1670  0.0886\n",
       "1243       50  元大台灣50  2010-01-05   38.1670     0.0\n",
       "1244       50  元大台灣50  2010-01-06   38.8763  1.8584\n",
       "1245       50  元大台灣50  2010-01-07   38.7750 -0.2606\n",
       "1246       50  元大台灣50  2010-01-08   39.0115  0.6098\n",
       "...       ...     ...         ...       ...     ...\n",
       "3892485  9958     世紀鋼  2022-05-10  117.5000  1.2931\n",
       "3892486  9958     世紀鋼  2022-05-11  115.5000 -1.7021\n",
       "3892487  9958     世紀鋼  2022-05-12  112.0000 -3.0303\n",
       "3892488  9958     世紀鋼  2022-05-13  116.0000  3.5714\n",
       "3892489  9958     世紀鋼  2022-05-16  118.5000  2.1552\n",
       "\n",
       "[2921221 rows x 5 columns]"
      ]
     },
     "execution_count": 4,
     "metadata": {},
     "output_type": "execute_result"
    }
   ],
   "source": [
    "price_df"
   ]
  },
  {
   "cell_type": "code",
   "execution_count": 5,
   "id": "28b653b0",
   "metadata": {
    "scrolled": true
   },
   "outputs": [],
   "source": [
    "Apr = pd.DataFrame(index = price_df['年月日'].unique())\n",
    "\n",
    "for i in price_df['年月日'].unique():\n",
    "#     print(i)\n",
    "    daily_df = price_df [ (price_df['年月日'] == i) & (price_df['報酬率％'] > 0) ]\n",
    "    Apr.loc[i, 0] = daily_df.證券代碼.values"
   ]
  },
  {
   "cell_type": "code",
   "execution_count": 6,
   "id": "fa21d162",
   "metadata": {
    "scrolled": true
   },
   "outputs": [],
   "source": [
    "# 檢查有沒有出錯\n",
    "# for i in Apr.index:\n",
    "#     print(i)\n",
    "#     daily_df = price_df [ price_df['年月日'] == i ]\n",
    "#     daily_df = daily_df[daily_df.證券代碼.isin(Apr.loc[i, 0])]\n",
    "#     if sum(daily_df['報酬率％'] > 0) == len(daily_df['報酬率％']):\n",
    "#         continue\n",
    "#     else:\n",
    "#         print(i)\n",
    "#         break"
   ]
  },
  {
   "cell_type": "code",
   "execution_count": 7,
   "id": "e635ef33",
   "metadata": {},
   "outputs": [
    {
     "data": {
      "text/html": [
       "<div>\n",
       "<style scoped>\n",
       "    .dataframe tbody tr th:only-of-type {\n",
       "        vertical-align: middle;\n",
       "    }\n",
       "\n",
       "    .dataframe tbody tr th {\n",
       "        vertical-align: top;\n",
       "    }\n",
       "\n",
       "    .dataframe thead th {\n",
       "        text-align: right;\n",
       "    }\n",
       "</style>\n",
       "<table border=\"1\" class=\"dataframe\">\n",
       "  <thead>\n",
       "    <tr style=\"text-align: right;\">\n",
       "      <th></th>\n",
       "      <th>0</th>\n",
       "    </tr>\n",
       "  </thead>\n",
       "  <tbody>\n",
       "    <tr>\n",
       "      <th>2010-01-04</th>\n",
       "      <td>[50, 56, 1101, 1103, 1104, 1108, 1109, 1110, 1...</td>\n",
       "    </tr>\n",
       "    <tr>\n",
       "      <th>2010-01-05</th>\n",
       "      <td>[1101, 1102, 1109, 1110, 1201, 1210, 1215, 121...</td>\n",
       "    </tr>\n",
       "    <tr>\n",
       "      <th>2010-01-06</th>\n",
       "      <td>[50, 56, 1101, 1102, 1104, 1109, 1110, 1203, 1...</td>\n",
       "    </tr>\n",
       "    <tr>\n",
       "      <th>2010-01-07</th>\n",
       "      <td>[1108, 1109, 1218, 1225, 1233, 1303, 1310, 131...</td>\n",
       "    </tr>\n",
       "    <tr>\n",
       "      <th>2010-01-08</th>\n",
       "      <td>[50, 56, 1102, 1103, 1104, 1108, 1110, 1203, 1...</td>\n",
       "    </tr>\n",
       "    <tr>\n",
       "      <th>...</th>\n",
       "      <td>...</td>\n",
       "    </tr>\n",
       "    <tr>\n",
       "      <th>2022-05-10</th>\n",
       "      <td>[56, 1104, 1109, 1201, 1215, 1216, 1218, 1229,...</td>\n",
       "    </tr>\n",
       "    <tr>\n",
       "      <th>2022-05-11</th>\n",
       "      <td>[50, 1104, 1110, 1264, 1307, 1319, 1337, 1338,...</td>\n",
       "    </tr>\n",
       "    <tr>\n",
       "      <th>2022-05-12</th>\n",
       "      <td>[1259, 1477, 1522, 1535, 1538, 1605, 1808, 202...</td>\n",
       "    </tr>\n",
       "    <tr>\n",
       "      <th>2022-05-13</th>\n",
       "      <td>[50, 56, 1101, 1102, 1103, 1104, 1108, 1109, 1...</td>\n",
       "    </tr>\n",
       "    <tr>\n",
       "      <th>2022-05-16</th>\n",
       "      <td>[50, 1103, 1104, 1108, 1110, 1217, 1218, 1219,...</td>\n",
       "    </tr>\n",
       "  </tbody>\n",
       "</table>\n",
       "<p>3039 rows × 1 columns</p>\n",
       "</div>"
      ],
      "text/plain": [
       "                                                            0\n",
       "2010-01-04  [50, 56, 1101, 1103, 1104, 1108, 1109, 1110, 1...\n",
       "2010-01-05  [1101, 1102, 1109, 1110, 1201, 1210, 1215, 121...\n",
       "2010-01-06  [50, 56, 1101, 1102, 1104, 1109, 1110, 1203, 1...\n",
       "2010-01-07  [1108, 1109, 1218, 1225, 1233, 1303, 1310, 131...\n",
       "2010-01-08  [50, 56, 1102, 1103, 1104, 1108, 1110, 1203, 1...\n",
       "...                                                       ...\n",
       "2022-05-10  [56, 1104, 1109, 1201, 1215, 1216, 1218, 1229,...\n",
       "2022-05-11  [50, 1104, 1110, 1264, 1307, 1319, 1337, 1338,...\n",
       "2022-05-12  [1259, 1477, 1522, 1535, 1538, 1605, 1808, 202...\n",
       "2022-05-13  [50, 56, 1101, 1102, 1103, 1104, 1108, 1109, 1...\n",
       "2022-05-16  [50, 1103, 1104, 1108, 1110, 1217, 1218, 1219,...\n",
       "\n",
       "[3039 rows x 1 columns]"
      ]
     },
     "execution_count": 7,
     "metadata": {},
     "output_type": "execute_result"
    }
   ],
   "source": [
    "Apr"
   ]
  },
  {
   "cell_type": "code",
   "execution_count": 8,
   "id": "6b2945dd",
   "metadata": {},
   "outputs": [
    {
     "data": {
      "text/plain": [
       "numpy.ndarray"
      ]
     },
     "execution_count": 8,
     "metadata": {},
     "output_type": "execute_result"
    }
   ],
   "source": [
    "type(Apr[0].values)"
   ]
  },
  {
   "cell_type": "code",
   "execution_count": 9,
   "id": "04462d52",
   "metadata": {
    "scrolled": true
   },
   "outputs": [],
   "source": [
    "association_rules = apriori(Apr[0].values, min_support=0.2, min_confidence=0.2, min_lift=2, max_length=2)\n",
    "# association_rules = apriori(Apr[0].values, min_support=0.1, min_confidence=0.1, min_lift=2, max_length=5)\n",
    "# association_results = list(association_rules)"
   ]
  },
  {
   "cell_type": "code",
   "execution_count": 10,
   "id": "9fa01c6f",
   "metadata": {},
   "outputs": [],
   "source": [
    "# list(association_rules)"
   ]
  },
  {
   "cell_type": "code",
   "execution_count": 11,
   "id": "91b1ede0",
   "metadata": {},
   "outputs": [],
   "source": [
    "association_results = list(association_rules)"
   ]
  },
  {
   "cell_type": "code",
   "execution_count": 12,
   "id": "9144ca7d",
   "metadata": {},
   "outputs": [
    {
     "name": "stdout",
     "output_type": "stream",
     "text": [
      "['3519', '3514']\n",
      "Rule: 3519 <-> 3514\n",
      "Support: 0.2211253701875617\n",
      "Lift: 2.1156200145032633\n",
      "==================================\n",
      "['3561', '3514']\n",
      "Rule: 3561 <-> 3514\n",
      "Support: 0.24152681803224746\n",
      "Lift: 2.393426897572909\n",
      "==================================\n",
      "['3519', '3561']\n",
      "Rule: 3519 <-> 3561\n",
      "Support: 0.22704837117472854\n",
      "Lift: 2.238530641003059\n",
      "==================================\n",
      "['3519', '3579']\n",
      "Rule: 3519 <-> 3579\n",
      "Support: 0.2250740375123396\n",
      "Lift: 2.11244340787488\n",
      "==================================\n"
     ]
    }
   ],
   "source": [
    "for product in association_results:\n",
    "    pair = product[0] \n",
    "    products = [x for x in pair]\n",
    "    print(products)\n",
    "    print(\"Rule: \" + products[0] + \" <-> \" + products[1])\n",
    "    print(\"Support: \" + str(product[1]))\n",
    "    print(\"Lift: \" + str(product[2][0][3]))\n",
    "    print(\"==================================\")"
   ]
  },
  {
   "cell_type": "code",
   "execution_count": null,
   "id": "f25f4d27",
   "metadata": {},
   "outputs": [],
   "source": []
  }
 ],
 "metadata": {
  "kernelspec": {
   "display_name": "Python 3 (ipykernel)",
   "language": "python",
   "name": "python3"
  },
  "language_info": {
   "codemirror_mode": {
    "name": "ipython",
    "version": 3
   },
   "file_extension": ".py",
   "mimetype": "text/x-python",
   "name": "python",
   "nbconvert_exporter": "python",
   "pygments_lexer": "ipython3",
   "version": "3.9.7"
  }
 },
 "nbformat": 4,
 "nbformat_minor": 5
}
