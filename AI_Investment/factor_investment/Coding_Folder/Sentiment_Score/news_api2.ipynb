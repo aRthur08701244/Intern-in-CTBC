{
 "cells": [
  {
   "cell_type": "code",
   "execution_count": 3,
   "id": "605a63ce",
   "metadata": {},
   "outputs": [],
   "source": [
    "# pip install Taiwan_News_Crawler\n",
    "# pip intall fake_useragent"
   ]
  },
  {
   "cell_type": "code",
   "execution_count": 2,
   "id": "4e9564f8",
   "metadata": {},
   "outputs": [],
   "source": [
    "# pip install git+https://github.com/NaicihLiou/Taiwan_News_Crawler.git"
   ]
  },
  {
   "cell_type": "code",
   "execution_count": 6,
   "id": "15939c95",
   "metadata": {},
   "outputs": [
    {
     "data": {
      "text/plain": [
       "'/opt/anaconda3/lib/python3.9/site-packages/Taiwan_News_Crawler/__init__.py'"
      ]
     },
     "execution_count": 6,
     "metadata": {},
     "output_type": "execute_result"
    }
   ],
   "source": [
    "Taiwan_News_Crawler.__file__"
   ]
  },
  {
   "cell_type": "code",
   "execution_count": 11,
   "id": "7aef45b4",
   "metadata": {},
   "outputs": [
    {
     "name": "stdout",
     "output_type": "stream",
     "text": [
      "['LICENSE', 'Taiwan_News_Crawler']\n"
     ]
    }
   ],
   "source": [
    "import os.path, pkgutil\n",
    "pkgpath = os.path.dirname(Taiwan_News_Crawler.__file__)\n",
    "print([name for _, name, _ in pkgutil.iter_modules([pkgpath])])"
   ]
  },
  {
   "cell_type": "code",
   "execution_count": 34,
   "id": "a59ebc74",
   "metadata": {},
   "outputs": [
    {
     "name": "stderr",
     "output_type": "stream",
     "text": [
      "\n",
      "\n",
      "====== WebDriver manager ======\n",
      "Current google-chrome version is 101.0.4951\n",
      "Get LATEST chromedriver version for 101.0.4951 google-chrome\n",
      "There is no [mac64] chromedriver for browser 101.0.4951 in cache\n",
      "Trying to download new driver from https://chromedriver.storage.googleapis.com/101.0.4951.41/chromedriver_mac64.zip\n",
      "Driver has been saved in cache [/Users/arthur/.wdm/drivers/chromedriver/mac64/101.0.4951.41]\n"
     ]
    },
    {
     "data": {
      "text/plain": [
       "'/Users/arthur/.wdm/drivers/chromedriver/mac64/101.0.4951.41/chromedriver'"
      ]
     },
     "execution_count": 34,
     "metadata": {},
     "output_type": "execute_result"
    }
   ],
   "source": [
    "print(ChromeDriverManager().install())"
   ]
  },
  {
   "cell_type": "code",
   "execution_count": 41,
   "id": "1687bbce",
   "metadata": {
    "scrolled": true
   },
   "outputs": [],
   "source": [
    "# import Taiwan_News_Crawler as NewsCrawler\n",
    "from Taiwan_News_Crawler import Taiwan_News_Crawler as NewsCrawler\n",
    "\n",
    "## Build news crawler\n",
    "webdriver_path = '/Users/arthur/.wdm/drivers/chromedriver/mac64/101.0.4951.41/chromedriver'\n",
    "mycrawler = NewsCrawler.crawler(webdriver_path)"
   ]
  },
  {
   "cell_type": "code",
   "execution_count": 60,
   "id": "f1e90d56",
   "metadata": {},
   "outputs": [
    {
     "name": "stdout",
     "output_type": "stream",
     "text": [
      "爬取媒體(Crawlering News): 公視(PTS)\n"
     ]
    },
    {
     "ename": "SyntaxError",
     "evalue": "Crawlering pts Fail. (<string>)",
     "output_type": "error",
     "traceback": [
      "Traceback \u001b[0;36m(most recent call last)\u001b[0m:\n",
      "  File \u001b[1;32m/opt/anaconda3/lib/python3.9/site-packages/Taiwan_News_Crawler/Taiwan_News_Crawler.py:2754\u001b[0m in \u001b[1;35mcrawler_news\u001b[0m\n    all_news = self.media_all_func[media](crawler_num)\n",
      "\u001b[0;36m  File \u001b[0;32m/opt/anaconda3/lib/python3.9/site-packages/Taiwan_News_Crawler/Taiwan_News_Crawler.py:841\u001b[0;36m in \u001b[0;35mpts_all_reader\u001b[0;36m\u001b[0m\n\u001b[0;31m    browser.get('https://news.pts.org.tw/subcategory/9') # 政經 總覽\u001b[0m\n",
      "\u001b[0;31mNameError\u001b[0m\u001b[0;31m:\u001b[0m name 'browser' is not defined\n",
      "\nDuring handling of the above exception, another exception occurred:\n",
      "Traceback \u001b[0;36m(most recent call last)\u001b[0m:\n",
      "  File \u001b[1;32m/opt/anaconda3/lib/python3.9/site-packages/IPython/core/interactiveshell.py:3397\u001b[0m in \u001b[1;35mrun_code\u001b[0m\n    exec(code_obj, self.user_global_ns, self.user_ns)\n",
      "  Input \u001b[1;32mIn [60]\u001b[0m in \u001b[1;35m<cell line: 1>\u001b[0m\n    news_ltn = mycrawler.crawler_news(media_input=10, crawler_num=20)\n",
      "\u001b[0;36m  File \u001b[0;32m/opt/anaconda3/lib/python3.9/site-packages/Taiwan_News_Crawler/Taiwan_News_Crawler.py:2756\u001b[0;36m in \u001b[0;35mcrawler_news\u001b[0;36m\u001b[0m\n\u001b[0;31m    raise SyntaxError('Crawlering '+media+' Fail.')\u001b[0m\n",
      "\u001b[0;36m  File \u001b[0;32m<string>\u001b[0;36m\u001b[0m\n\u001b[0;31mSyntaxError\u001b[0m\u001b[0;31m:\u001b[0m Crawlering pts Fail.\n"
     ]
    }
   ],
   "source": [
    "news_ltn = mycrawler.crawler_news(media_input=10, crawler_num=20)\n",
    "# print the first news information\n",
    "news_no_1 = news_ltn[0]\n",
    "for key, value in new_no_1.items():\n",
    "    print(key)\n",
    "    print(value)\n",
    "    print()"
   ]
  },
  {
   "cell_type": "code",
   "execution_count": 58,
   "id": "6e4b1167",
   "metadata": {},
   "outputs": [
    {
     "data": {
      "text/plain": [
       "[]"
      ]
     },
     "execution_count": 58,
     "metadata": {},
     "output_type": "execute_result"
    }
   ],
   "source": [
    "news_ltn"
   ]
  },
  {
   "cell_type": "code",
   "execution_count": 28,
   "id": "f5afedfd",
   "metadata": {},
   "outputs": [],
   "source": [
    "os.chdir('/Users/arthur/Downloads')"
   ]
  },
  {
   "cell_type": "code",
   "execution_count": 33,
   "id": "68aa7112",
   "metadata": {},
   "outputs": [],
   "source": [
    "from selenium import webdriver\n",
    "from webdriver_manager.chrome import ChromeDriverManager"
   ]
  },
  {
   "cell_type": "code",
   "execution_count": 32,
   "id": "a80b3548",
   "metadata": {},
   "outputs": [],
   "source": [
    "# pip install webdriver-manager"
   ]
  },
  {
   "cell_type": "code",
   "execution_count": null,
   "id": "cfee7ae1",
   "metadata": {},
   "outputs": [],
   "source": []
  }
 ],
 "metadata": {
  "kernelspec": {
   "display_name": "Python 3 (ipykernel)",
   "language": "python",
   "name": "python3"
  },
  "language_info": {
   "codemirror_mode": {
    "name": "ipython",
    "version": 3
   },
   "file_extension": ".py",
   "mimetype": "text/x-python",
   "name": "python",
   "nbconvert_exporter": "python",
   "pygments_lexer": "ipython3",
   "version": "3.9.7"
  }
 },
 "nbformat": 4,
 "nbformat_minor": 5
}
