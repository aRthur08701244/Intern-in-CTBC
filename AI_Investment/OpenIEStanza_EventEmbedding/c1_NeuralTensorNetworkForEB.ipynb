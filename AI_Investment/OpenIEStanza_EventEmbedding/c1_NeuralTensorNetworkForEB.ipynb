{
 "cells": [
  {
   "cell_type": "markdown",
   "id": "3c8d9617",
   "metadata": {},
   "source": [
    "nn.Functinal vs nn - Pytorch\n",
    "https://stackoverflow.com/questions/63826328/nn-functinal-vs-nn-pytorch"
   ]
  },
  {
   "cell_type": "markdown",
   "id": "10e2421a",
   "metadata": {},
   "source": [
    "Matrix.reshape(Matrix.shape[0], 2) = Tensor.view(Tensor.size(0), 2) = resize"
   ]
  },
  {
   "cell_type": "markdown",
   "id": "c6cd019e",
   "metadata": {},
   "source": [
    "# 更改NTN架構，檢查regularization，嘗試加入loss_fn或者印出來"
   ]
  },
  {
   "cell_type": "code",
   "execution_count": 1,
   "id": "7db22864",
   "metadata": {},
   "outputs": [
    {
     "data": {
      "text/plain": [
       "device(type='cpu')"
      ]
     },
     "execution_count": 1,
     "metadata": {},
     "output_type": "execute_result"
    }
   ],
   "source": [
    "import numpy as np\n",
    "import pandas as pd\n",
    "from gensim.models import Word2Vec\n",
    "import copy\n",
    "import torch.utils.data as Data\n",
    "\n",
    "import torch\n",
    "from torch import nn\n",
    "import numpy as np\n",
    "import torch.optim as optim\n",
    "import datetime\n",
    "import time\n",
    "\n",
    "device = torch.device(\"cuda\" if torch.cuda.is_available() else \"cpu\")\n",
    "device"
   ]
  },
  {
   "cell_type": "markdown",
   "id": "8e230e9e",
   "metadata": {},
   "source": [
    "# Read in event2index2 and index2vector2"
   ]
  },
  {
   "cell_type": "code",
   "execution_count": 2,
   "id": "567e7c93",
   "metadata": {
    "scrolled": true
   },
   "outputs": [],
   "source": [
    "e2i = np.load('./input/event2index21.npy', allow_pickle=True)\n",
    "i2v = np.load('./input/index2vector21.npy')\n",
    "w2v_model = Word2Vec.load(\"word2vec21.model\")"
   ]
  },
  {
   "cell_type": "code",
   "execution_count": 3,
   "id": "cc3c79ad",
   "metadata": {
    "scrolled": true
   },
   "outputs": [],
   "source": [
    "# F = ((np.random.rand(e2i.shape[0])*10)**5).astype('int')\n",
    "\n",
    "# for i in range(len(F)):\n",
    "#     while (F[i] == e2i[i, :, 0][0]) or (F[i] > 192041):\n",
    "# #         print(i)\n",
    "#         F[i] = ((np.random.rand(1)*10)**2).astype('int')"
   ]
  },
  {
   "cell_type": "markdown",
   "id": "073be747",
   "metadata": {},
   "source": [
    "# Substitute to Word Embedding"
   ]
  },
  {
   "cell_type": "code",
   "execution_count": 4,
   "id": "1106f357",
   "metadata": {
    "scrolled": false
   },
   "outputs": [],
   "source": [
    "# e2i = np.load('./input/event2index21.npy', allow_pickle=True)\n",
    "\n",
    "# e2if = copy.copy(e2i)\n",
    "# e2if[:, 0, :] = F.reshape(len(F), 1)\n",
    "\n",
    "# np.array(e2i).shape"
   ]
  },
  {
   "cell_type": "code",
   "execution_count": 5,
   "id": "6a4deee1",
   "metadata": {
    "scrolled": true
   },
   "outputs": [],
   "source": [
    "e2v = np.pad(e2i, ((0,0), (0,0), (0, 99)), mode='constant', constant_values=0)\n",
    "e2v = e2v.astype('float64')\n",
    "e2v.shape\n",
    "\n",
    "e2vf = np.pad(e2if, ((0,0), (0,0), (0, 99)), mode='constant', constant_values=0)\n",
    "e2vf = e2vf.astype('float64')"
   ]
  },
  {
   "cell_type": "code",
   "execution_count": 6,
   "id": "6f5c6663",
   "metadata": {
    "scrolled": true
   },
   "outputs": [],
   "source": [
    "for i in range(e2i.shape[0]):\n",
    "    o1 = int(e2v[i, 0, 0])\n",
    "    p = int(e2v[i, 1, 0])\n",
    "    o2 = int(e2v[i, 2, 0])\n",
    "    o1f = int(e2vf[i, 0, 0])\n",
    "    \n",
    "    e2v[i, 0, :] = (i2v[o1])\n",
    "    e2v[i, 1, :] = (i2v[p])\n",
    "    e2v[i, 2, :] = (i2v[o2])\n",
    "\n",
    "    e2vf[i, 0, :] = (i2v[o1f])\n",
    "    e2vf[i, 1, :] = (i2v[p])\n",
    "    e2vf[i, 2, :] = (i2v[o2])\n",
    "    \n",
    "e2v.shape"
   ]
  },
  {
   "cell_type": "code",
   "execution_count": 8,
   "id": "c66f7ea4",
   "metadata": {},
   "outputs": [],
   "source": [
    "# min(e2i.reshape(234226*3))\n",
    "# max(e2i.reshape(234226*3))"
   ]
  },
  {
   "cell_type": "code",
   "execution_count": 9,
   "id": "81540721",
   "metadata": {},
   "outputs": [],
   "source": [
    "# i2v.shape"
   ]
  },
  {
   "cell_type": "code",
   "execution_count": 10,
   "id": "d2d1561f",
   "metadata": {},
   "outputs": [],
   "source": [
    "# e2i[0, :, 0]"
   ]
  },
  {
   "cell_type": "code",
   "execution_count": 11,
   "id": "8a2f0bfc",
   "metadata": {},
   "outputs": [],
   "source": [
    "# i2v[11]"
   ]
  },
  {
   "cell_type": "code",
   "execution_count": 12,
   "id": "9481c090",
   "metadata": {},
   "outputs": [],
   "source": [
    "# print(w2v_model.wv.index_to_key[12], w2v_model.wv.index_to_key[11], w2v_model.wv.index_to_key[10])"
   ]
  },
  {
   "cell_type": "code",
   "execution_count": 13,
   "id": "aaf38b2d",
   "metadata": {},
   "outputs": [],
   "source": [
    "# print(w2v_model.wv.get_vector(\"擔憂\", norm=True))"
   ]
  },
  {
   "cell_type": "markdown",
   "id": "44989489",
   "metadata": {},
   "source": [
    "# Start"
   ]
  },
  {
   "cell_type": "code",
   "execution_count": 14,
   "id": "b3544c94",
   "metadata": {},
   "outputs": [],
   "source": [
    "# # 500 pairs of event extraction\n",
    "\n",
    "# O1 = torch.randn(500, 100, 1)\n",
    "# P = torch.randn(500, 100, 1)\n",
    "# O2 = torch.randn(500, 100, 1)\n",
    "# # F = torch.randn(500, 100, 1)\n",
    "\n",
    "\n",
    "# T1 = torch.randn(100, 100, 100)\n",
    "# T2 = torch.randn(100, 100, 100)\n",
    "# T3 = torch.randn(100, 100, 100)\n",
    "\n",
    "# o1 = torch.randn(100, 1)\n",
    "# p = torch.randn(100, 1)"
   ]
  },
  {
   "cell_type": "code",
   "execution_count": 15,
   "id": "b3b6c6c4",
   "metadata": {
    "scrolled": true
   },
   "outputs": [],
   "source": [
    "# weight = torch.Tensor([1]*100).resize(100, 1)\n",
    "# bias = torch.Tensor([1]*100).resize(100,1)\n",
    "\n",
    "# nn.functional.linear(o1, torch.Tensor([1]*o1.size(0)).resize(100,1),  torch.Tensor([1]*o1.size(0)).resize(100,1))\n",
    "# nn.functional.linear(o1, weight, bias)\n",
    "# nn.functional.linear(o1, weight, bias=bias)[:, 0].resize(100, 1)"
   ]
  },
  {
   "cell_type": "code",
   "execution_count": 16,
   "id": "7c5d1cae",
   "metadata": {},
   "outputs": [
    {
     "data": {
      "text/plain": [
       "'\\n    def bias(self, input1):\\n        \\n        weight = torch.Tensor([1]*100).resize(100,1)\\n        biases = torch.Tensor([1]*100).resize(100,1)\\n        \\n        \\n#         regulation = []\\n    \\n#         for i in model.state_dict().keys():\\n#         #     print(i)\\n#         #     print(np.sum(torch.Tensor.tolist(model.state_dict()[i]**2)))\\n#             regulation.append(np.sum(torch.Tensor.tolist(model.state_dict()[i]**2)))\\n\\n#         regulation = sum(regulation)*0.0001\\n#         bias += torch.Tensor([regulation]*100).resize(100,1)\\n        \\n        return nn.functional.linear(input1, weight, biases)[:, 0].resize(100, 1)\\n'"
      ]
     },
     "execution_count": 16,
     "metadata": {},
     "output_type": "execute_result"
    }
   ],
   "source": [
    "# weight = torch.Tensor([1]*100).resize(100,1)\n",
    "# biases = torch.Tensor([1]*100).resize(100,1)\n",
    "# weight = torch.randn(100, 1)\n",
    "# bias = weight\n",
    "\n",
    "class net(nn.Module):\n",
    "    def __init__(self):\n",
    "        super(net, self).__init__()\n",
    "        self.ln1 = nn.Bilinear(100, 100, 100)\n",
    "        self.ln1_2 = nn.Linear(200, 100, bias=False)\n",
    "        self.ln2 = nn.Bilinear(100, 100, 100)\n",
    "        self.ln2_2 = nn.Linear(200, 100, bias=False)\n",
    "        self.ln3 = nn.Bilinear(100, 100, 100)\n",
    "        self.ln3_2 = nn.Linear(200, 100, bias=False)\n",
    "        self.ln4 = nn.Linear(100, 1, bias=True)\n",
    "#         self.ln0 = nn.functional.linear(weight, bias)\n",
    "        self.tanh = nn.Tanh()\n",
    "        self.sigmoid = nn.Sigmoid()\n",
    "        self.relu = nn.ReLU()\n",
    "    def forward1(self, input1, input2):\n",
    "        \n",
    "#         input1 = input1.view(1, 100)\n",
    "#         input2 = input2.view(1, 100)\n",
    "        \n",
    "        c1 = self.ln1(input1, input2)\n",
    "#         c2 = torch.cat(\n",
    "#             (\n",
    "#                 input1.view(input1.size(0), input1.size(1))\n",
    "#                 ,input2.view(input2.size(0), input2.size(1))\n",
    "#             )\n",
    "#             ,dim=1\n",
    "#         )\n",
    "#         c2 = self.ln1_2(c2)\n",
    "        \n",
    "#         c1 = c1.view(c1.size(1), input1.size(0))\n",
    "#         c2 = c2.view(c2.size(1), input2.size(0))\n",
    "        combined = c1#+c2\n",
    "#         return self.tanh(combined)\n",
    "        return combined\n",
    "\n",
    "    def forward2(self, input1, input2):\n",
    "        \n",
    "#         input1 = input1.view(1, 100)\n",
    "#         input2 = input2.view(1, 100)\n",
    "        \n",
    "        c1 = self.ln2(input1, input2)\n",
    "#         c2 = torch.cat(\n",
    "#             (\n",
    "#                 input1.view(input1.size(0), input1.size(1))\n",
    "#                 ,input2.view(input2.size(0), input2.size(1))\n",
    "#             )\n",
    "#             ,dim=1\n",
    "#         )\n",
    "#         c2 = self.ln2_2(c2)\n",
    "        \n",
    "#         c1 = c1.view(c1.size(1), input1.size(0))\n",
    "#         c2 = c2.view(c2.size(1), input2.size(0))\n",
    "        combined = c1#+c2\n",
    "#         return self.tanh(combined)\n",
    "        return combined\n",
    "\n",
    "    def forward3(self, input1, input2):\n",
    "        \n",
    "#         input1 = input1.view(1, 100)\n",
    "#         input2 = input2.view(1, 100)\n",
    "        \n",
    "        c1 = self.ln3(input1, input2)\n",
    "#         c2 = torch.cat(\n",
    "#             (\n",
    "#                 input1.view(input1.size(0), input1.size(1))\n",
    "#                 ,input2.view(input2.size(0), input2.size(1))\n",
    "#             )\n",
    "#             ,dim=1\n",
    "#         )\n",
    "#         c2 = self.ln3_2(c2)\n",
    "        \n",
    "#         c1 = c1.view(c1.size(1), input1.size(0))\n",
    "#         c2 = c2.view(c2.size(1), input2.size(0))\n",
    "        combined = c1#+c2\n",
    "#         return self.tanh(combined)\n",
    "        return combined\n",
    "#         return self.sigmoid(combined)\n",
    "#         return combined\n",
    "    \n",
    "    def relu(self, input1):\n",
    "        return nn.ReLU(input1)\n",
    "    \n",
    "    def output(self, input1):\n",
    "        \n",
    "        c1 = self.ln4(input1)\n",
    "        \n",
    "        return self.tanh(c1)\n",
    "\"\"\"\n",
    "    def bias(self, input1):\n",
    "        \n",
    "        weight = torch.Tensor([1]*100).resize(100,1)\n",
    "        biases = torch.Tensor([1]*100).resize(100,1)\n",
    "        \n",
    "        \n",
    "#         regulation = []\n",
    "    \n",
    "#         for i in model.state_dict().keys():\n",
    "#         #     print(i)\n",
    "#         #     print(np.sum(torch.Tensor.tolist(model.state_dict()[i]**2)))\n",
    "#             regulation.append(np.sum(torch.Tensor.tolist(model.state_dict()[i]**2)))\n",
    "\n",
    "#         regulation = sum(regulation)*0.0001\n",
    "#         bias += torch.Tensor([regulation]*100).resize(100,1)\n",
    "        \n",
    "        return nn.functional.linear(input1, weight, biases)[:, 0].resize(100, 1)\n",
    "\"\"\""
   ]
  },
  {
   "cell_type": "code",
   "execution_count": 17,
   "id": "11fcb8dc",
   "metadata": {},
   "outputs": [],
   "source": [
    "# import torch.nn as nn\n",
    "# m = nn.Bilinear(2, 3, 4)\n",
    "# input1 =torch.randn(5, 3, 2)\n",
    "# input2 = torch.randn(5, 3, 3)\n",
    "# output = m(input1, input2)\n",
    "# print(output.size())"
   ]
  },
  {
   "cell_type": "code",
   "execution_count": 18,
   "id": "fde646a6",
   "metadata": {
    "scrolled": true
   },
   "outputs": [],
   "source": [
    "model = net()\n",
    "# torch.optim.Adam(model.parameters(), lr=1e-3, weight_decay=1e-3)\n",
    "criterion = nn.L1Loss()\n",
    "optimizer = optim.SGD(model.parameters(), lr=0.0001, momentum=0.3, weight_decay=1e-4)"
   ]
  },
  {
   "cell_type": "code",
   "execution_count": 19,
   "id": "ea695e86",
   "metadata": {},
   "outputs": [],
   "source": [
    "# regulation = []\n",
    "\n",
    "# for i in model.state_dict().keys():\n",
    "#     print(i)\n",
    "#     print(np.sum(torch.Tensor.tolist(model.state_dict()[i]**2)))\n",
    "#     regulation.append(np.sum(torch.Tensor.tolist(model.state_dict()[i]**2)))\n",
    "\n",
    "# sum(regulation)"
   ]
  },
  {
   "cell_type": "code",
   "execution_count": 20,
   "id": "f0c9a4d3",
   "metadata": {
    "scrolled": true
   },
   "outputs": [],
   "source": [
    "e2v = torch.Tensor(e2v)\n",
    "e2vf = torch.Tensor(e2vf)"
   ]
  },
  {
   "cell_type": "code",
   "execution_count": 21,
   "id": "47d0abe6",
   "metadata": {},
   "outputs": [],
   "source": [
    "def svo2u(svo):\n",
    "    (s, v, o) = svo\n",
    "    svo = []\n",
    "    for i in (s, v, o):\n",
    "        svo.append( torch.Tensor(w2v_model.wv.get_vector(i, norm=True)).view(1, 100) )\n",
    "    \n",
    "    svo1 = model.forward1(svo[0], svo[1])\n",
    "    svo2 = model.forward2(svo[1], svo[2])\n",
    "    svo3 = model.forward3(svo1, svo2)\n",
    "\n",
    "    return svo3"
   ]
  },
  {
   "cell_type": "code",
   "execution_count": 22,
   "id": "93a45036",
   "metadata": {
    "scrolled": true
   },
   "outputs": [
    {
     "ename": "NameError",
     "evalue": "name 'e2v' is not defined",
     "output_type": "error",
     "traceback": [
      "\u001b[0;31m---------------------------------------------------------------------------\u001b[0m",
      "\u001b[0;31mNameError\u001b[0m                                 Traceback (most recent call last)",
      "Input \u001b[0;32mIn [22]\u001b[0m, in \u001b[0;36m<cell line: 11>\u001b[0;34m()\u001b[0m\n\u001b[1;32m      8\u001b[0m MINIBATCH_SIZE \u001b[38;5;241m=\u001b[39m \u001b[38;5;241m100\u001b[39m    \u001b[38;5;66;03m# mini batch size\u001b[39;00m\n\u001b[1;32m     10\u001b[0m \u001b[38;5;66;03m# first transform the data to dataset can be processed by torch\u001b[39;00m\n\u001b[0;32m---> 11\u001b[0m torch_dataset \u001b[38;5;241m=\u001b[39m Data\u001b[38;5;241m.\u001b[39mTensorDataset(\u001b[43me2v\u001b[49m, e2vf)\n\u001b[1;32m     12\u001b[0m \u001b[38;5;66;03m# put the dataset into DataLoader\u001b[39;00m\n\u001b[1;32m     13\u001b[0m loader \u001b[38;5;241m=\u001b[39m Data\u001b[38;5;241m.\u001b[39mDataLoader(\n\u001b[1;32m     14\u001b[0m     dataset\u001b[38;5;241m=\u001b[39mtorch_dataset,\n\u001b[1;32m     15\u001b[0m     batch_size\u001b[38;5;241m=\u001b[39mMINIBATCH_SIZE,\n\u001b[1;32m     16\u001b[0m     shuffle\u001b[38;5;241m=\u001b[39m\u001b[38;5;28;01mTrue\u001b[39;00m,\n\u001b[1;32m     17\u001b[0m     num_workers\u001b[38;5;241m=\u001b[39m\u001b[38;5;241m2\u001b[39m           \u001b[38;5;66;03m# set multi-work num read data\u001b[39;00m\n\u001b[1;32m     18\u001b[0m )\n",
      "\u001b[0;31mNameError\u001b[0m: name 'e2v' is not defined"
     ]
    }
   ],
   "source": [
    "model = net()\n",
    "# torch.optim.Adam(model.parameters(), lr=1e-3, weight_decay=1e-3)\n",
    "criterion = nn.L1Loss()\n",
    "optimizer = optim.SGD(model.parameters(), lr=0.0001, momentum=0.3, weight_decay=1e-4)\n",
    "\n",
    "min_loss = 10\n",
    "\n",
    "MINIBATCH_SIZE = 100    # mini batch size\n",
    "\n",
    "# first transform the data to dataset can be processed by torch\n",
    "torch_dataset = Data.TensorDataset(e2v, e2vf)\n",
    "# put the dataset into DataLoader\n",
    "loader = Data.DataLoader(\n",
    "    dataset=torch_dataset,\n",
    "    batch_size=MINIBATCH_SIZE,\n",
    "    shuffle=True,\n",
    "    num_workers=2           # set multi-work num read data\n",
    ")\n",
    "\n",
    "for epoch in range(5):\n",
    "    for step, (batch_x, batch_y) in enumerate(loader):\n",
    "        if step%100 == 1:\n",
    "            print('\\nEpoch: ', epoch, '| step: ', step, end='  ')\n",
    "            print( round(running_loss, 5) )\n",
    "#             print(sum(sum(svo2u(['鄉林', '指出', '主要來源爲等山海匯營收']) - svo2u(['邑錡', '指出', '主要來源爲等山海匯營收']))))\n",
    "#             print(svo2u(['邑錡', '指出', '主要來源爲等山海匯營收']))\n",
    "        o1 = batch_x[:, 0, :]\n",
    "        p = batch_x[:, 1, :]\n",
    "        o2 = batch_x[:, 2, :]\n",
    "        o1f = batch_y[:, 0, :]\n",
    "\n",
    "        r1 = model.forward1(o1, p)\n",
    "        r2 = model.forward2(p, o2)\n",
    "        u = model.forward3(r1, r2)\n",
    "        e = model.output(u)\n",
    "#         print(e.shape)\n",
    "\n",
    "        r1f = model.forward1(o1f, p)\n",
    "        uf = model.forward3(r1f, r2)\n",
    "        ef = model.output(uf)\n",
    "#         print(ef.shape)\n",
    "        \n",
    "        \n",
    "        dif = nn.ReLU()(0.5 + ef - e)\n",
    "\n",
    "        loss = criterion(dif, torch.Tensor([0]*dif.size(0)*1).resize(dif.size(0),1))\n",
    "\n",
    "        loss.backward()\n",
    "        optimizer.step()\n",
    "\n",
    "        running_loss = loss.item()\n",
    "        if running_loss < min_loss:\n",
    "            print(datetime.datetime.now(), round(running_loss, 5))\n",
    "            min_loss = running_loss\n",
    "            torch.save(model, './input/EB_Model.pth')\n",
    "            \n",
    "        \n",
    "#         print( running_loss )\n",
    "\n",
    "\n",
    "print('Finished Training')"
   ]
  },
  {
   "cell_type": "code",
   "execution_count": 23,
   "id": "745f6849",
   "metadata": {
    "scrolled": true
   },
   "outputs": [],
   "source": [
    "model = net()\n",
    "# torch.optim.Adam(model.parameters(), lr=1e-3, weight_decay=1e-3)\n",
    "criterion = nn.L1Loss()\n",
    "optimizer = optim.SGD(model.parameters(), lr=0.0001, momentum=0.3, weight_decay=1e-4)\n",
    "\n",
    "min_loss = 10\n",
    "\n",
    "MINIBATCH_SIZE = 100    # mini batch size\n",
    "\n",
    "# first transform the data to dataset can be processed by torch\n",
    "torch_dataset = Data.TensorDataset(e2v, e2vf)\n",
    "# put the dataset into DataLoader\n",
    "loader = Data.DataLoader(\n",
    "    dataset=torch_dataset,\n",
    "    batch_size=MINIBATCH_SIZE,\n",
    "    shuffle=True,\n",
    "    num_workers=2           # set multi-work num read data\n",
    ")\n",
    "\n",
    "\n",
    "\n",
    "running_loss = np.array([])\n",
    "torch.save(model, './input/EB_Model2.pth')\n",
    "\n",
    "\n",
    "\n",
    "for epoch in range(5):\n",
    "    model = torch.load('./input/EB_Model2.pth')\n",
    "    for step, (batch_x, batch_y) in enumerate(loader):\n",
    "        \n",
    "        if step%100 == 1:\n",
    "#             optimizer.step() # update\n",
    "#             optimizer.zero_grad() # reset\n",
    "        \n",
    "            running_loss = np.mean(running_loss)\n",
    "            if running_loss < min_loss:\n",
    "                print(datetime.datetime.now(), round(running_loss, 5))\n",
    "                min_loss = running_loss\n",
    "                torch.save(model, './input/EB_Model2.pth')\n",
    "            \n",
    "            print('\\nEpoch: ', epoch, '| step: ', step, end='  ')\n",
    "            print( round(running_loss, 5) , round(loss.item(), 5) )\n",
    "            running_loss = np.array([])\n",
    "#             print(sum(sum(svo2u(['鄉林', '指出', '主要來源爲等山海匯營收']) - svo2u(['邑錡', '指出', '主要來源爲等山海匯營收']))))\n",
    "#             print(svo2u(['邑錡', '指出', '主要來源爲等山海匯營收']))\n",
    "\n",
    "        o1 = batch_x[:, 0, :]\n",
    "        p = batch_x[:, 1, :]\n",
    "        o2 = batch_x[:, 2, :]\n",
    "        o1f = batch_y[:, 0, :]\n",
    "\n",
    "        r1 = model.forward1(o1, p)\n",
    "        r2 = model.forward2(p, o2)\n",
    "        u = model.forward3(r1, r2)\n",
    "        e = model.output(u)\n",
    "#         print(e.shape)\n",
    "\n",
    "        r1f = model.forward1(o1f, p)\n",
    "        uf = model.forward3(r1f, r2)\n",
    "        ef = model.output(uf)\n",
    "#         print(ef.shape)\n",
    "        \n",
    "        \n",
    "        dif = nn.ReLU()(0.5 + ef - e)\n",
    "        \n",
    "        loss = criterion(dif, torch.Tensor([0]*dif.size(0)*1).resize(dif.size(0),1))\n",
    "\n",
    "        loss.backward()\n",
    "        optimizer.step()\n",
    "\n",
    "        running_loss = np.append(running_loss, loss.item())\n",
    "            \n",
    "        \n",
    "#         print( running_loss )\n",
    "\n",
    "\n",
    "print('Finished Training')"
   ]
  },
  {
   "cell_type": "code",
   "execution_count": null,
   "id": "eacbbd91",
   "metadata": {
    "scrolled": true
   },
   "outputs": [],
   "source": [
    "# for epoch in range(10):\n",
    "#     for i in range(e2v.shape[0]):\n",
    "# #         if step%100 == 1:\n",
    "# #             print('Epoch: ', epoch, '| step: ', step, end='  ')\n",
    "# #             print( running_loss )\n",
    "# #             print(sum(sum(svo2u(['鄉林', '指出', '主要來源爲等山海匯營收']) - svo2u(['邑錡', '指出', '主要來源爲等山海匯營收']))))\n",
    "# #             print(svo2u(['邑錡', '指出', '主要來源爲等山海匯營收']))\n",
    "# #         o1 = batch_x[:, 0, :]\n",
    "# #         p = batch_x[:, 1, :]\n",
    "# #         o2 = batch_x[:, 2, :]\n",
    "# #         o1f = batch_y[:, 0, :]\n",
    "#         o1 = e2v[i, 0, :].resize(1, 100)\n",
    "#         p = e2v[i, 1, :].resize(1, 100)\n",
    "#         o2 = e2v[i, 2, :].resize(1, 100)\n",
    "#         o1f = e2vf[i, 0, :].resize(1, 100)\n",
    "                \n",
    "#         running_loss = 1\n",
    "        \n",
    "#         while running_loss > 0.1:\n",
    "\n",
    "#             r1 = model.forward1(o1, p)\n",
    "#             r2 = model.forward2(p, o2)\n",
    "#             u = model.forward3(r1, r2)\n",
    "#             e = model.output(u)\n",
    "#     #         print(e.shape)\n",
    "\n",
    "#             r1f = model.forward1(o1f, p)\n",
    "#             uf = model.forward3(r1f, r2)\n",
    "#             ef = model.output(uf)\n",
    "#     #         print(ef.shape)\n",
    "        \n",
    "        \n",
    "#             dif = nn.ReLU()(1 + ef - e)\n",
    "        \n",
    "#             criterion = loss(dif, torch.Tensor([0]*dif.size(0)*1).resize(dif.size(0),1))\n",
    "#             criterion.backward()\n",
    "#             optimizer.step()\n",
    "#             running_loss = criterion.item()\n",
    "#             print( running_loss )\n",
    "\n",
    "\n",
    "# print('Finished Training')"
   ]
  },
  {
   "cell_type": "code",
   "execution_count": 26,
   "id": "6262240a",
   "metadata": {},
   "outputs": [],
   "source": [
    "# svo2u(['鄉林', '指出', '主要來源爲等山海匯營收']) - svo2u(['華爲通訊設備工研院', '買', '臺積電'])"
   ]
  },
  {
   "cell_type": "markdown",
   "id": "b8daf269",
   "metadata": {},
   "source": [
    "# 測試看看"
   ]
  },
  {
   "cell_type": "code",
   "execution_count": null,
   "id": "24713b19",
   "metadata": {},
   "outputs": [],
   "source": [
    "dif"
   ]
  },
  {
   "cell_type": "code",
   "execution_count": 43,
   "id": "6b8698ec",
   "metadata": {},
   "outputs": [
    {
     "data": {
      "text/plain": [
       "torch.Size([234226, 100])"
      ]
     },
     "execution_count": 43,
     "metadata": {},
     "output_type": "execute_result"
    }
   ],
   "source": [
    "o1.shape"
   ]
  },
  {
   "cell_type": "code",
   "execution_count": 44,
   "id": "48a87217",
   "metadata": {},
   "outputs": [
    {
     "data": {
      "text/plain": [
       "torch.Size([100, 234226])"
      ]
     },
     "execution_count": 44,
     "metadata": {},
     "output_type": "execute_result"
    }
   ],
   "source": [
    "r1.shape"
   ]
  },
  {
   "cell_type": "code",
   "execution_count": 49,
   "id": "ea7ca057",
   "metadata": {},
   "outputs": [],
   "source": [
    "def svo2u(svo):\n",
    "    (s, v, o) = svo\n",
    "    svo = []\n",
    "    for i in (s, v, o):\n",
    "        svo.append( torch.Tensor(w2v_model.wv.get_vector(i, norm=True)).view(1, 100) )\n",
    "    \n",
    "    svo1 = model.forward1(svo[0], svo[1])\n",
    "    svo2 = model.forward2(svo[1], svo[2])\n",
    "    svo3 = model.forward3(svo1, svo2)\n",
    "\n",
    "    return svo3"
   ]
  },
  {
   "cell_type": "code",
   "execution_count": 30,
   "id": "969f3e4e",
   "metadata": {},
   "outputs": [],
   "source": [
    "# print(svo2u(['華爲通訊設備工研院', '買', '臺積電']))"
   ]
  },
  {
   "cell_type": "code",
   "execution_count": 31,
   "id": "94681d14",
   "metadata": {
    "scrolled": true
   },
   "outputs": [],
   "source": [
    "# print(svo2u(['第一季Mini有營收貢獻', '擔憂', '華爲設備']))"
   ]
  },
  {
   "cell_type": "code",
   "execution_count": 74,
   "id": "41450c5c",
   "metadata": {},
   "outputs": [],
   "source": [
    "# w2v_model.wv.index_to_key[e2i[90, :, 0][0]]"
   ]
  },
  {
   "cell_type": "code",
   "execution_count": 75,
   "id": "3c8419e1",
   "metadata": {},
   "outputs": [],
   "source": [
    "# w2v_model.wv.index_to_key[e2i[90, :, 0][1]]"
   ]
  },
  {
   "cell_type": "code",
   "execution_count": 76,
   "id": "7f679407",
   "metadata": {},
   "outputs": [],
   "source": [
    "# w2v_model.wv.index_to_key[e2i[90, :, 0][2]]"
   ]
  },
  {
   "cell_type": "code",
   "execution_count": 77,
   "id": "dd2e710e",
   "metadata": {},
   "outputs": [],
   "source": [
    "# w2v_model.wv.index_to_key[F[90]]"
   ]
  },
  {
   "cell_type": "code",
   "execution_count": 25,
   "id": "5d40160c",
   "metadata": {
    "scrolled": true
   },
   "outputs": [
    {
     "data": {
      "text/plain": [
       "tensor([[   7.4264,  -17.9872,   24.3473,  -39.7438,   72.6830,   -0.7737,\n",
       "          -27.6024,   23.5880,  -38.8316,   95.3415,   -0.1801,  -39.7664,\n",
       "          -22.6885,   32.8558,   60.8105,  -42.9498,  -75.0253,  -23.8930,\n",
       "           69.4883,   -1.8417,   17.5192,   30.0481,  -41.6877,  -28.2234,\n",
       "           55.6664,   41.7424,  -71.0879,    3.7996,  -21.9735,  -28.8213,\n",
       "          -29.4160,  -90.5990,   33.0504,   32.6906,  -52.4963,   38.5950,\n",
       "          -57.7902,  -76.0032,  -28.2617,   10.9936,  -14.0754,   48.3722,\n",
       "           33.1129,   47.5588,   23.7550,  -23.4642,   33.2281,   58.2666,\n",
       "           18.5092,   44.9043,  -14.3183,  -13.4200,   17.3008,  -44.0882,\n",
       "            2.8368,  -36.6770,  -25.1619,  -56.5923,  -48.3192,  -21.0515,\n",
       "          -43.9980,   -6.4534,   53.8363,   11.3566,  -23.5878,   19.2693,\n",
       "           45.0731,    1.0722, -141.3262,  -21.7612,    4.9749,   22.2768,\n",
       "          -75.5074,   50.9332,   10.4922,  -16.4117,   30.2537,   40.4629,\n",
       "           24.3516,   11.0976,  -11.7126,  -41.2805,  -34.7611,   33.4111,\n",
       "           56.5428,   -0.6893,  -20.8546,  -21.7016,    1.1349,   13.5517,\n",
       "           27.9536,  -41.1594,   63.3005,   -7.7012,   32.4594,  -26.5490,\n",
       "           19.0664,  -28.8717,  -29.7028,    6.4446]], grad_fn=<AddBackward0>)"
      ]
     },
     "execution_count": 25,
     "metadata": {},
     "output_type": "execute_result"
    }
   ],
   "source": [
    "# svo2u(['鄉林', '指出', '主要來源爲等山海匯營收'])\n",
    "# svo2u(['邑錡', '指出', '主要來源爲等山海匯營收'])"
   ]
  },
  {
   "cell_type": "code",
   "execution_count": 23,
   "id": "3f72c414",
   "metadata": {
    "scrolled": true
   },
   "outputs": [
    {
     "data": {
      "text/plain": [
       "tensor([[ 6.8595e+01, -6.0982e+01, -2.5445e+01, -4.6001e+01,  3.5223e+00,\n",
       "         -5.1961e+01, -9.3793e+01, -2.5534e+01, -7.6591e+01,  7.6123e+01,\n",
       "         -6.2041e+01, -5.0933e+01, -5.7119e+01,  5.1197e+01,  5.3676e+01,\n",
       "          6.2258e+01,  5.2669e+01, -1.1487e+01, -4.4539e+01, -9.4199e+01,\n",
       "         -2.2562e+01,  1.1781e+02,  6.3316e-01, -3.0999e+01, -2.4633e+02,\n",
       "         -3.3860e-01, -1.4954e+01, -3.9811e+01, -2.4549e+01, -6.5615e+01,\n",
       "          1.0311e+02,  4.5953e+01, -6.5332e+01,  7.4076e+00, -2.5903e+01,\n",
       "         -1.7802e+00, -4.7396e+01, -6.1511e+01,  2.8055e+01,  1.3674e+02,\n",
       "         -7.7290e+01, -1.1844e+01,  8.1344e+01, -7.8805e+00,  6.5377e+01,\n",
       "          5.0213e+01, -6.5164e+01,  1.6776e+02,  6.2573e+01,  5.1886e+01,\n",
       "         -1.4826e+02, -1.5175e+02, -4.4672e+01,  6.0226e+01,  1.4435e+02,\n",
       "         -3.7479e+01, -8.9722e+01,  1.2951e+02, -1.0400e+02, -9.1555e+01,\n",
       "          7.6563e+01, -2.4056e+01, -2.1194e+02,  8.9885e+00, -4.6184e+01,\n",
       "         -1.1529e+02, -5.2778e+01,  5.0163e+01,  4.2949e+01,  6.9584e+01,\n",
       "         -6.3094e+01, -8.8928e+00,  6.6933e+00, -9.4399e+01, -1.8836e+00,\n",
       "         -3.7940e+01,  1.4403e+02, -3.1085e+01,  8.8792e+01,  7.8353e+01,\n",
       "          4.9510e+01, -3.0524e+01, -9.4775e+01, -1.8260e+01, -5.7585e+01,\n",
       "         -1.4304e-01,  7.4912e+01,  1.0179e+00, -9.0264e+01,  1.4145e+02,\n",
       "         -7.0938e+01,  8.6311e+01, -2.9226e+01,  3.0855e+01,  2.6966e+01,\n",
       "          2.2441e+01,  6.5927e+00,  5.3170e+01, -1.3213e+01, -1.1812e+00]],\n",
       "       grad_fn=<AddBackward0>)"
      ]
     },
     "execution_count": 23,
     "metadata": {},
     "output_type": "execute_result"
    }
   ],
   "source": [
    "svo2u(['邑錡', '指出', '主要來源爲等山海匯營收'])"
   ]
  },
  {
   "cell_type": "code",
   "execution_count": 34,
   "id": "13717c74",
   "metadata": {
    "scrolled": true
   },
   "outputs": [],
   "source": [
    "# svo2u(['邑錡', '指出', '主要來源爲等山海匯營收'])"
   ]
  },
  {
   "cell_type": "code",
   "execution_count": 20,
   "id": "15860ceb",
   "metadata": {},
   "outputs": [
    {
     "data": {
      "text/plain": [
       "'科技研發單位'"
      ]
     },
     "execution_count": 20,
     "metadata": {},
     "output_type": "execute_result"
    }
   ],
   "source": [
    "w2v_model.wv.index_to_key[3]"
   ]
  },
  {
   "cell_type": "code",
   "execution_count": 44,
   "id": "525d24f7",
   "metadata": {
    "scrolled": true
   },
   "outputs": [],
   "source": [
    "# print(svo2u(['外資', '買', '臺積電']))\n",
    "# print(svo2u(['買', '買', '臺積電']))\n",
    "# print(svo2u(['華爲通訊設備工研院', '買', '臺積電'']))"
   ]
  },
  {
   "cell_type": "code",
   "execution_count": 18,
   "id": "3496f6d4",
   "metadata": {
    "scrolled": true
   },
   "outputs": [],
   "source": [
    "# print(svo2u(['臺積電', '買', '外資']))"
   ]
  },
  {
   "cell_type": "code",
   "execution_count": 19,
   "id": "0dd79661",
   "metadata": {},
   "outputs": [
    {
     "data": {
      "text/plain": [
       "3619"
      ]
     },
     "execution_count": 19,
     "metadata": {},
     "output_type": "execute_result"
    }
   ],
   "source": [
    "w2v_model.wv.key_to_index['買']"
   ]
  },
  {
   "cell_type": "code",
   "execution_count": 20,
   "id": "79b72ae6",
   "metadata": {},
   "outputs": [
    {
     "data": {
      "text/plain": [
       "'華爲通訊設備工研院'"
      ]
     },
     "execution_count": 20,
     "metadata": {},
     "output_type": "execute_result"
    }
   ],
   "source": [
    "w2v_model.wv.index_to_key[12]"
   ]
  },
  {
   "cell_type": "code",
   "execution_count": 21,
   "id": "7a0012cb",
   "metadata": {},
   "outputs": [
    {
     "data": {
      "text/plain": [
       "net(\n",
       "  (ln1): Bilinear(in1_features=100, in2_features=100, out_features=100, bias=False)\n",
       "  (ln1_2): Linear(in_features=200, out_features=100, bias=True)\n",
       "  (ln2): Bilinear(in1_features=100, in2_features=100, out_features=100, bias=False)\n",
       "  (ln2_2): Linear(in_features=200, out_features=100, bias=True)\n",
       "  (ln3): Bilinear(in1_features=100, in2_features=100, out_features=100, bias=False)\n",
       "  (ln3_2): Linear(in_features=200, out_features=100, bias=True)\n",
       "  (tanh): Tanh()\n",
       ")"
      ]
     },
     "execution_count": 21,
     "metadata": {},
     "output_type": "execute_result"
    }
   ],
   "source": [
    "model"
   ]
  },
  {
   "cell_type": "code",
   "execution_count": 21,
   "id": "ff5ae9da",
   "metadata": {},
   "outputs": [
    {
     "data": {
      "text/plain": [
       "<generator object Module.parameters at 0x166774200>"
      ]
     },
     "execution_count": 21,
     "metadata": {},
     "output_type": "execute_result"
    }
   ],
   "source": [
    "model.parameters()"
   ]
  },
  {
   "cell_type": "code",
   "execution_count": 22,
   "id": "06748e62",
   "metadata": {},
   "outputs": [
    {
     "name": "stdout",
     "output_type": "stream",
     "text": [
      "ln1.weight\n",
      "3344.447194345406\n",
      "ln1_2.weight\n",
      "62.452280047895236\n",
      "ln1_2.bias\n",
      "1.0665039384009418\n",
      "ln2.weight\n",
      "3331.638947829697\n",
      "ln2_2.weight\n",
      "39.31803713618203\n",
      "ln2_2.bias\n",
      "12.054209794507187\n",
      "ln3.weight\n",
      "3352.361598860521\n",
      "ln3_2.weight\n",
      "50.94514081310925\n",
      "ln3_2.bias\n",
      "0.1673342066121677\n"
     ]
    }
   ],
   "source": [
    "for i in model.state_dict().keys():\n",
    "    print(i)\n",
    "    print(np.sum(torch.Tensor.tolist(model.state_dict()[i]**2)))"
   ]
  },
  {
   "cell_type": "markdown",
   "id": "345624e3",
   "metadata": {},
   "source": [
    "## What is a state_dict?\n",
    "\n",
    "In PyTorch, the learnable parameters (i.e. weights and biases) of an torch.nn.Module model are contained in the model’s parameters (accessed with model.parameters()). A state_dict is simply a Python dictionary object that maps each layer to its parameter tensor. Note that only layers with learnable parameters (convolutional layers, linear layers, etc.) and registered buffers (batchnorm’s running_mean) have entries in the model’s state_dict. Optimizer objects (torch.optim) also have a state_dict, which contains information about the optimizer’s state, as well as the hyperparameters used.\n",
    "\n",
    "Because state_dict objects are Python dictionaries, they can be easily saved, updated, altered, and restored, adding a great deal of modularity to PyTorch models and optimizers."
   ]
  },
  {
   "cell_type": "code",
   "execution_count": 17,
   "id": "1f93d805",
   "metadata": {},
   "outputs": [
    {
     "name": "stdout",
     "output_type": "stream",
     "text": [
      "Model's state_dict:\n",
      "ln1.weight \t torch.Size([100, 100, 100])\n",
      "ln1_2.weight \t torch.Size([100, 200])\n",
      "ln1_2.bias \t torch.Size([100])\n",
      "ln2.weight \t torch.Size([100, 100, 100])\n",
      "ln2_2.weight \t torch.Size([100, 200])\n",
      "ln2_2.bias \t torch.Size([100])\n",
      "ln3.weight \t torch.Size([100, 100, 100])\n",
      "ln3_2.weight \t torch.Size([100, 200])\n",
      "ln3_2.bias \t torch.Size([100])\n",
      "Optimizer's state_dict:\n",
      "state \t {0: {'momentum_buffer': tensor([[[-7.4026e-02,  1.1686e-02,  8.5686e-03,  ...,  2.1604e-02,\n",
      "           4.3341e-02, -2.0786e-02],\n",
      "         [ 2.1401e-02,  2.0266e-02,  5.6518e-03,  ..., -8.7701e-03,\n",
      "          -2.7316e-02, -3.3756e-03],\n",
      "         [-6.9891e-02,  1.1735e-02,  3.4517e-03,  ..., -2.1126e-03,\n",
      "           8.2218e-03,  8.2959e-03],\n",
      "         ...,\n",
      "         [ 2.1288e-02, -1.7458e-02,  8.0691e-03,  ...,  7.4530e-03,\n",
      "           1.5373e-02,  1.1577e-02],\n",
      "         [-2.7825e-02,  3.5964e-02,  2.0409e-03,  ...,  2.4242e-02,\n",
      "           5.9370e-05, -3.4528e-02],\n",
      "         [ 9.3827e-02, -7.9751e-03,  6.9980e-03,  ..., -1.9639e-02,\n",
      "          -1.8709e-02,  3.9147e-02]],\n",
      "\n",
      "        [[ 6.0956e-02, -1.0218e-02, -8.1290e-03,  ..., -2.4137e-02,\n",
      "          -3.3979e-02,  1.5764e-02],\n",
      "         [-7.4658e-03, -1.6942e-02, -1.4287e-03,  ...,  1.1356e-02,\n",
      "           2.0353e-02,  4.2427e-03],\n",
      "         [ 4.0117e-02, -3.8727e-03, -6.6675e-03,  ..., -1.5416e-03,\n",
      "          -1.0474e-02, -5.2579e-03],\n",
      "         ...,\n",
      "         [-1.2890e-02,  1.1892e-02, -8.0783e-03,  ..., -4.5594e-03,\n",
      "          -1.0757e-02, -9.1873e-03],\n",
      "         [ 1.7377e-02, -2.8296e-02, -3.2675e-03,  ..., -1.9641e-02,\n",
      "           5.7597e-03,  2.5957e-02],\n",
      "         [-6.2877e-02,  8.1357e-03, -5.7516e-03,  ...,  7.3802e-03,\n",
      "           1.2105e-02, -2.5127e-02]],\n",
      "\n",
      "        [[-3.2610e-02,  3.6877e-03,  4.1313e-03,  ...,  1.1204e-02,\n",
      "           1.9137e-02, -8.9809e-03],\n",
      "         [ 4.3643e-03,  7.9712e-03,  1.2848e-03,  ..., -5.4351e-03,\n",
      "          -1.2893e-02, -1.9835e-03],\n",
      "         [-1.4156e-02,  3.2519e-03,  1.8123e-03,  ..., -1.1163e-03,\n",
      "           3.9947e-03,  4.3455e-03],\n",
      "         ...,\n",
      "         [ 7.0288e-03, -6.3361e-03,  5.6404e-03,  ...,  3.8990e-03,\n",
      "           5.5905e-03,  4.1134e-03],\n",
      "         [-8.5538e-03,  1.6442e-02,  3.0900e-03,  ...,  1.3253e-02,\n",
      "          -4.0006e-03, -1.9340e-02],\n",
      "         [ 3.6957e-02, -5.1592e-03,  1.2501e-03,  ..., -7.6310e-03,\n",
      "          -8.0774e-03,  1.1426e-02]],\n",
      "\n",
      "        ...,\n",
      "\n",
      "        [[-1.3149e-02,  3.4040e-03,  3.3415e-03,  ..., -1.3076e-03,\n",
      "           2.2830e-03, -8.2464e-03],\n",
      "         [-2.6170e-03,  3.5637e-03,  2.0916e-03,  ..., -2.4902e-03,\n",
      "          -8.3715e-04, -4.5669e-03],\n",
      "         [-1.4810e-02,  7.3052e-03,  8.6844e-04,  ..., -4.0235e-03,\n",
      "          -2.6500e-03, -6.6078e-05],\n",
      "         ...,\n",
      "         [ 5.6877e-03, -5.0838e-03, -2.3271e-03,  ...,  3.8362e-03,\n",
      "           1.3393e-03,  3.0807e-03],\n",
      "         [-5.9013e-04,  7.6970e-03,  3.9226e-04,  ...,  2.9438e-03,\n",
      "           5.3789e-03, -1.4214e-03],\n",
      "         [ 3.1076e-02, -1.3307e-03,  1.8312e-03,  ..., -6.2890e-03,\n",
      "          -1.5026e-03,  1.3155e-02]],\n",
      "\n",
      "        [[-9.4266e-02,  1.3648e-02,  1.4120e-02,  ...,  2.8807e-02,\n",
      "           5.5912e-02, -2.6463e-02],\n",
      "         [ 2.5884e-02,  2.4870e-02,  5.8577e-03,  ..., -1.5007e-02,\n",
      "          -3.6209e-02, -1.2996e-03],\n",
      "         [-8.1356e-02,  1.1586e-02,  3.5016e-03,  ...,  2.9360e-03,\n",
      "           2.1317e-02,  1.3990e-02],\n",
      "         ...,\n",
      "         [ 3.0323e-02, -1.8107e-02,  1.2702e-02,  ...,  5.6667e-03,\n",
      "           1.4880e-02,  1.3943e-02],\n",
      "         [-4.5800e-02,  4.6143e-02,  5.0094e-03,  ...,  3.7327e-02,\n",
      "          -7.7823e-03, -4.6494e-02],\n",
      "         [ 9.9880e-02, -9.3557e-03,  1.1982e-02,  ..., -2.3081e-02,\n",
      "          -2.5182e-02,  4.2568e-02]],\n",
      "\n",
      "        [[ 4.9830e-03, -2.4934e-03,  3.3635e-03,  ..., -3.2492e-03,\n",
      "          -6.1803e-03,  1.5916e-03],\n",
      "         [-5.0072e-03, -3.8565e-03, -1.6868e-03,  ...,  3.6817e-04,\n",
      "           5.3413e-03, -1.4151e-04],\n",
      "         [ 1.0834e-02,  7.0508e-04, -2.6711e-03,  ...,  2.5145e-03,\n",
      "           7.0978e-04, -3.1691e-03],\n",
      "         ...,\n",
      "         [-1.5545e-04,  9.8524e-04, -9.4821e-05,  ..., -3.1515e-03,\n",
      "          -4.3598e-03, -1.4400e-03],\n",
      "         [-2.9588e-03, -2.7632e-03, -3.1296e-04,  ..., -2.1511e-03,\n",
      "           4.6412e-03,  3.1395e-03],\n",
      "         [-2.7818e-03,  7.5845e-04, -2.2829e-03,  ..., -2.4145e-04,\n",
      "           1.7323e-03, -6.6689e-03]]])}, 1: {'momentum_buffer': tensor([[ 0.5265, -0.1498,  0.6961,  ..., -0.0144, -0.2082, -0.0697],\n",
      "        [-0.4479,  0.1027, -0.4677,  ...,  0.0381,  0.1567,  0.0517],\n",
      "        [ 0.2229, -0.0515,  0.1841,  ..., -0.0140, -0.0876, -0.0233],\n",
      "        ...,\n",
      "        [ 0.0894,  0.0199,  0.1914,  ...,  0.0488, -0.0189,  0.0225],\n",
      "        [ 0.6624, -0.2345,  0.8188,  ..., -0.0551, -0.2986, -0.1263],\n",
      "        [-0.0600,  0.0521, -0.0775,  ...,  0.0223,  0.0307,  0.0138]])}, 2: {'momentum_buffer': tensor([ 0.5441, -0.7667,  0.4960, -0.4320, -0.5259, -0.8561,  0.6556, -0.7180,\n",
      "         0.5608,  1.0652,  0.4430,  0.5541,  0.1758,  0.1329,  0.3001, -0.2505,\n",
      "        -0.5998,  0.8296, -1.0745,  0.5826,  0.6230, -0.4630, -0.1622, -0.1150,\n",
      "        -1.2993, -1.0132, -0.0859, -1.9498,  0.6287, -1.2064,  0.0075, -1.0084,\n",
      "        -0.1063,  0.0306,  0.3001,  0.6334,  0.5935, -0.8601,  0.3200,  0.5991,\n",
      "         0.8183,  0.5074,  0.5353,  0.7820, -1.4045, -0.5762,  1.2873,  1.5583,\n",
      "         1.3599,  0.7731, -0.9558,  0.2811,  0.3759,  0.2695, -0.6081,  0.3730,\n",
      "        -0.0107,  1.2829,  0.2314, -0.1468,  0.8671,  0.2363,  0.9717,  0.1708,\n",
      "        -1.2441, -0.8247,  0.1548, -1.1759, -0.1676,  0.9682,  1.2371, -0.6745,\n",
      "        -0.6307,  0.9851, -0.4994,  0.3408, -0.3409,  0.5910,  1.2318,  0.0728,\n",
      "         0.1764,  0.9978, -0.5048, -0.1801, -0.7679, -0.4642,  0.9403,  0.3601,\n",
      "         0.1240, -0.7390, -1.5858,  0.4572, -0.5471, -0.0215,  0.2092, -0.0677,\n",
      "         0.0324,  0.3647,  0.6209,  0.0540])}, 3: {'momentum_buffer': tensor([[[ 5.7401e-03, -2.0569e-03,  3.2279e-04,  ...,  6.1007e-03,\n",
      "           3.7568e-03,  4.5827e-03],\n",
      "         [ 1.1672e-03, -1.9397e-03, -5.0766e-03,  ..., -2.5586e-03,\n",
      "           1.1437e-03, -7.6989e-04],\n",
      "         [-6.2755e-04, -1.1697e-03, -1.7716e-03,  ...,  1.4344e-03,\n",
      "           2.5431e-04,  3.3828e-03],\n",
      "         ...,\n",
      "         [-3.4131e-03,  2.9050e-03,  7.3985e-04,  ..., -7.0909e-05,\n",
      "           1.9137e-03,  3.4365e-04],\n",
      "         [ 1.5329e-03,  7.2547e-04,  8.6916e-04,  ..., -2.0225e-05,\n",
      "           2.3138e-04,  2.2253e-03],\n",
      "         [ 2.5896e-03, -2.8791e-03, -4.1860e-04,  ...,  2.4348e-03,\n",
      "          -5.1783e-03,  2.1103e-03]],\n",
      "\n",
      "        [[-3.4115e-03,  4.2909e-04,  1.3437e-03,  ..., -2.2243e-03,\n",
      "          -5.2874e-03, -2.1181e-03],\n",
      "         [ 4.0654e-05,  1.8435e-03,  2.6593e-03,  ...,  1.6343e-03,\n",
      "          -7.2182e-04,  1.6842e-04],\n",
      "         [ 1.0624e-03,  7.2680e-04,  2.2799e-03,  ..., -9.9157e-04,\n",
      "           2.8672e-04, -2.2615e-03],\n",
      "         ...,\n",
      "         [ 2.7334e-03, -2.6230e-03, -9.7052e-04,  ..., -1.1924e-03,\n",
      "          -5.4862e-04,  1.1223e-03],\n",
      "         [-2.1134e-03, -1.4500e-03, -4.1126e-04,  ..., -4.1398e-04,\n",
      "           2.2052e-03, -1.9845e-03],\n",
      "         [-4.1247e-03,  1.0715e-03, -8.0070e-04,  ..., -1.0194e-03,\n",
      "           4.0139e-03, -1.5847e-03]],\n",
      "\n",
      "        [[ 1.9150e-03,  2.3435e-05, -3.4675e-04,  ...,  6.4847e-06,\n",
      "           1.4422e-03, -2.7572e-03],\n",
      "         [-5.8618e-04,  3.7641e-04, -2.8869e-03,  ..., -2.0079e-03,\n",
      "           3.3606e-04, -1.5264e-04],\n",
      "         [ 1.9823e-04,  2.1531e-04, -1.0197e-03,  ..., -1.9084e-03,\n",
      "          -5.8040e-04, -1.2274e-03],\n",
      "         ...,\n",
      "         [ 2.4418e-03,  2.4816e-03,  1.2840e-03,  ...,  1.4659e-04,\n",
      "           3.0869e-04,  1.0362e-04],\n",
      "         [ 7.9156e-04,  7.0102e-04, -4.1899e-04,  ...,  9.1720e-04,\n",
      "          -1.1617e-03,  1.8657e-03],\n",
      "         [ 1.0079e-03, -1.2155e-03,  5.4262e-04,  ...,  1.4641e-03,\n",
      "          -2.3979e-03,  5.8154e-04]],\n",
      "\n",
      "        ...,\n",
      "\n",
      "        [[-5.0841e-03, -2.9881e-03,  1.1082e-03,  ..., -4.9270e-03,\n",
      "          -7.0425e-04, -3.4778e-03],\n",
      "         [-1.3426e-04,  6.9316e-04,  2.9914e-03,  ...,  2.1933e-03,\n",
      "          -1.5336e-03,  7.8246e-04],\n",
      "         [-6.4469e-04,  8.1321e-04,  1.9004e-03,  ...,  1.3657e-03,\n",
      "          -5.0616e-04, -1.6759e-03],\n",
      "         ...,\n",
      "         [-5.3631e-05, -3.4774e-03, -8.0243e-04,  ..., -1.0475e-03,\n",
      "           8.4418e-04, -3.0451e-04],\n",
      "         [-2.4034e-03, -8.7955e-04, -4.8959e-04,  ..., -1.4752e-04,\n",
      "           6.6266e-04, -8.9545e-04],\n",
      "         [-3.4991e-03, -1.9070e-04, -1.0650e-03,  ..., -2.3881e-03,\n",
      "           2.4471e-03, -1.6792e-03]],\n",
      "\n",
      "        [[-8.9916e-04,  1.9100e-03, -5.7289e-04,  ..., -6.0812e-03,\n",
      "          -1.1522e-03, -1.2606e-03],\n",
      "         [-1.5931e-03,  9.6939e-04,  1.4642e-03,  ...,  3.8294e-04,\n",
      "          -1.0789e-03, -1.3503e-03],\n",
      "         [ 1.4549e-03, -1.0465e-03,  7.8590e-04,  ..., -7.7151e-04,\n",
      "           5.1580e-04, -2.3667e-03],\n",
      "         ...,\n",
      "         [-1.3163e-03, -5.4395e-04, -7.6613e-04,  ..., -5.4521e-04,\n",
      "          -2.0702e-04, -1.5426e-05],\n",
      "         [ 1.3436e-04,  5.1262e-04, -4.2554e-04,  ...,  1.5101e-03,\n",
      "           5.0931e-04, -7.5520e-04],\n",
      "         [-4.2389e-04,  6.6233e-04, -7.9752e-04,  ..., -2.4715e-03,\n",
      "           2.9414e-04, -1.9038e-03]],\n",
      "\n",
      "        [[ 6.8402e-03,  3.3459e-04, -2.8874e-03,  ...,  3.4883e-03,\n",
      "          -2.4265e-03,  8.7255e-03],\n",
      "         [-5.8230e-05, -1.9110e-03, -4.0339e-03,  ..., -2.5831e-03,\n",
      "           4.7354e-04, -6.6266e-04],\n",
      "         [ 1.0201e-03, -1.5274e-03, -2.0570e-03,  ..., -1.5127e-03,\n",
      "          -1.2727e-04,  4.1481e-03],\n",
      "         ...,\n",
      "         [-2.9702e-03,  2.8563e-03,  1.5126e-03,  ..., -1.4861e-03,\n",
      "          -8.8907e-04, -5.9246e-04],\n",
      "         [ 3.4468e-03, -1.1475e-04, -9.6127e-04,  ...,  1.4220e-03,\n",
      "           1.0997e-03,  4.4510e-04],\n",
      "         [ 5.5170e-03, -7.6429e-04, -8.1636e-04,  ..., -3.4489e-04,\n",
      "          -3.2817e-03,  3.3673e-03]]])}, 4: {'momentum_buffer': tensor([[-3.5020e-01,  2.8911e-02, -4.5362e-02,  ..., -5.1484e-02,\n",
      "          2.0845e-02, -3.8486e-02],\n",
      "        [ 2.3077e-01, -1.4521e-02,  2.0238e-02,  ...,  2.5791e-02,\n",
      "         -2.4798e-03,  2.2129e-02],\n",
      "        [-1.1581e-01,  3.4440e-03, -2.1438e-03,  ...,  7.5177e-03,\n",
      "          6.4083e-03, -2.5653e-03],\n",
      "        ...,\n",
      "        [ 2.2988e-01, -8.5171e-03,  1.2832e-02,  ...,  2.5901e-02,\n",
      "         -3.0908e-02,  3.9778e-02],\n",
      "        [ 6.8592e-02,  1.4221e-04,  4.4648e-03,  ...,  2.7469e-02,\n",
      "         -1.8970e-03,  2.8993e-03],\n",
      "        [-2.9253e-01,  3.1214e-02, -3.2962e-02,  ..., -8.7291e-03,\n",
      "          4.2494e-02, -4.8339e-02]])}, 5: {'momentum_buffer': tensor([ 3.0150, -2.0437,  0.7840,  0.2016, -1.5221, -1.4925, -0.0778, -2.8129,\n",
      "        -2.4442,  0.8165,  0.4413, -0.2386, -1.4900, -0.6987,  0.2303, -2.6513,\n",
      "         1.4435,  0.0295, -1.5021,  2.1978,  1.4956,  2.1062, -1.8841,  0.5669,\n",
      "         0.9032,  1.3420,  0.7486,  2.7609,  0.0323, -1.5631, -0.6695,  1.1920,\n",
      "         3.0675,  0.3012, -0.3904,  0.8675, -1.1033,  0.4447, -1.0814, -1.0552,\n",
      "        -2.2189,  1.3498,  1.2489,  1.4251, -2.3689, -0.2686, -2.0114, -0.3536,\n",
      "        -1.6955,  0.1296,  2.2737, -0.4400, -1.7757,  2.9289,  1.4331, -3.0978,\n",
      "         2.0826,  3.5901, -1.5429,  2.7416, -1.3238,  1.7396, -2.4538,  2.3068,\n",
      "         1.5218,  1.3037,  1.5172,  0.2930,  1.0583, -0.1922,  2.5751, -3.0493,\n",
      "         0.3153,  2.1408,  1.3356, -0.7110,  0.0360,  0.5038,  0.0512,  0.3266,\n",
      "        -1.1785,  3.2704,  1.0867,  0.1698,  2.3936,  2.8415,  0.6120, -2.1924,\n",
      "         0.5806, -1.9218, -2.2585, -1.1034,  0.2842, -3.0177, -0.9520,  0.5685,\n",
      "        -0.5093, -1.8117, -0.5126,  2.5749])}, 6: {'momentum_buffer': tensor([[[-2.4144e-02,  1.1150e-02, -1.9768e-03,  ...,  1.4022e-02,\n",
      "           3.3766e-03, -1.5889e-02],\n",
      "         [ 4.0031e-02, -2.8997e-02,  1.0372e-02,  ..., -2.5190e-02,\n",
      "          -8.8329e-03,  3.1809e-02],\n",
      "         [-2.2787e-02,  1.3070e-02, -3.2606e-03,  ...,  1.4715e-02,\n",
      "           3.2267e-03, -1.8572e-02],\n",
      "         ...,\n",
      "         [ 1.2193e-02, -5.7519e-03, -7.9761e-04,  ..., -4.5749e-03,\n",
      "          -2.6159e-03,  6.9074e-03],\n",
      "         [-3.3807e-02,  2.3165e-02, -3.1639e-03,  ...,  1.8670e-02,\n",
      "           2.7487e-04, -3.0619e-02],\n",
      "         [ 1.5665e-02, -1.0090e-02,  2.4424e-03,  ..., -1.1365e-02,\n",
      "          -4.3417e-03,  1.4612e-02]],\n",
      "\n",
      "        [[-2.3186e-02,  1.2407e-02, -3.1918e-03,  ...,  1.5479e-02,\n",
      "           4.3272e-03, -1.6224e-02],\n",
      "         [ 2.6229e-02, -2.0510e-02,  8.4994e-03,  ..., -1.6927e-02,\n",
      "          -8.5333e-03,  2.1111e-02],\n",
      "         [ 3.4638e-03, -5.1963e-03,  4.2072e-03,  ..., -3.2512e-03,\n",
      "          -8.6480e-04,  4.0567e-03],\n",
      "         ...,\n",
      "         [ 9.7953e-03, -3.4138e-03, -1.4152e-03,  ..., -2.5387e-03,\n",
      "          -6.1940e-04,  4.9145e-03],\n",
      "         [-1.5592e-02,  1.0562e-02,  2.5951e-03,  ...,  7.0292e-03,\n",
      "          -1.4974e-03, -1.5038e-02],\n",
      "         [ 1.3034e-03,  3.1333e-04, -1.9303e-03,  ..., -9.9825e-04,\n",
      "          -4.3984e-04,  1.2158e-03]],\n",
      "\n",
      "        [[-2.6795e-02,  1.2957e-02, -2.5621e-03,  ...,  1.6516e-02,\n",
      "           4.0933e-03, -1.9020e-02],\n",
      "         [ 3.6730e-02, -2.5854e-02,  9.4680e-03,  ..., -2.2981e-02,\n",
      "          -7.6988e-03,  2.9080e-02],\n",
      "         [-1.6615e-02,  9.2069e-03, -2.1297e-03,  ...,  1.0676e-02,\n",
      "           2.0146e-03, -1.2747e-02],\n",
      "         ...,\n",
      "         [ 1.0907e-02, -4.7312e-03, -3.9824e-05,  ..., -4.0210e-03,\n",
      "          -3.3529e-03,  5.8263e-03],\n",
      "         [-4.4038e-02,  3.2194e-02, -7.7909e-03,  ...,  2.8100e-02,\n",
      "           2.7104e-03, -4.0686e-02],\n",
      "         [ 1.7839e-03,  5.4309e-04, -1.8974e-03,  ..., -1.0398e-03,\n",
      "          -1.4984e-03,  1.5752e-03]],\n",
      "\n",
      "        ...,\n",
      "\n",
      "        [[-2.4408e-02,  1.0632e-02, -1.0349e-03,  ...,  1.4185e-02,\n",
      "           3.2304e-03, -1.6032e-02],\n",
      "         [ 3.8501e-02, -2.7295e-02,  1.0266e-02,  ..., -2.4008e-02,\n",
      "          -8.1929e-03,  2.9881e-02],\n",
      "         [-1.0931e-02,  4.5920e-03,  4.7999e-04,  ...,  6.2329e-03,\n",
      "           6.1998e-04, -7.5192e-03],\n",
      "         ...,\n",
      "         [ 1.6092e-02, -7.7844e-03,  8.5820e-04,  ..., -7.1176e-03,\n",
      "          -2.7940e-03,  9.9524e-03],\n",
      "         [-3.9008e-02,  2.7466e-02, -4.2413e-03,  ...,  2.3461e-02,\n",
      "           2.3767e-03, -3.5218e-02],\n",
      "         [ 1.1104e-02, -7.0563e-03,  7.0413e-04,  ..., -8.0547e-03,\n",
      "          -3.6875e-03,  1.0266e-02]],\n",
      "\n",
      "        [[-2.7380e-02,  1.4545e-02, -3.6151e-03,  ...,  1.7048e-02,\n",
      "           4.3040e-03, -2.0030e-02],\n",
      "         [ 2.8346e-02, -1.9908e-02,  6.8509e-03,  ..., -1.6537e-02,\n",
      "          -5.9052e-03,  2.1449e-02],\n",
      "         [-1.3000e-02,  6.9491e-03, -3.3289e-04,  ...,  8.4226e-03,\n",
      "           1.9307e-03, -9.7935e-03],\n",
      "         ...,\n",
      "         [ 9.8982e-03, -4.0694e-03, -9.6074e-04,  ..., -3.2597e-03,\n",
      "          -1.5482e-03,  5.0775e-03],\n",
      "         [-3.0793e-02,  2.1694e-02, -2.7699e-03,  ...,  1.7764e-02,\n",
      "           1.0772e-03, -2.8443e-02],\n",
      "         [ 3.9708e-03, -1.0509e-03, -1.0773e-03,  ..., -2.3808e-03,\n",
      "          -1.2591e-03,  3.8089e-03]],\n",
      "\n",
      "        [[-2.2466e-02,  9.4605e-03, -1.7458e-03,  ...,  1.4244e-02,\n",
      "           3.9125e-03, -1.5038e-02],\n",
      "         [ 3.6970e-02, -2.5065e-02,  8.5682e-03,  ..., -2.1356e-02,\n",
      "          -6.0872e-03,  2.8676e-02],\n",
      "         [-1.7378e-02,  9.3891e-03, -1.0809e-03,  ...,  1.0526e-02,\n",
      "           2.3333e-03, -1.3081e-02],\n",
      "         ...,\n",
      "         [ 5.5898e-03, -1.2652e-03, -2.1739e-03,  ..., -5.7408e-04,\n",
      "          -2.5351e-03,  9.6989e-04],\n",
      "         [-2.4673e-02,  1.5052e-02,  1.5578e-03,  ...,  1.1355e-02,\n",
      "          -3.0560e-03, -2.2334e-02],\n",
      "         [ 5.8227e-03, -3.9141e-03,  1.7169e-03,  ..., -5.6851e-03,\n",
      "          -3.6914e-03,  6.3473e-03]]])}, 7: {'momentum_buffer': tensor([[ 0.1404, -0.1206,  0.0504,  ..., -0.0370,  0.0008,  0.0282],\n",
      "        [ 0.1333, -0.0834,  0.0085,  ..., -0.0467,  0.0143,  0.0468],\n",
      "        [ 0.1473, -0.1234,  0.0458,  ...,  0.0405,  0.0228, -0.0624],\n",
      "        ...,\n",
      "        [ 0.1440, -0.1193,  0.0359,  ..., -0.0075,  0.0113, -0.0031],\n",
      "        [ 0.1443, -0.0991,  0.0339,  ..., -0.0172,  0.0126,  0.0111],\n",
      "        [ 0.1362, -0.1279,  0.0510,  ..., -0.0282, -0.0180,  0.0023]])}, 8: {'momentum_buffer': tensor([-0.0869, -0.2313,  0.0736,  0.0519, -0.2261, -0.1153, -0.0157, -0.0682,\n",
      "         0.0152, -0.0640,  0.0482, -0.1853, -0.0466,  0.0495, -0.1148, -0.1752,\n",
      "        -0.0048, -0.0665, -0.1123, -0.0543, -0.0734, -0.0381, -0.1032, -0.0212,\n",
      "         0.0038, -0.2055, -0.1495,  0.2516, -0.2289, -0.2301, -0.0699, -0.1764,\n",
      "         0.0135, -0.0629, -0.0076, -0.0522,  0.0165, -0.2043, -0.0343, -0.0896,\n",
      "        -0.1544,  0.0560, -0.0213, -0.2041, -0.2100, -0.1663, -0.0912, -0.0529,\n",
      "        -0.1942, -0.0931, -0.0041,  0.0312,  0.0166, -0.1949, -0.1197,  0.0564,\n",
      "        -0.1378, -0.0380, -0.1544, -0.2472,  0.1807, -0.0596, -0.1103, -0.0104,\n",
      "         0.0515, -0.3271, -0.0549, -0.2822,  0.0041, -0.2056,  0.1889, -0.1167,\n",
      "        -0.0280, -0.2104,  0.0515, -0.2034, -0.1463,  0.0304, -0.0424, -0.3087,\n",
      "        -0.0563, -0.2623,  0.0047,  0.0437, -0.1340, -0.0115,  0.0422,  0.0346,\n",
      "        -0.1698, -0.0980, -0.0136, -0.1092, -0.0780, -0.0824, -0.0800,  0.0525,\n",
      "        -0.0802, -0.0354, -0.1099,  0.0747])}}\n",
      "param_groups \t [{'lr': 0.001, 'momentum': 0.1, 'dampening': 0, 'weight_decay': 0.0001, 'nesterov': False, 'maximize': False, 'params': [0, 1, 2, 3, 4, 5, 6, 7, 8]}]\n"
     ]
    }
   ],
   "source": [
    "# Print model's state_dict\n",
    "print(\"Model's state_dict:\")\n",
    "for param_tensor in model.state_dict():\n",
    "    print(param_tensor, \"\\t\", model.state_dict()[param_tensor].size())\n",
    "\n",
    "# Print optimizer's state_dict\n",
    "print(\"Optimizer's state_dict:\")\n",
    "for var_name in optimizer.state_dict():\n",
    "    print(var_name, \"\\t\", optimizer.state_dict()[var_name])"
   ]
  },
  {
   "cell_type": "markdown",
   "id": "2fdb9a01",
   "metadata": {},
   "source": [
    "## Saving & Loading Model for Inference\n",
    "\n",
    "## Save/Load state_dict (Recommended)"
   ]
  },
  {
   "cell_type": "code",
   "execution_count": 18,
   "id": "c3bcb24b",
   "metadata": {},
   "outputs": [],
   "source": [
    "# torch.save(model.state_dict(), './input/EB_Model_statedict.pth')"
   ]
  },
  {
   "cell_type": "code",
   "execution_count": 19,
   "id": "6a349f33",
   "metadata": {},
   "outputs": [],
   "source": [
    "# model.load_state_dict(torch.load(PATH))\n",
    "# model.eval()"
   ]
  },
  {
   "cell_type": "markdown",
   "id": "98b90f86",
   "metadata": {},
   "source": [
    "## Save/Load Entire Model"
   ]
  },
  {
   "cell_type": "code",
   "execution_count": 20,
   "id": "c9038c4d",
   "metadata": {},
   "outputs": [],
   "source": [
    "torch.save(model, './input/EB_Model.pth')"
   ]
  },
  {
   "cell_type": "code",
   "execution_count": 21,
   "id": "0b2b61c7",
   "metadata": {},
   "outputs": [
    {
     "data": {
      "text/plain": [
       "net(\n",
       "  (ln1): Bilinear(in1_features=100, in2_features=100, out_features=100, bias=False)\n",
       "  (ln1_2): Linear(in_features=200, out_features=100, bias=True)\n",
       "  (ln2): Bilinear(in1_features=100, in2_features=100, out_features=100, bias=False)\n",
       "  (ln2_2): Linear(in_features=200, out_features=100, bias=True)\n",
       "  (ln3): Bilinear(in1_features=100, in2_features=100, out_features=100, bias=False)\n",
       "  (ln3_2): Linear(in_features=200, out_features=100, bias=True)\n",
       "  (tanh): Tanh()\n",
       ")"
      ]
     },
     "execution_count": 21,
     "metadata": {},
     "output_type": "execute_result"
    }
   ],
   "source": [
    "test = torch.load('./input/EB_Model.pth')\n",
    "test.eval()"
   ]
  },
  {
   "cell_type": "code",
   "execution_count": 22,
   "id": "bb660a7d",
   "metadata": {},
   "outputs": [
    {
     "data": {
      "text/plain": [
       "OrderedDict([('ln1.weight',\n",
       "              tensor([[[ 0.0943, -0.0166, -0.0586,  ...,  0.0566, -0.0627, -0.0372],\n",
       "                       [ 0.0622, -0.1015,  0.0353,  ...,  0.0302,  0.0236, -0.0382],\n",
       "                       [ 0.0618,  0.0279,  0.0441,  ...,  0.0875,  0.0328, -0.0488],\n",
       "                       ...,\n",
       "                       [ 0.0633,  0.0150, -0.0166,  ..., -0.0398,  0.0438, -0.1053],\n",
       "                       [-0.0818,  0.0709, -0.0385,  ..., -0.0414, -0.0853, -0.0562],\n",
       "                       [-0.0954, -0.0505, -0.0886,  ...,  0.0924,  0.0565, -0.1005]],\n",
       "              \n",
       "                      [[ 0.0428, -0.0159,  0.0712,  ...,  0.0355, -0.0573,  0.0629],\n",
       "                       [ 0.0351, -0.0034,  0.0322,  ...,  0.0309, -0.0724, -0.0063],\n",
       "                       [-0.0040,  0.0610,  0.0697,  ..., -0.0242,  0.0212, -0.0450],\n",
       "                       ...,\n",
       "                       [ 0.0485, -0.0706,  0.0139,  ..., -0.0368, -0.0453, -0.0322],\n",
       "                       [-0.0934,  0.0258, -0.0835,  ...,  0.0486, -0.0217,  0.0764],\n",
       "                       [ 0.0246,  0.0066, -0.0531,  ..., -0.0366,  0.0645, -0.0074]],\n",
       "              \n",
       "                      [[-0.0394,  0.0657, -0.0220,  ...,  0.0055,  0.0397, -0.0749],\n",
       "                       [ 0.0678, -0.0434,  0.0107,  ..., -0.0084,  0.0463, -0.0517],\n",
       "                       [-0.0328,  0.0258,  0.0399,  ..., -0.0819, -0.0124, -0.0954],\n",
       "                       ...,\n",
       "                       [-0.0105, -0.0693, -0.0198,  ...,  0.0377, -0.0729, -0.0229],\n",
       "                       [-0.0284,  0.0803, -0.0713,  ..., -0.1003, -0.0119, -0.0236],\n",
       "                       [-0.0779,  0.0596, -0.0827,  ..., -0.0795, -0.0916,  0.0241]],\n",
       "              \n",
       "                      ...,\n",
       "              \n",
       "                      [[ 0.0903,  0.0741,  0.0255,  ...,  0.0291, -0.0547,  0.0652],\n",
       "                       [-0.0668,  0.0041,  0.0542,  ...,  0.0004,  0.0675, -0.0504],\n",
       "                       [ 0.0846,  0.0179, -0.0899,  ...,  0.1011,  0.0522, -0.0205],\n",
       "                       ...,\n",
       "                       [ 0.0651,  0.0716,  0.0538,  ..., -0.0506, -0.0343, -0.0790],\n",
       "                       [-0.0473,  0.0009, -0.0820,  ..., -0.0073, -0.0109,  0.0855],\n",
       "                       [-0.0754, -0.0745,  0.0228,  ...,  0.0005, -0.0578, -0.0772]],\n",
       "              \n",
       "                      [[ 0.0927, -0.0500, -0.0422,  ..., -0.0868, -0.0666,  0.0556],\n",
       "                       [-0.1019,  0.0743, -0.0449,  ..., -0.0834,  0.0267,  0.0154],\n",
       "                       [ 0.1152,  0.0476, -0.0289,  ..., -0.0087, -0.0929,  0.0467],\n",
       "                       ...,\n",
       "                       [-0.1029, -0.0366,  0.0117,  ..., -0.0438,  0.0911, -0.0106],\n",
       "                       [-0.0673,  0.0123, -0.0220,  ...,  0.0657,  0.0940,  0.0288],\n",
       "                       [-0.1506, -0.0476,  0.0316,  ..., -0.0570, -0.0077,  0.0483]],\n",
       "              \n",
       "                      [[-0.0635, -0.0866, -0.0455,  ...,  0.0471,  0.0243, -0.0108],\n",
       "                       [ 0.0660, -0.0875,  0.0141,  ...,  0.0314, -0.0290, -0.0654],\n",
       "                       [ 0.0488, -0.0424,  0.0081,  ...,  0.0478, -0.0503,  0.0747],\n",
       "                       ...,\n",
       "                       [-0.0581, -0.0543, -0.0142,  ...,  0.0081, -0.0844,  0.0917],\n",
       "                       [-0.0939, -0.0689, -0.0601,  ..., -0.0359,  0.0731, -0.0295],\n",
       "                       [ 0.0497, -0.0701, -0.0869,  ...,  0.0531, -0.0137,  0.0476]]])),\n",
       "             ('ln1_2.weight',\n",
       "              tensor([[-0.3719,  0.0532, -0.4173,  ..., -0.1164,  0.0584,  0.0346],\n",
       "                      [ 0.2523, -0.0615,  0.2638,  ..., -0.0045, -0.0988, -0.0582],\n",
       "                      [-0.1760,  0.0600, -0.1737,  ..., -0.0526, -0.0121,  0.0859],\n",
       "                      ...,\n",
       "                      [-0.0145, -0.0500, -0.1812,  ...,  0.0373, -0.0486,  0.0264],\n",
       "                      [-0.4906, -0.0079, -0.5570,  ..., -0.0371,  0.1258,  0.0949],\n",
       "                      [ 0.0382, -0.0139,  0.0965,  ...,  0.0572, -0.0171,  0.0255]])),\n",
       "             ('ln1_2.bias',\n",
       "              tensor([-0.3337,  0.3998, -0.2468,  0.2793,  0.3464,  0.5782, -0.4348,  0.2689,\n",
       "                      -0.3863, -0.7920, -0.2886, -0.3394, -0.1123, -0.1121, -0.2082,  0.2292,\n",
       "                       0.3145, -0.6124,  0.7434, -0.3636, -0.3967,  0.2900,  0.0940,  0.0772,\n",
       "                       0.8982,  0.7315,  0.2502,  1.2836, -0.3913,  0.8816,  0.0550,  0.5931,\n",
       "                       0.1774, -0.0606, -0.2051, -0.6099, -0.3335,  0.5559, -0.1513, -0.4536,\n",
       "                      -0.4426, -0.2511, -0.3246, -0.4729,  0.8859,  0.3718, -0.8736, -1.0082,\n",
       "                      -0.8892, -0.4869,  0.5724, -0.0865, -0.2894, -0.1948,  0.3359, -0.1580,\n",
       "                       0.0119, -0.9655, -0.1157,  0.1155, -0.5693, -0.1148, -0.5091, -0.0575,\n",
       "                       0.7082,  0.3822, -0.0536,  0.7373,  0.0788, -0.6979, -0.8159,  0.3147,\n",
       "                       0.3775, -0.6189,  0.4029, -0.0907,  0.2136, -0.2908, -0.8934, -0.1489,\n",
       "                      -0.0323, -0.6536,  0.2795,  0.1231,  0.4525,  0.2363, -0.4284, -0.2823,\n",
       "                      -0.1266,  0.5250,  1.1770, -0.2059,  0.2814, -0.0082, -0.2424,  0.1001,\n",
       "                      -0.0607, -0.1379, -0.3767,  0.0517])),\n",
       "             ('ln2.weight',\n",
       "              tensor([[[ 0.0895,  0.0836,  0.0743,  ..., -0.0569, -0.0609,  0.0655],\n",
       "                       [-0.0385,  0.0814,  0.0485,  ..., -0.0384, -0.0827, -0.0679],\n",
       "                       [-0.0899,  0.0557,  0.0213,  ..., -0.0978,  0.0738,  0.0546],\n",
       "                       ...,\n",
       "                       [-0.0400, -0.0683, -0.0456,  ..., -0.0359, -0.0188, -0.0582],\n",
       "                       [ 0.0538,  0.0928, -0.0905,  ...,  0.0033,  0.0653,  0.0702],\n",
       "                       [-0.0721,  0.0169, -0.0035,  ...,  0.0450, -0.0049, -0.0709]],\n",
       "              \n",
       "                      [[ 0.0638,  0.0200, -0.0507,  ..., -0.0970,  0.0872,  0.0633],\n",
       "                       [ 0.0271, -0.0618,  0.0088,  ...,  0.0715,  0.0650, -0.0146],\n",
       "                       [ 0.0671, -0.0114,  0.0256,  ..., -0.0057,  0.0761, -0.0718],\n",
       "                       ...,\n",
       "                       [-0.1023,  0.0380, -0.0286,  ..., -0.0189, -0.0719,  0.0378],\n",
       "                       [ 0.0793,  0.0467, -0.0487,  ..., -0.0577,  0.0940,  0.0814],\n",
       "                       [ 0.0418, -0.0944,  0.0552,  ...,  0.0811, -0.0830, -0.0847]],\n",
       "              \n",
       "                      [[-0.0757, -0.0923, -0.0886,  ..., -0.0051, -0.0534, -0.0083],\n",
       "                       [ 0.0959, -0.0366, -0.0525,  ..., -0.0677, -0.0391, -0.0570],\n",
       "                       [ 0.0801, -0.0668,  0.0717,  ..., -0.0179,  0.0743, -0.0107],\n",
       "                       ...,\n",
       "                       [ 0.0225,  0.0566, -0.0102,  ...,  0.0147,  0.0784,  0.0339],\n",
       "                       [ 0.0305, -0.0213,  0.0383,  ..., -0.0284,  0.0313, -0.1006],\n",
       "                       [ 0.0909, -0.0131, -0.0949,  ...,  0.0289,  0.0198, -0.0603]],\n",
       "              \n",
       "                      ...,\n",
       "              \n",
       "                      [[-0.0493, -0.0300,  0.0611,  ..., -0.0861, -0.0942,  0.0159],\n",
       "                       [-0.0028,  0.0307,  0.0391,  ...,  0.0216, -0.0056, -0.0717],\n",
       "                       [ 0.0096, -0.0408, -0.1005,  ...,  0.0169, -0.0531, -0.0745],\n",
       "                       ...,\n",
       "                       [ 0.0296, -0.0623, -0.0885,  ..., -0.0811,  0.0892, -0.0531],\n",
       "                       [ 0.0592,  0.0806, -0.0148,  ...,  0.0639, -0.0931, -0.0244],\n",
       "                       [ 0.0620,  0.0621,  0.0992,  ..., -0.0700,  0.0919,  0.0560]],\n",
       "              \n",
       "                      [[ 0.0389, -0.0590, -0.0767,  ...,  0.0121, -0.0896, -0.0532],\n",
       "                       [ 0.0810,  0.0342, -0.0135,  ...,  0.0072,  0.0265, -0.0659],\n",
       "                       [-0.0364, -0.0098, -0.0056,  ...,  0.0461,  0.0911, -0.0120],\n",
       "                       ...,\n",
       "                       [ 0.0603,  0.0730,  0.0748,  ..., -0.0154, -0.0773, -0.0947],\n",
       "                       [-0.0181,  0.0156, -0.0429,  ...,  0.0485, -0.0278, -0.0197],\n",
       "                       [ 0.0093,  0.0887,  0.0691,  ..., -0.0892, -0.0395, -0.0734]],\n",
       "              \n",
       "                      [[-0.0746, -0.0478,  0.0103,  ...,  0.0634, -0.0573, -0.0803],\n",
       "                       [ 0.0427,  0.0038,  0.0694,  ..., -0.0104, -0.0844, -0.0546],\n",
       "                       [ 0.0687, -0.0696,  0.0689,  ...,  0.0848,  0.0793, -0.0977],\n",
       "                       ...,\n",
       "                       [ 0.0393,  0.0412, -0.0336,  ...,  0.0195, -0.0012, -0.0072],\n",
       "                       [-0.0557, -0.0915,  0.0506,  ...,  0.0014, -0.0523, -0.0511],\n",
       "                       [-0.0847, -0.0574, -0.0672,  ..., -0.0770, -0.0404,  0.0313]]])),\n",
       "             ('ln2_2.weight',\n",
       "              tensor([[ 0.3058, -0.0228,  0.0203,  ..., -0.0043,  0.0116,  0.0348],\n",
       "                      [-0.2580, -0.0128,  0.0218,  ...,  0.0337, -0.0620,  0.0502],\n",
       "                      [ 0.0619,  0.0389,  0.0400,  ..., -0.0430,  0.0550,  0.0470],\n",
       "                      ...,\n",
       "                      [-0.2579, -0.0325,  0.0334,  ..., -0.0448, -0.0042, -0.0936],\n",
       "                      [-0.0920, -0.0076, -0.0639,  ...,  0.0201,  0.0266,  0.0265],\n",
       "                      [ 0.2914,  0.0138,  0.0439,  ..., -0.0225, -0.0669,  0.0239]])),\n",
       "             ('ln2_2.bias',\n",
       "              tensor([-2.7966,  1.8899, -0.7047, -0.2604,  1.3755,  1.3805,  0.1008,  2.6116,\n",
       "                       2.3074, -0.8993, -0.4413,  0.2776,  1.4661,  0.6737, -0.2616,  2.4533,\n",
       "                      -1.4011, -0.0357,  1.3696, -1.9737, -1.4753, -1.9263,  1.7507, -0.5551,\n",
       "                      -0.8052, -1.3048, -0.6679, -2.4906, -0.0172,  1.4924,  0.5966, -1.1461,\n",
       "                      -2.8599, -0.2658,  0.3550, -0.8287,  1.0508, -0.4330,  1.0651,  1.0100,\n",
       "                       1.9963, -1.3067, -1.2150, -1.3241,  2.2200,  0.3148,  1.8612,  0.3970,\n",
       "                       1.6066, -0.1064, -2.1617,  0.4382,  1.7214, -2.6784, -1.3513,  2.8940,\n",
       "                      -1.9473, -3.2368,  1.4404, -2.5720,  1.2396, -1.6200,  2.2422, -2.1226,\n",
       "                      -1.4343, -1.2452, -1.3856, -0.3081, -1.0497,  0.1622, -2.3463,  2.7789,\n",
       "                      -0.2763, -2.0275, -1.2490,  0.6390, -0.0385, -0.5406, -0.1286, -0.3303,\n",
       "                       1.1310, -3.0326, -0.9501, -0.2026, -2.2965, -2.6000, -0.5945,  2.0207,\n",
       "                      -0.5515,  1.8326,  2.1474,  1.0839, -0.2553,  2.7797,  0.9345, -0.5518,\n",
       "                       0.4505,  1.6831,  0.4311, -2.4029])),\n",
       "             ('ln3.weight',\n",
       "              tensor([[[-0.0745, -0.0424, -0.0084,  ...,  0.0135, -0.0805,  0.0809],\n",
       "                       [ 0.0119, -0.0366, -0.0964,  ...,  0.0491, -0.0058, -0.0722],\n",
       "                       [ 0.0545, -0.0417,  0.0850,  ...,  0.0339, -0.0349, -0.0464],\n",
       "                       ...,\n",
       "                       [ 0.0435,  0.1007, -0.0492,  ..., -0.0295,  0.0489,  0.0420],\n",
       "                       [ 0.0673, -0.0331, -0.0243,  ...,  0.0711,  0.0883,  0.0213],\n",
       "                       [ 0.0524, -0.0255,  0.0315,  ...,  0.0206, -0.0092,  0.0089]],\n",
       "              \n",
       "                      [[ 0.0742, -0.0880,  0.0071,  ..., -0.0631,  0.0880,  0.0400],\n",
       "                       [-0.0288, -0.0260,  0.0166,  ..., -0.0184, -0.0647,  0.0583],\n",
       "                       [ 0.0139,  0.0800, -0.0659,  ..., -0.0399, -0.0635, -0.0352],\n",
       "                       ...,\n",
       "                       [-0.0711,  0.0174, -0.0695,  ..., -0.0947, -0.0624, -0.0467],\n",
       "                       [ 0.0488, -0.0571, -0.0244,  ..., -0.0503,  0.0623, -0.0566],\n",
       "                       [ 0.0351,  0.0592,  0.0575,  ..., -0.0609, -0.0084,  0.0896]],\n",
       "              \n",
       "                      [[-0.0217, -0.0726,  0.0923,  ..., -0.0767, -0.0106, -0.0086],\n",
       "                       [ 0.0133,  0.0558, -0.0150,  ...,  0.0992, -0.0313, -0.0294],\n",
       "                       [-0.0645,  0.0741,  0.0934,  ..., -0.0446,  0.0621, -0.0034],\n",
       "                       ...,\n",
       "                       [-0.1044,  0.0672, -0.0617,  ...,  0.0323,  0.0889, -0.0159],\n",
       "                       [-0.0553,  0.0155, -0.0234,  ..., -0.1216, -0.0809,  0.0751],\n",
       "                       [ 0.0155, -0.0464, -0.0310,  ...,  0.0522, -0.0384,  0.0111]],\n",
       "              \n",
       "                      ...,\n",
       "              \n",
       "                      [[ 0.0085,  0.0521,  0.0560,  ...,  0.0317, -0.0192,  0.1060],\n",
       "                       [-0.0713, -0.0766, -0.0118,  ..., -0.0532,  0.0493, -0.0173],\n",
       "                       [-0.0038,  0.0668, -0.0800,  ..., -0.0635,  0.0375,  0.0592],\n",
       "                       ...,\n",
       "                       [ 0.0440,  0.0467,  0.0043,  ...,  0.0434,  0.0383,  0.0397],\n",
       "                       [ 0.0286, -0.0454,  0.0551,  ..., -0.0262, -0.0429,  0.0061],\n",
       "                       [-0.0332,  0.0476, -0.0006,  ..., -0.0258, -0.0516,  0.0306]],\n",
       "              \n",
       "                      [[ 0.0275,  0.0402,  0.0472,  ...,  0.0446,  0.0199, -0.0067],\n",
       "                       [-0.0124,  0.0445, -0.0619,  ...,  0.0270, -0.0486, -0.0742],\n",
       "                       [ 0.0405, -0.0580,  0.0346,  ...,  0.0178,  0.0335,  0.0948],\n",
       "                       ...,\n",
       "                       [-0.0657,  0.0772,  0.0016,  ..., -0.0689, -0.0067, -0.0952],\n",
       "                       [-0.0442, -0.0614, -0.0441,  ..., -0.1163, -0.0103,  0.1001],\n",
       "                       [-0.0687,  0.0764,  0.0057,  ..., -0.0154,  0.0244,  0.0834]],\n",
       "              \n",
       "                      [[ 0.0731,  0.0231, -0.0736,  ..., -0.1088,  0.0595,  0.0315],\n",
       "                       [ 0.0393, -0.0578, -0.0194,  ...,  0.0939, -0.0144, -0.0330],\n",
       "                       [ 0.0790, -0.0645, -0.0681,  ..., -0.0496, -0.0897,  0.0579],\n",
       "                       ...,\n",
       "                       [-0.1016, -0.0358,  0.0285,  ...,  0.0748,  0.0412, -0.0007],\n",
       "                       [-0.0076,  0.0196, -0.0346,  ...,  0.0617, -0.0906,  0.0613],\n",
       "                       [-0.0416,  0.0790, -0.0965,  ...,  0.0394, -0.0406,  0.0388]]])),\n",
       "             ('ln3_2.weight',\n",
       "              tensor([[-0.1311,  0.1135, -0.0865,  ...,  0.0769,  0.0029,  0.0069],\n",
       "                      [-0.1268,  0.0558,  0.0566,  ..., -0.0002, -0.0496, -0.0822],\n",
       "                      [-0.0839,  0.0436, -0.0115,  ..., -0.0369, -0.0311,  0.0735],\n",
       "                      ...,\n",
       "                      [-0.1968,  0.1516, -0.0316,  ..., -0.0469,  0.0452, -0.0268],\n",
       "                      [-0.0997,  0.0852, -0.0946,  ...,  0.0014,  0.0294, -0.0400],\n",
       "                      [-0.0849,  0.1832,  0.0212,  ...,  0.0216,  0.0541,  0.0706]])),\n",
       "             ('ln3_2.bias',\n",
       "              tensor([ 5.5744e-02,  1.5065e-01, -5.6114e-02, -1.2094e-01,  2.6272e-01,\n",
       "                       1.4154e-01,  5.1253e-02,  8.2720e-02, -3.5424e-02,  9.9840e-02,\n",
       "                       7.3941e-05,  1.0806e-01,  6.5635e-02,  4.6507e-02,  1.3189e-01,\n",
       "                       1.3220e-01, -4.8408e-02,  5.0971e-02,  3.4795e-02,  5.2687e-02,\n",
       "                       8.9323e-02,  3.0770e-02,  1.2240e-01,  8.0383e-02,  7.0673e-02,\n",
       "                       2.3303e-01,  4.1865e-02, -1.6908e-01,  2.5192e-01,  1.2014e-01,\n",
       "                       1.2097e-01,  1.7847e-01,  4.2436e-02,  6.3065e-02,  4.3831e-02,\n",
       "                       9.6026e-02, -3.7765e-02,  1.7134e-01,  6.1589e-02,  9.2224e-02,\n",
       "                       1.0444e-01, -5.6918e-02,  9.9548e-02,  1.9875e-01,  9.5508e-02,\n",
       "                       1.2667e-01,  1.4549e-01,  7.4643e-02,  1.5028e-01,  9.9421e-02,\n",
       "                       7.8752e-03, -8.2786e-02, -4.5956e-02,  1.2860e-01,  1.2127e-01,\n",
       "                      -5.3794e-02,  1.3558e-01, -3.3877e-02,  1.1967e-01,  2.1666e-01,\n",
       "                      -1.0173e-01,  8.8859e-02,  1.3400e-01,  8.1330e-02, -8.4361e-03,\n",
       "                       2.4987e-01,  4.7072e-02,  1.8329e-01, -5.6348e-02,  1.8133e-01,\n",
       "                      -9.7040e-02,  1.0000e-01,  1.2481e-01,  1.3417e-01,  3.4100e-02,\n",
       "                       1.8838e-01,  9.8293e-02,  2.5451e-02, -1.5427e-02,  2.0412e-01,\n",
       "                       7.7003e-02,  1.9777e-01,  5.2615e-02,  1.8292e-02,  1.2281e-01,\n",
       "                       4.1872e-02, -7.3725e-02, -6.0302e-02,  7.6223e-02,  7.5520e-02,\n",
       "                       6.3208e-02,  1.3278e-01,  4.4302e-02,  3.1804e-02,  1.2260e-01,\n",
       "                      -4.7072e-02,  5.6052e-02,  2.1789e-02,  4.0355e-02, -1.4853e-02]))])"
      ]
     },
     "execution_count": 22,
     "metadata": {},
     "output_type": "execute_result"
    }
   ],
   "source": [
    "model.state_dict()"
   ]
  },
  {
   "cell_type": "code",
   "execution_count": 23,
   "id": "0a2ee6aa",
   "metadata": {},
   "outputs": [
    {
     "data": {
      "text/plain": [
       "OrderedDict([('ln1.weight',\n",
       "              tensor([[[ 0.0943, -0.0166, -0.0586,  ...,  0.0566, -0.0627, -0.0372],\n",
       "                       [ 0.0622, -0.1015,  0.0353,  ...,  0.0302,  0.0236, -0.0382],\n",
       "                       [ 0.0618,  0.0279,  0.0441,  ...,  0.0875,  0.0328, -0.0488],\n",
       "                       ...,\n",
       "                       [ 0.0633,  0.0150, -0.0166,  ..., -0.0398,  0.0438, -0.1053],\n",
       "                       [-0.0818,  0.0709, -0.0385,  ..., -0.0414, -0.0853, -0.0562],\n",
       "                       [-0.0954, -0.0505, -0.0886,  ...,  0.0924,  0.0565, -0.1005]],\n",
       "              \n",
       "                      [[ 0.0428, -0.0159,  0.0712,  ...,  0.0355, -0.0573,  0.0629],\n",
       "                       [ 0.0351, -0.0034,  0.0322,  ...,  0.0309, -0.0724, -0.0063],\n",
       "                       [-0.0040,  0.0610,  0.0697,  ..., -0.0242,  0.0212, -0.0450],\n",
       "                       ...,\n",
       "                       [ 0.0485, -0.0706,  0.0139,  ..., -0.0368, -0.0453, -0.0322],\n",
       "                       [-0.0934,  0.0258, -0.0835,  ...,  0.0486, -0.0217,  0.0764],\n",
       "                       [ 0.0246,  0.0066, -0.0531,  ..., -0.0366,  0.0645, -0.0074]],\n",
       "              \n",
       "                      [[-0.0394,  0.0657, -0.0220,  ...,  0.0055,  0.0397, -0.0749],\n",
       "                       [ 0.0678, -0.0434,  0.0107,  ..., -0.0084,  0.0463, -0.0517],\n",
       "                       [-0.0328,  0.0258,  0.0399,  ..., -0.0819, -0.0124, -0.0954],\n",
       "                       ...,\n",
       "                       [-0.0105, -0.0693, -0.0198,  ...,  0.0377, -0.0729, -0.0229],\n",
       "                       [-0.0284,  0.0803, -0.0713,  ..., -0.1003, -0.0119, -0.0236],\n",
       "                       [-0.0779,  0.0596, -0.0827,  ..., -0.0795, -0.0916,  0.0241]],\n",
       "              \n",
       "                      ...,\n",
       "              \n",
       "                      [[ 0.0903,  0.0741,  0.0255,  ...,  0.0291, -0.0547,  0.0652],\n",
       "                       [-0.0668,  0.0041,  0.0542,  ...,  0.0004,  0.0675, -0.0504],\n",
       "                       [ 0.0846,  0.0179, -0.0899,  ...,  0.1011,  0.0522, -0.0205],\n",
       "                       ...,\n",
       "                       [ 0.0651,  0.0716,  0.0538,  ..., -0.0506, -0.0343, -0.0790],\n",
       "                       [-0.0473,  0.0009, -0.0820,  ..., -0.0073, -0.0109,  0.0855],\n",
       "                       [-0.0754, -0.0745,  0.0228,  ...,  0.0005, -0.0578, -0.0772]],\n",
       "              \n",
       "                      [[ 0.0927, -0.0500, -0.0422,  ..., -0.0868, -0.0666,  0.0556],\n",
       "                       [-0.1019,  0.0743, -0.0449,  ..., -0.0834,  0.0267,  0.0154],\n",
       "                       [ 0.1152,  0.0476, -0.0289,  ..., -0.0087, -0.0929,  0.0467],\n",
       "                       ...,\n",
       "                       [-0.1029, -0.0366,  0.0117,  ..., -0.0438,  0.0911, -0.0106],\n",
       "                       [-0.0673,  0.0123, -0.0220,  ...,  0.0657,  0.0940,  0.0288],\n",
       "                       [-0.1506, -0.0476,  0.0316,  ..., -0.0570, -0.0077,  0.0483]],\n",
       "              \n",
       "                      [[-0.0635, -0.0866, -0.0455,  ...,  0.0471,  0.0243, -0.0108],\n",
       "                       [ 0.0660, -0.0875,  0.0141,  ...,  0.0314, -0.0290, -0.0654],\n",
       "                       [ 0.0488, -0.0424,  0.0081,  ...,  0.0478, -0.0503,  0.0747],\n",
       "                       ...,\n",
       "                       [-0.0581, -0.0543, -0.0142,  ...,  0.0081, -0.0844,  0.0917],\n",
       "                       [-0.0939, -0.0689, -0.0601,  ..., -0.0359,  0.0731, -0.0295],\n",
       "                       [ 0.0497, -0.0701, -0.0869,  ...,  0.0531, -0.0137,  0.0476]]])),\n",
       "             ('ln1_2.weight',\n",
       "              tensor([[-0.3719,  0.0532, -0.4173,  ..., -0.1164,  0.0584,  0.0346],\n",
       "                      [ 0.2523, -0.0615,  0.2638,  ..., -0.0045, -0.0988, -0.0582],\n",
       "                      [-0.1760,  0.0600, -0.1737,  ..., -0.0526, -0.0121,  0.0859],\n",
       "                      ...,\n",
       "                      [-0.0145, -0.0500, -0.1812,  ...,  0.0373, -0.0486,  0.0264],\n",
       "                      [-0.4906, -0.0079, -0.5570,  ..., -0.0371,  0.1258,  0.0949],\n",
       "                      [ 0.0382, -0.0139,  0.0965,  ...,  0.0572, -0.0171,  0.0255]])),\n",
       "             ('ln1_2.bias',\n",
       "              tensor([-0.3337,  0.3998, -0.2468,  0.2793,  0.3464,  0.5782, -0.4348,  0.2689,\n",
       "                      -0.3863, -0.7920, -0.2886, -0.3394, -0.1123, -0.1121, -0.2082,  0.2292,\n",
       "                       0.3145, -0.6124,  0.7434, -0.3636, -0.3967,  0.2900,  0.0940,  0.0772,\n",
       "                       0.8982,  0.7315,  0.2502,  1.2836, -0.3913,  0.8816,  0.0550,  0.5931,\n",
       "                       0.1774, -0.0606, -0.2051, -0.6099, -0.3335,  0.5559, -0.1513, -0.4536,\n",
       "                      -0.4426, -0.2511, -0.3246, -0.4729,  0.8859,  0.3718, -0.8736, -1.0082,\n",
       "                      -0.8892, -0.4869,  0.5724, -0.0865, -0.2894, -0.1948,  0.3359, -0.1580,\n",
       "                       0.0119, -0.9655, -0.1157,  0.1155, -0.5693, -0.1148, -0.5091, -0.0575,\n",
       "                       0.7082,  0.3822, -0.0536,  0.7373,  0.0788, -0.6979, -0.8159,  0.3147,\n",
       "                       0.3775, -0.6189,  0.4029, -0.0907,  0.2136, -0.2908, -0.8934, -0.1489,\n",
       "                      -0.0323, -0.6536,  0.2795,  0.1231,  0.4525,  0.2363, -0.4284, -0.2823,\n",
       "                      -0.1266,  0.5250,  1.1770, -0.2059,  0.2814, -0.0082, -0.2424,  0.1001,\n",
       "                      -0.0607, -0.1379, -0.3767,  0.0517])),\n",
       "             ('ln2.weight',\n",
       "              tensor([[[ 0.0895,  0.0836,  0.0743,  ..., -0.0569, -0.0609,  0.0655],\n",
       "                       [-0.0385,  0.0814,  0.0485,  ..., -0.0384, -0.0827, -0.0679],\n",
       "                       [-0.0899,  0.0557,  0.0213,  ..., -0.0978,  0.0738,  0.0546],\n",
       "                       ...,\n",
       "                       [-0.0400, -0.0683, -0.0456,  ..., -0.0359, -0.0188, -0.0582],\n",
       "                       [ 0.0538,  0.0928, -0.0905,  ...,  0.0033,  0.0653,  0.0702],\n",
       "                       [-0.0721,  0.0169, -0.0035,  ...,  0.0450, -0.0049, -0.0709]],\n",
       "              \n",
       "                      [[ 0.0638,  0.0200, -0.0507,  ..., -0.0970,  0.0872,  0.0633],\n",
       "                       [ 0.0271, -0.0618,  0.0088,  ...,  0.0715,  0.0650, -0.0146],\n",
       "                       [ 0.0671, -0.0114,  0.0256,  ..., -0.0057,  0.0761, -0.0718],\n",
       "                       ...,\n",
       "                       [-0.1023,  0.0380, -0.0286,  ..., -0.0189, -0.0719,  0.0378],\n",
       "                       [ 0.0793,  0.0467, -0.0487,  ..., -0.0577,  0.0940,  0.0814],\n",
       "                       [ 0.0418, -0.0944,  0.0552,  ...,  0.0811, -0.0830, -0.0847]],\n",
       "              \n",
       "                      [[-0.0757, -0.0923, -0.0886,  ..., -0.0051, -0.0534, -0.0083],\n",
       "                       [ 0.0959, -0.0366, -0.0525,  ..., -0.0677, -0.0391, -0.0570],\n",
       "                       [ 0.0801, -0.0668,  0.0717,  ..., -0.0179,  0.0743, -0.0107],\n",
       "                       ...,\n",
       "                       [ 0.0225,  0.0566, -0.0102,  ...,  0.0147,  0.0784,  0.0339],\n",
       "                       [ 0.0305, -0.0213,  0.0383,  ..., -0.0284,  0.0313, -0.1006],\n",
       "                       [ 0.0909, -0.0131, -0.0949,  ...,  0.0289,  0.0198, -0.0603]],\n",
       "              \n",
       "                      ...,\n",
       "              \n",
       "                      [[-0.0493, -0.0300,  0.0611,  ..., -0.0861, -0.0942,  0.0159],\n",
       "                       [-0.0028,  0.0307,  0.0391,  ...,  0.0216, -0.0056, -0.0717],\n",
       "                       [ 0.0096, -0.0408, -0.1005,  ...,  0.0169, -0.0531, -0.0745],\n",
       "                       ...,\n",
       "                       [ 0.0296, -0.0623, -0.0885,  ..., -0.0811,  0.0892, -0.0531],\n",
       "                       [ 0.0592,  0.0806, -0.0148,  ...,  0.0639, -0.0931, -0.0244],\n",
       "                       [ 0.0620,  0.0621,  0.0992,  ..., -0.0700,  0.0919,  0.0560]],\n",
       "              \n",
       "                      [[ 0.0389, -0.0590, -0.0767,  ...,  0.0121, -0.0896, -0.0532],\n",
       "                       [ 0.0810,  0.0342, -0.0135,  ...,  0.0072,  0.0265, -0.0659],\n",
       "                       [-0.0364, -0.0098, -0.0056,  ...,  0.0461,  0.0911, -0.0120],\n",
       "                       ...,\n",
       "                       [ 0.0603,  0.0730,  0.0748,  ..., -0.0154, -0.0773, -0.0947],\n",
       "                       [-0.0181,  0.0156, -0.0429,  ...,  0.0485, -0.0278, -0.0197],\n",
       "                       [ 0.0093,  0.0887,  0.0691,  ..., -0.0892, -0.0395, -0.0734]],\n",
       "              \n",
       "                      [[-0.0746, -0.0478,  0.0103,  ...,  0.0634, -0.0573, -0.0803],\n",
       "                       [ 0.0427,  0.0038,  0.0694,  ..., -0.0104, -0.0844, -0.0546],\n",
       "                       [ 0.0687, -0.0696,  0.0689,  ...,  0.0848,  0.0793, -0.0977],\n",
       "                       ...,\n",
       "                       [ 0.0393,  0.0412, -0.0336,  ...,  0.0195, -0.0012, -0.0072],\n",
       "                       [-0.0557, -0.0915,  0.0506,  ...,  0.0014, -0.0523, -0.0511],\n",
       "                       [-0.0847, -0.0574, -0.0672,  ..., -0.0770, -0.0404,  0.0313]]])),\n",
       "             ('ln2_2.weight',\n",
       "              tensor([[ 0.3058, -0.0228,  0.0203,  ..., -0.0043,  0.0116,  0.0348],\n",
       "                      [-0.2580, -0.0128,  0.0218,  ...,  0.0337, -0.0620,  0.0502],\n",
       "                      [ 0.0619,  0.0389,  0.0400,  ..., -0.0430,  0.0550,  0.0470],\n",
       "                      ...,\n",
       "                      [-0.2579, -0.0325,  0.0334,  ..., -0.0448, -0.0042, -0.0936],\n",
       "                      [-0.0920, -0.0076, -0.0639,  ...,  0.0201,  0.0266,  0.0265],\n",
       "                      [ 0.2914,  0.0138,  0.0439,  ..., -0.0225, -0.0669,  0.0239]])),\n",
       "             ('ln2_2.bias',\n",
       "              tensor([-2.7966,  1.8899, -0.7047, -0.2604,  1.3755,  1.3805,  0.1008,  2.6116,\n",
       "                       2.3074, -0.8993, -0.4413,  0.2776,  1.4661,  0.6737, -0.2616,  2.4533,\n",
       "                      -1.4011, -0.0357,  1.3696, -1.9737, -1.4753, -1.9263,  1.7507, -0.5551,\n",
       "                      -0.8052, -1.3048, -0.6679, -2.4906, -0.0172,  1.4924,  0.5966, -1.1461,\n",
       "                      -2.8599, -0.2658,  0.3550, -0.8287,  1.0508, -0.4330,  1.0651,  1.0100,\n",
       "                       1.9963, -1.3067, -1.2150, -1.3241,  2.2200,  0.3148,  1.8612,  0.3970,\n",
       "                       1.6066, -0.1064, -2.1617,  0.4382,  1.7214, -2.6784, -1.3513,  2.8940,\n",
       "                      -1.9473, -3.2368,  1.4404, -2.5720,  1.2396, -1.6200,  2.2422, -2.1226,\n",
       "                      -1.4343, -1.2452, -1.3856, -0.3081, -1.0497,  0.1622, -2.3463,  2.7789,\n",
       "                      -0.2763, -2.0275, -1.2490,  0.6390, -0.0385, -0.5406, -0.1286, -0.3303,\n",
       "                       1.1310, -3.0326, -0.9501, -0.2026, -2.2965, -2.6000, -0.5945,  2.0207,\n",
       "                      -0.5515,  1.8326,  2.1474,  1.0839, -0.2553,  2.7797,  0.9345, -0.5518,\n",
       "                       0.4505,  1.6831,  0.4311, -2.4029])),\n",
       "             ('ln3.weight',\n",
       "              tensor([[[-0.0745, -0.0424, -0.0084,  ...,  0.0135, -0.0805,  0.0809],\n",
       "                       [ 0.0119, -0.0366, -0.0964,  ...,  0.0491, -0.0058, -0.0722],\n",
       "                       [ 0.0545, -0.0417,  0.0850,  ...,  0.0339, -0.0349, -0.0464],\n",
       "                       ...,\n",
       "                       [ 0.0435,  0.1007, -0.0492,  ..., -0.0295,  0.0489,  0.0420],\n",
       "                       [ 0.0673, -0.0331, -0.0243,  ...,  0.0711,  0.0883,  0.0213],\n",
       "                       [ 0.0524, -0.0255,  0.0315,  ...,  0.0206, -0.0092,  0.0089]],\n",
       "              \n",
       "                      [[ 0.0742, -0.0880,  0.0071,  ..., -0.0631,  0.0880,  0.0400],\n",
       "                       [-0.0288, -0.0260,  0.0166,  ..., -0.0184, -0.0647,  0.0583],\n",
       "                       [ 0.0139,  0.0800, -0.0659,  ..., -0.0399, -0.0635, -0.0352],\n",
       "                       ...,\n",
       "                       [-0.0711,  0.0174, -0.0695,  ..., -0.0947, -0.0624, -0.0467],\n",
       "                       [ 0.0488, -0.0571, -0.0244,  ..., -0.0503,  0.0623, -0.0566],\n",
       "                       [ 0.0351,  0.0592,  0.0575,  ..., -0.0609, -0.0084,  0.0896]],\n",
       "              \n",
       "                      [[-0.0217, -0.0726,  0.0923,  ..., -0.0767, -0.0106, -0.0086],\n",
       "                       [ 0.0133,  0.0558, -0.0150,  ...,  0.0992, -0.0313, -0.0294],\n",
       "                       [-0.0645,  0.0741,  0.0934,  ..., -0.0446,  0.0621, -0.0034],\n",
       "                       ...,\n",
       "                       [-0.1044,  0.0672, -0.0617,  ...,  0.0323,  0.0889, -0.0159],\n",
       "                       [-0.0553,  0.0155, -0.0234,  ..., -0.1216, -0.0809,  0.0751],\n",
       "                       [ 0.0155, -0.0464, -0.0310,  ...,  0.0522, -0.0384,  0.0111]],\n",
       "              \n",
       "                      ...,\n",
       "              \n",
       "                      [[ 0.0085,  0.0521,  0.0560,  ...,  0.0317, -0.0192,  0.1060],\n",
       "                       [-0.0713, -0.0766, -0.0118,  ..., -0.0532,  0.0493, -0.0173],\n",
       "                       [-0.0038,  0.0668, -0.0800,  ..., -0.0635,  0.0375,  0.0592],\n",
       "                       ...,\n",
       "                       [ 0.0440,  0.0467,  0.0043,  ...,  0.0434,  0.0383,  0.0397],\n",
       "                       [ 0.0286, -0.0454,  0.0551,  ..., -0.0262, -0.0429,  0.0061],\n",
       "                       [-0.0332,  0.0476, -0.0006,  ..., -0.0258, -0.0516,  0.0306]],\n",
       "              \n",
       "                      [[ 0.0275,  0.0402,  0.0472,  ...,  0.0446,  0.0199, -0.0067],\n",
       "                       [-0.0124,  0.0445, -0.0619,  ...,  0.0270, -0.0486, -0.0742],\n",
       "                       [ 0.0405, -0.0580,  0.0346,  ...,  0.0178,  0.0335,  0.0948],\n",
       "                       ...,\n",
       "                       [-0.0657,  0.0772,  0.0016,  ..., -0.0689, -0.0067, -0.0952],\n",
       "                       [-0.0442, -0.0614, -0.0441,  ..., -0.1163, -0.0103,  0.1001],\n",
       "                       [-0.0687,  0.0764,  0.0057,  ..., -0.0154,  0.0244,  0.0834]],\n",
       "              \n",
       "                      [[ 0.0731,  0.0231, -0.0736,  ..., -0.1088,  0.0595,  0.0315],\n",
       "                       [ 0.0393, -0.0578, -0.0194,  ...,  0.0939, -0.0144, -0.0330],\n",
       "                       [ 0.0790, -0.0645, -0.0681,  ..., -0.0496, -0.0897,  0.0579],\n",
       "                       ...,\n",
       "                       [-0.1016, -0.0358,  0.0285,  ...,  0.0748,  0.0412, -0.0007],\n",
       "                       [-0.0076,  0.0196, -0.0346,  ...,  0.0617, -0.0906,  0.0613],\n",
       "                       [-0.0416,  0.0790, -0.0965,  ...,  0.0394, -0.0406,  0.0388]]])),\n",
       "             ('ln3_2.weight',\n",
       "              tensor([[-0.1311,  0.1135, -0.0865,  ...,  0.0769,  0.0029,  0.0069],\n",
       "                      [-0.1268,  0.0558,  0.0566,  ..., -0.0002, -0.0496, -0.0822],\n",
       "                      [-0.0839,  0.0436, -0.0115,  ..., -0.0369, -0.0311,  0.0735],\n",
       "                      ...,\n",
       "                      [-0.1968,  0.1516, -0.0316,  ..., -0.0469,  0.0452, -0.0268],\n",
       "                      [-0.0997,  0.0852, -0.0946,  ...,  0.0014,  0.0294, -0.0400],\n",
       "                      [-0.0849,  0.1832,  0.0212,  ...,  0.0216,  0.0541,  0.0706]])),\n",
       "             ('ln3_2.bias',\n",
       "              tensor([ 5.5744e-02,  1.5065e-01, -5.6114e-02, -1.2094e-01,  2.6272e-01,\n",
       "                       1.4154e-01,  5.1253e-02,  8.2720e-02, -3.5424e-02,  9.9840e-02,\n",
       "                       7.3941e-05,  1.0806e-01,  6.5635e-02,  4.6507e-02,  1.3189e-01,\n",
       "                       1.3220e-01, -4.8408e-02,  5.0971e-02,  3.4795e-02,  5.2687e-02,\n",
       "                       8.9323e-02,  3.0770e-02,  1.2240e-01,  8.0383e-02,  7.0673e-02,\n",
       "                       2.3303e-01,  4.1865e-02, -1.6908e-01,  2.5192e-01,  1.2014e-01,\n",
       "                       1.2097e-01,  1.7847e-01,  4.2436e-02,  6.3065e-02,  4.3831e-02,\n",
       "                       9.6026e-02, -3.7765e-02,  1.7134e-01,  6.1589e-02,  9.2224e-02,\n",
       "                       1.0444e-01, -5.6918e-02,  9.9548e-02,  1.9875e-01,  9.5508e-02,\n",
       "                       1.2667e-01,  1.4549e-01,  7.4643e-02,  1.5028e-01,  9.9421e-02,\n",
       "                       7.8752e-03, -8.2786e-02, -4.5956e-02,  1.2860e-01,  1.2127e-01,\n",
       "                      -5.3794e-02,  1.3558e-01, -3.3877e-02,  1.1967e-01,  2.1666e-01,\n",
       "                      -1.0173e-01,  8.8859e-02,  1.3400e-01,  8.1330e-02, -8.4361e-03,\n",
       "                       2.4987e-01,  4.7072e-02,  1.8329e-01, -5.6348e-02,  1.8133e-01,\n",
       "                      -9.7040e-02,  1.0000e-01,  1.2481e-01,  1.3417e-01,  3.4100e-02,\n",
       "                       1.8838e-01,  9.8293e-02,  2.5451e-02, -1.5427e-02,  2.0412e-01,\n",
       "                       7.7003e-02,  1.9777e-01,  5.2615e-02,  1.8292e-02,  1.2281e-01,\n",
       "                       4.1872e-02, -7.3725e-02, -6.0302e-02,  7.6223e-02,  7.5520e-02,\n",
       "                       6.3208e-02,  1.3278e-01,  4.4302e-02,  3.1804e-02,  1.2260e-01,\n",
       "                      -4.7072e-02,  5.6052e-02,  2.1789e-02,  4.0355e-02, -1.4853e-02]))])"
      ]
     },
     "execution_count": 23,
     "metadata": {},
     "output_type": "execute_result"
    }
   ],
   "source": [
    "test.state_dict()"
   ]
  },
  {
   "cell_type": "markdown",
   "id": "298d6d87",
   "metadata": {},
   "source": [
    "財工（沒有方向？）\n",
    "供應鏈關係\n",
    "GNN\n",
    "CV\n",
    "牛熊"
   ]
  }
 ],
 "metadata": {
  "kernelspec": {
   "display_name": "Python 3 (ipykernel)",
   "language": "python",
   "name": "python3"
  },
  "language_info": {
   "codemirror_mode": {
    "name": "ipython",
    "version": 3
   },
   "file_extension": ".py",
   "mimetype": "text/x-python",
   "name": "python",
   "nbconvert_exporter": "python",
   "pygments_lexer": "ipython3",
   "version": "3.9.7"
  }
 },
 "nbformat": 4,
 "nbformat_minor": 5
}
