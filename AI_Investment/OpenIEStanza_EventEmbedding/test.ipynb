{
 "cells": [
  {
   "cell_type": "code",
   "execution_count": 50,
   "id": "38decbd2",
   "metadata": {},
   "outputs": [],
   "source": [
    "os.chdir('/Users/arthur/Desktop/OpenIEStanza_EventEmbedding/EventTriplesExtraction')"
   ]
  },
  {
   "cell_type": "code",
   "execution_count": 57,
   "id": "5d6b8f9c",
   "metadata": {},
   "outputs": [],
   "source": [
    "# pip install ddparser\n",
    "# pip install paddlepaddle\n",
    "# pip install LAC"
   ]
  },
  {
   "cell_type": "code",
   "execution_count": 65,
   "id": "950cc9f3",
   "metadata": {},
   "outputs": [
    {
     "name": "stdout",
     "output_type": "stream",
     "text": [
      "投票当天需携带投票通知单、国民身分证及印章，若没有收到投票通知书，可以向户籍所在地邻长查询投票所，印章则是可以用签名代替，至于身分证则是一定要携带。\n"
     ]
    }
   ],
   "source": [
    "from opencc import OpenCC\n",
    "\n",
    "cc = OpenCC('t2s')\n",
    "text = '投票當天需攜帶投票通知單、國民身分證及印章，若沒有收到投票通知書，可以向戶籍所在地鄰長查詢投票所，印章則是可以用簽名代替，至於身分證則是一定要攜帶。'\n",
    "\n",
    "print(cc.convert(text))"
   ]
  },
  {
   "cell_type": "code",
   "execution_count": 62,
   "id": "2634fabc",
   "metadata": {
    "scrolled": true
   },
   "outputs": [
    {
     "name": "stdout",
     "output_type": "stream",
     "text": [
      "loading the fields.\n",
      "loaded model\n",
      "近日，一条男子高铁吃泡面被女乘客怒怼的视频引发热议\n",
      "女子情绪激动，言辞激烈，大声斥责该乘客，称高铁上有规定不能吃泡面，质问其“有公德心吗”“没素质”\n",
      "视频曝光后，该女子回应称，因自己的孩子对泡面过敏，曾跟这名男子沟通过，但对方执意不听，她才发泄不满，并称男子拍视频上传已侵犯了她的隐私权和名誉权，将采取法律手段\n",
      "12306客服人员表示，高铁、动车上一般不卖泡面，但没有规定高铁、动车上不能吃泡面\n",
      "                高铁属于密封性较强的空间，每名乘客都有维护高铁内秩序，不破坏该空间内空气质量的义务\n",
      "这也是乘客作为公民应当具备的基本品质\n",
      "但是，在高铁没有明确禁止食用泡面等食物的背景下，以影响自己或孩子为由阻挠他人食用某种食品并厉声斥责，恐怕也超出了权利边界\n",
      "当人们在公共场所活动时，不宜过分干涉他人权利，这样才能构建和谐美好的公共秩序\n",
      "                一般来说，个人的权利便是他人的义务，任何人不得随意侵犯他人权利，这是每个公民得以正常工作、生活的基本条件\n",
      "如果权利可以被肆意侵犯而得不到救济，社会将无法运转，人们也没有幸福可言\n",
      "如西谚所说，“你的权利止于我的鼻尖”，“你可以唱歌，但不能在午夜破坏我的美梦”\n",
      "无论何种权利，其能够得以行使的前提是不影响他人正常生活，不违反公共利益和公序良俗\n",
      "超越了这个边界，权利便不再为权利，也就不再受到保护\n",
      "                在“男子高铁吃泡面被怒怼”事件中，初一看，吃泡面男子可能侵犯公共场所秩序，被怒怼乃咎由自取，其实不尽然\n",
      "虽然高铁属于封闭空间，但与禁止食用刺激性食品的地铁不同，高铁运营方虽然不建议食用泡面等刺激性食品，但并未作出禁止性规定\n",
      "由此可见，即使食用泡面、榴莲、麻辣烫等食物可能产生刺激性味道，让他人不适，但是否食用该食品，依然取决于个人喜好，他人无权随意干涉乃至横加斥责\n",
      "这也是此事件披露后，很多网友并未一边倒地批评食用泡面的男子，反而认为女乘客不该高声喧哗\n",
      "                现代社会，公民的义务一般分为法律义务和道德义务\n",
      "如果某个行为被确定为法律义务，行为人必须遵守，一旦违反，无论是受害人抑或旁观群众，均有权制止、投诉、举报\n",
      "违法者既会受到应有惩戒，也会受到道德谴责，积极制止者则属于应受鼓励的见义勇为\n",
      "如果有人违反道德义务，则应受到道德和舆论谴责，并有可能被追究法律责任\n",
      "如在公共场所随地吐痰、乱扔垃圾、脱掉鞋子、随意插队等\n",
      "此时，如果行为人对他人的劝阻置之不理甚至行凶报复，无疑要受到严厉惩戒\n",
      "                当然，随着社会的发展，某些道德义务可能上升为法律义务\n",
      "如之前，很多人对公共场所吸烟不以为然，烟民可以旁若无人地吞云吐雾\n",
      "现在，要是还有人不识时务地在公共场所吸烟，必然将成为众矢之的\n",
      "                再回到“高铁吃泡面”事件，要是随着人们观念的更新，在高铁上不得吃泡面等可能产生刺激性气味的食物逐渐成为共识，或者上升到道德义务或法律义务\n",
      "斥责、制止他人吃泡面将理直气壮，否则很难摆脱“矫情”，“将自我权利凌驾于他人权利之上”的嫌疑\n",
      "                在相关部门并未禁止在高铁上吃泡面的背景下，吃不吃泡面系个人权利或者个人私德，是不违反公共利益的个人正常生活的一部分\n",
      "如果认为他人吃泡面让自己不适，最好是请求他人配合并加以感谢，而非站在道德制高点强制干预\n",
      "只有每个人行使权利时不逾越边界，与他人沟通时好好说话，不过分自我地将幸福和舒适凌驾于他人之上，人与人之间才更趋于平等，公共生活才更趋向美好有序\n"
     ]
    }
   ],
   "source": [
    "from baidu_svo_extract import *\n",
    "content = '电费喊涨!力丽考虑盖电厂'\n",
    "content2 = \"\"\"近日，一条男子高铁吃泡面被女乘客怒怼的视频引发热议。女子情绪激动，言辞激烈，大声斥责该乘客，称高铁上有规定不能吃泡面，质问其“有公德心吗”“没素质”。视频曝光后，该女子回应称，因自己的孩子对泡面过敏，曾跟这名男子沟通过，但对方执意不听，她才发泄不满，并称男子拍视频上传已侵犯了她的隐私权和名誉权，将采取法律手段。12306客服人员表示，高铁、动车上一般不卖泡面，但没有规定高铁、动车上不能吃泡面。\n",
    "                高铁属于密封性较强的空间，每名乘客都有维护高铁内秩序，不破坏该空间内空气质量的义务。这也是乘客作为公民应当具备的基本品质。但是，在高铁没有明确禁止食用泡面等食物的背景下，以影响自己或孩子为由阻挠他人食用某种食品并厉声斥责，恐怕也超出了权利边界。当人们在公共场所活动时，不宜过分干涉他人权利，这样才能构建和谐美好的公共秩序。\n",
    "                一般来说，个人的权利便是他人的义务，任何人不得随意侵犯他人权利，这是每个公民得以正常工作、生活的基本条件。如果权利可以被肆意侵犯而得不到救济，社会将无法运转，人们也没有幸福可言。如西谚所说，“你的权利止于我的鼻尖”，“你可以唱歌，但不能在午夜破坏我的美梦”。无论何种权利，其能够得以行使的前提是不影响他人正常生活，不违反公共利益和公序良俗。超越了这个边界，权利便不再为权利，也就不再受到保护。\n",
    "                在“男子高铁吃泡面被怒怼”事件中，初一看，吃泡面男子可能侵犯公共场所秩序，被怒怼乃咎由自取，其实不尽然。虽然高铁属于封闭空间，但与禁止食用刺激性食品的地铁不同，高铁运营方虽然不建议食用泡面等刺激性食品，但并未作出禁止性规定。由此可见，即使食用泡面、榴莲、麻辣烫等食物可能产生刺激性味道，让他人不适，但是否食用该食品，依然取决于个人喜好，他人无权随意干涉乃至横加斥责。这也是此事件披露后，很多网友并未一边倒地批评食用泡面的男子，反而认为女乘客不该高声喧哗。\n",
    "                现代社会，公民的义务一般分为法律义务和道德义务。如果某个行为被确定为法律义务，行为人必须遵守，一旦违反，无论是受害人抑或旁观群众，均有权制止、投诉、举报。违法者既会受到应有惩戒，也会受到道德谴责，积极制止者则属于应受鼓励的见义勇为。如果有人违反道德义务，则应受到道德和舆论谴责，并有可能被追究法律责任。如在公共场所随地吐痰、乱扔垃圾、脱掉鞋子、随意插队等。此时，如果行为人对他人的劝阻置之不理甚至行凶报复，无疑要受到严厉惩戒。\n",
    "                当然，随着社会的发展，某些道德义务可能上升为法律义务。如之前，很多人对公共场所吸烟不以为然，烟民可以旁若无人地吞云吐雾。现在，要是还有人不识时务地在公共场所吸烟，必然将成为众矢之的。\n",
    "                再回到“高铁吃泡面”事件，要是随着人们观念的更新，在高铁上不得吃泡面等可能产生刺激性气味的食物逐渐成为共识，或者上升到道德义务或法律义务。斥责、制止他人吃泡面将理直气壮，否则很难摆脱“矫情”，“将自我权利凌驾于他人权利之上”的嫌疑。\n",
    "                在相关部门并未禁止在高铁上吃泡面的背景下，吃不吃泡面系个人权利或者个人私德，是不违反公共利益的个人正常生活的一部分。如果认为他人吃泡面让自己不适，最好是请求他人配合并加以感谢，而非站在道德制高点强制干预。只有每个人行使权利时不逾越边界，与他人沟通时好好说话，不过分自我地将幸福和舒适凌驾于他人之上，人与人之间才更趋于平等，公共生活才更趋向美好有序。\"\"\"\n",
    "extractor = SVOParser()\n",
    "svos = extractor.triples_main(content2)"
   ]
  },
  {
   "cell_type": "code",
   "execution_count": 69,
   "id": "27311d74",
   "metadata": {},
   "outputs": [
    {
     "name": "stdout",
     "output_type": "stream",
     "text": [
      "男子高鐵\n",
      "喫\n",
      "泡麪\n",
      "男子高鐵\n",
      "喫\n",
      "泡麪\n",
      "男子高鐵喫泡麪視頻\n",
      "引發\n",
      "議\n",
      "高鐵上\n",
      "有\n",
      "規定\n",
      "其\n",
      "有\n",
      "公德心\n",
      "對方\n",
      "執意\n",
      "不聽\n",
      "男子\n",
      "拍\n",
      "視頻\n",
      "男子拍視頻\n",
      "侵犯\n",
      "她隱私權\n",
      "客服人員\n",
      "表示\n",
      "喫泡麪\n",
      "高鐵\n",
      "屬於\n",
      "強空間\n",
      "每名乘客\n",
      "有\n",
      "維護內秩序義務\n",
      "這\n",
      "也是\n",
      "基本品質\n",
      "高鐵\n",
      "禁止\n",
      "食用\n",
      "明確\n",
      "禁止\n",
      "食用\n",
      "他人\n",
      "食用\n",
      "某種食品\n",
      "個人權利\n",
      "便是\n",
      "他人義務\n",
      "任何人\n",
      "侵犯\n",
      "他人權利\n",
      "這\n",
      "是\n",
      "基本條件\n",
      "每個公民\n",
      "得以\n",
      "正常工作\n",
      "每個公民\n",
      "得以\n",
      "正常工作\n",
      "你權利\n",
      "止於\n",
      "我鼻尖\n",
      "行使前提\n",
      "是\n",
      "影響正常生活\n",
      "權利\n",
      "爲\n",
      "權利\n",
      "高鐵\n",
      "喫\n",
      "泡麪\n",
      "高鐵\n",
      "喫\n",
      "泡麪\n",
      "喫泡麪男子\n",
      "侵犯\n",
      "秩序\n",
      "高鐵\n",
      "屬於\n",
      "封閉空間\n",
      "與\n",
      "禁止\n",
      "食用刺激性食品\n",
      "高鐵運營方\n",
      "建議\n",
      "食用刺激性食品\n",
      "等泡麪食物\n",
      "產生\n",
      "刺激性味道\n",
      "食用該食品\n",
      "取決於\n",
      "個人喜好\n",
      "這\n",
      "也是\n",
      "很多網友批評食用泡麪男子\n",
      "很多網友\n",
      "批評\n",
      "食用泡麪男子\n",
      "公民義務\n",
      "分爲\n",
      "法律義務\n",
      "違法者\n",
      "受到\n",
      "應有懲戒\n",
      "制止者\n",
      "屬於\n",
      "受鼓勵見義勇爲\n",
      "應\n",
      "受\n",
      "鼓勵\n",
      "有人\n",
      "違反\n",
      "道德義務\n",
      "高鐵\n",
      "喫\n",
      "泡麪\n",
      "高鐵\n",
      "喫\n",
      "泡麪\n",
      "等喫泡麪\n",
      "產生\n",
      "刺激性氣味\n",
      "可能\n",
      "產生\n",
      "刺激性氣味\n",
      "等喫泡麪產生刺激性氣味食物\n",
      "成爲\n",
      "共識\n",
      "他人\n",
      "喫\n",
      "泡麪\n",
      "上\n",
      "喫\n",
      "泡麪\n",
      "喫泡麪系\n",
      "是\n",
      "正常生活一部分\n",
      "不\n",
      "違反\n",
      "公共利益\n",
      "他人\n",
      "喫\n",
      "泡麪\n",
      "每個人行\n",
      "使\n",
      "權利\n",
      "人與人之間\n",
      "趨於\n",
      "平等\n",
      "公共生活\n",
      "趨向\n",
      "有序\n"
     ]
    }
   ],
   "source": [
    "cc = OpenCC('s2t')\n",
    "for i in svos:\n",
    "    for j in i:\n",
    "        print(cc.convert(j))"
   ]
  },
  {
   "cell_type": "markdown",
   "id": "ece8b121",
   "metadata": {},
   "source": [
    "# 下面不是"
   ]
  },
  {
   "cell_type": "code",
   "execution_count": 20,
   "id": "4e79fdd1",
   "metadata": {},
   "outputs": [
    {
     "data": {
      "text/plain": [
       "'/opt/anaconda3/lib/python3.9/site-packages/pandas/__init__.py'"
      ]
     },
     "execution_count": 20,
     "metadata": {},
     "output_type": "execute_result"
    }
   ],
   "source": [
    "import pyltp\n",
    "import pandas\n",
    "pandas.__file__"
   ]
  },
  {
   "cell_type": "code",
   "execution_count": 21,
   "id": "2e77f916",
   "metadata": {},
   "outputs": [],
   "source": [
    "pyltp.__file__"
   ]
  },
  {
   "cell_type": "code",
   "execution_count": 25,
   "id": "3b03d736",
   "metadata": {},
   "outputs": [
    {
     "data": {
      "text/plain": [
       "'3.9.7 (default, Sep 16 2021, 08:50:36) \\n[Clang 10.0.0 ]'"
      ]
     },
     "execution_count": 25,
     "metadata": {},
     "output_type": "execute_result"
    }
   ],
   "source": [
    "import sys\n",
    "sys.version"
   ]
  },
  {
   "cell_type": "code",
   "execution_count": 26,
   "id": "789175fb",
   "metadata": {},
   "outputs": [
    {
     "name": "stdout",
     "output_type": "stream",
     "text": [
      "\u001b[33mWARNING: Requirement 'pyltp-0.2.1-cp39-cp39m-win_amd64.whl' looks like a filename, but the file does not exist\u001b[0m\n",
      "\u001b[31mERROR: pyltp-0.2.1-cp39-cp39m-win_amd64.whl is not a supported wheel on this platform.\u001b[0m\n",
      "Note: you may need to restart the kernel to use updated packages.\n"
     ]
    }
   ],
   "source": [
    "pip install pyltp-0.2.1-cp39-cp39m-win_amd64.whl"
   ]
  },
  {
   "cell_type": "code",
   "execution_count": 27,
   "id": "8ead15fe",
   "metadata": {},
   "outputs": [
    {
     "data": {
      "text/plain": [
       "'/Users/arthur/Desktop/OpenIEStanza_EventEmbedding'"
      ]
     },
     "execution_count": 27,
     "metadata": {},
     "output_type": "execute_result"
    }
   ],
   "source": [
    "pwd"
   ]
  },
  {
   "cell_type": "code",
   "execution_count": 28,
   "id": "fbc307fe",
   "metadata": {},
   "outputs": [
    {
     "name": "stdout",
     "output_type": "stream",
     "text": [
      "Requirement already satisfied: setuptools in /opt/anaconda3/lib/python3.9/site-packages (61.2.0)\n",
      "Note: you may need to restart the kernel to use updated packages.\n"
     ]
    }
   ],
   "source": [
    "pip install setuptools"
   ]
  },
  {
   "cell_type": "code",
   "execution_count": 29,
   "id": "6f23d132",
   "metadata": {},
   "outputs": [
    {
     "data": {
      "text/plain": [
       "'/Users/arthur/Desktop/OpenIEStanza_EventEmbedding'"
      ]
     },
     "execution_count": 29,
     "metadata": {},
     "output_type": "execute_result"
    }
   ],
   "source": [
    "pwd"
   ]
  },
  {
   "cell_type": "code",
   "execution_count": 38,
   "id": "82bbf9a0",
   "metadata": {},
   "outputs": [
    {
     "name": "stdout",
     "output_type": "stream",
     "text": [
      "Collecting package metadata (current_repodata.json): done\n",
      "Solving environment: failed with initial frozen solve. Retrying with flexible solve.\n",
      "Collecting package metadata (repodata.json): done\n",
      "Solving environment: failed with initial frozen solve. Retrying with flexible solve.\n",
      "\n",
      "PackagesNotFoundError: The following packages are not available from current channels:\n",
      "\n",
      "  - pyltp\n",
      "\n",
      "Current channels:\n",
      "\n",
      "  - https://repo.anaconda.com/pkgs/main/osx-64\n",
      "  - https://repo.anaconda.com/pkgs/main/noarch\n",
      "  - https://repo.anaconda.com/pkgs/r/osx-64\n",
      "  - https://repo.anaconda.com/pkgs/r/noarch\n",
      "\n",
      "To search for alternate channels that may provide the conda package you're\n",
      "looking for, navigate to\n",
      "\n",
      "    https://anaconda.org\n",
      "\n",
      "and use the search bar at the top of the page.\n",
      "\n",
      "\n",
      "\n",
      "Note: you may need to restart the kernel to use updated packages.\n"
     ]
    }
   ],
   "source": [
    "conda install pyltp"
   ]
  },
  {
   "cell_type": "code",
   "execution_count": 47,
   "id": "1727ec90",
   "metadata": {},
   "outputs": [],
   "source": [
    "import pyltp"
   ]
  },
  {
   "cell_type": "code",
   "execution_count": 48,
   "id": "8f3ae369",
   "metadata": {},
   "outputs": [
    {
     "data": {
      "text/plain": [
       "['__doc__',\n",
       " '__file__',\n",
       " '__loader__',\n",
       " '__name__',\n",
       " '__package__',\n",
       " '__path__',\n",
       " '__spec__']"
      ]
     },
     "execution_count": 48,
     "metadata": {},
     "output_type": "execute_result"
    }
   ],
   "source": [
    "dir(pyltp)"
   ]
  },
  {
   "cell_type": "code",
   "execution_count": null,
   "id": "2feb4876",
   "metadata": {},
   "outputs": [],
   "source": []
  }
 ],
 "metadata": {
  "kernelspec": {
   "display_name": "Python 3 (ipykernel)",
   "language": "python",
   "name": "python3"
  },
  "language_info": {
   "codemirror_mode": {
    "name": "ipython",
    "version": 3
   },
   "file_extension": ".py",
   "mimetype": "text/x-python",
   "name": "python",
   "nbconvert_exporter": "python",
   "pygments_lexer": "ipython3",
   "version": "3.9.7"
  }
 },
 "nbformat": 4,
 "nbformat_minor": 5
}
