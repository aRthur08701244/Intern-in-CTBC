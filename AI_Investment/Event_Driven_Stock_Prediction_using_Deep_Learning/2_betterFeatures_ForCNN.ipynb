{
 "cells": [
  {
   "cell_type": "code",
   "execution_count": 2,
   "id": "b65cf390",
   "metadata": {},
   "outputs": [],
   "source": [
    "import os\n",
    "import pandas as pd\n",
    "import numpy as np\n",
    "# os.chdir('/Users/arthur/Desktop/Event_Driven_Stock_Prediction_using_Deep_Learning/')"
   ]
  },
  {
   "cell_type": "code",
   "execution_count": 3,
   "id": "f5fd9895",
   "metadata": {},
   "outputs": [],
   "source": [
    "# train = pd.read_csv('./input/featureMatrix_0_train.csv')\n",
    "# valid = pd.read_csv('./input/featureMatrix_0_validation.csv')\n",
    "# test = pd.read_csv('./input/featureMatrix_0_test.csv')"
   ]
  },
  {
   "cell_type": "code",
   "execution_count": 4,
   "id": "a26bc9b3",
   "metadata": {
    "scrolled": true
   },
   "outputs": [],
   "source": [
    "# train_df = pd.DataFrame()\n",
    "# for i in train.index:\n",
    "#     feature = pd.DataFrame( data = train.iloc[i, 0].split(' ') )\n",
    "#     train_df = pd.concat([train_df, feature])"
   ]
  },
  {
   "cell_type": "code",
   "execution_count": 5,
   "id": "e9953e34",
   "metadata": {},
   "outputs": [],
   "source": [
    "# valid_df = pd.DataFrame()\n",
    "# for i in valid.index:\n",
    "#     feature = pd.DataFrame( data = valid.iloc[i, 0].split(' ') )\n",
    "#     valid_df = pd.concat([valid_df, feature])"
   ]
  },
  {
   "cell_type": "code",
   "execution_count": 7,
   "id": "867604ac",
   "metadata": {},
   "outputs": [],
   "source": [
    "# test_df = pd.DataFrame()\n",
    "# for i in test.index:\n",
    "#     feature = pd.DataFrame( data = test.iloc[i, 0].split(' ') )\n",
    "#     test_df = pd.concat([test_df, feature])"
   ]
  },
  {
   "cell_type": "code",
   "execution_count": 3,
   "id": "718e4688",
   "metadata": {
    "scrolled": true
   },
   "outputs": [
    {
     "name": "stdout",
     "output_type": "stream",
     "text": [
      "Processing featureMatrix_52_train.csv\n",
      "Processing featureMatrix_46_train.csv\n",
      "Processing featureMatrix_67_train.csv\n",
      "Processing featureMatrix_73_train.csv\n",
      "Processing featureMatrix_31_train.csv\n",
      "Processing featureMatrix_61_train.csv\n",
      ".DS_Store has already existed\n",
      "Processing featureMatrix_75_train.csv\n",
      "Processing featureMatrix_54_train.csv\n",
      "Processing featureMatrix_40_train.csv\n",
      "Processing featureMatrix_78_train.csv\n",
      "Processing featureMatrix_59_train.csv\n",
      "Processing featureMatrix_37_train.csv\n",
      "Processing featureMatrix_47_train.csv\n",
      "Processing featureMatrix_53_train.csv\n",
      "Processing featureMatrix_72_train.csv\n",
      "Processing featureMatrix_66_train.csv\n",
      "Processing featureMatrix_74_train.csv\n",
      "Processing featureMatrix_60_train.csv\n",
      "Processing featureMatrix_41_train.csv\n",
      "Processing featureMatrix_55_train.csv\n",
      "Processing featureMatrix_79_train.csv\n",
      "Processing featureMatrix_36_train.csv\n",
      "Processing featureMatrix_58_train.csv\n",
      "Processing featureMatrix_65_train.csv\n",
      "Processing featureMatrix_71_train.csv\n",
      "Processing featureMatrix_50_train.csv\n",
      "Processing featureMatrix_44_train.csv\n",
      "Processing featureMatrix_68_train.csv\n",
      "Processing featureMatrix_33_train.csv\n",
      "Processing featureMatrix_49_train.csv\n",
      "Processing featureMatrix_56_train.csv\n",
      "Processing featureMatrix_42_train.csv\n",
      "Processing featureMatrix_38_train.csv\n",
      "Processing featureMatrix_63_train.csv\n",
      "Processing featureMatrix_77_train.csv\n",
      "Processing featureMatrix_35_train.csv\n",
      "Processing featureMatrix_70_train.csv\n",
      "Processing featureMatrix_64_train.csv\n",
      "Processing featureMatrix_45_train.csv\n",
      "Processing featureMatrix_51_train.csv\n",
      "Processing featureMatrix_69_train.csv\n",
      "Processing featureMatrix_32_train.csv\n",
      "Processing featureMatrix_48_train.csv\n",
      "Processing featureMatrix_43_train.csv\n",
      "Processing featureMatrix_39_train.csv\n",
      "Processing featureMatrix_57_train.csv\n",
      "Processing featureMatrix_76_train.csv\n",
      "Processing featureMatrix_62_train.csv\n",
      "Processing featureMatrix_34_train.csv\n"
     ]
    }
   ],
   "source": [
    "loc = './input/stockFeatures/'\n",
    "input_files = [f for f in os.listdir(loc)]\n",
    "\n",
    "for file in input_files:\n",
    "    existed_files = [f for f in os.listdir('./input/betterFeatures_ForCNN/')  if file.endswith('.csv')]\n",
    "    if file in existed_files:\n",
    "        print(file, 'has already existed')\n",
    "    else:\n",
    "        try:\n",
    "            print('Processing', file)\n",
    "            matrix = pd.read_csv(loc+file)\n",
    "            # print(matrix)\n",
    "            feature_df = pd.DataFrame()\n",
    "            for i in matrix.index:\n",
    "                feature = pd.DataFrame( data = matrix.iloc[i, 0].split(' ') )\n",
    "                feature_df = pd.concat([feature_df, feature.T])\n",
    "            feature_df.to_csv('./input/betterFeatures_ForCNN/' + file)\n",
    "        except:\n",
    "            print('We have lost', file)"
   ]
  },
  {
   "cell_type": "code",
   "execution_count": null,
   "id": "d0975639",
   "metadata": {},
   "outputs": [],
   "source": []
  }
 ],
 "metadata": {
  "kernelspec": {
   "display_name": "Python 3 (ipykernel)",
   "language": "python",
   "name": "python3"
  },
  "language_info": {
   "codemirror_mode": {
    "name": "ipython",
    "version": 3
   },
   "file_extension": ".py",
   "mimetype": "text/x-python",
   "name": "python",
   "nbconvert_exporter": "python",
   "pygments_lexer": "ipython3",
   "version": "3.9.7"
  },
  "vscode": {
   "interpreter": {
    "hash": "aee8b7b246df8f9039afb4144a1f6fd8d2ca17a180786b69acc140d282b71a49"
   }
  }
 },
 "nbformat": 4,
 "nbformat_minor": 5
}
