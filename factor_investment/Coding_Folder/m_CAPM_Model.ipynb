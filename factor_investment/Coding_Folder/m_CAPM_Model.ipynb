{
 "cells": [
  {
   "cell_type": "markdown",
   "id": "47859c27",
   "metadata": {},
   "source": [
    "# Calculate and Show factor premium"
   ]
  },
  {
   "cell_type": "code",
   "execution_count": 1,
   "id": "3ae59dab",
   "metadata": {
    "id": "3ae59dab"
   },
   "outputs": [
    {
     "name": "stdout",
     "output_type": "stream",
     "text": [
      "(CVXPY) Aug 02 02:41:10 PM: Encountered unexpected exception importing solver SCS:\n",
      "ImportError('dlopen(/opt/anaconda3/lib/python3.9/site-packages/_scs_direct.cpython-39-darwin.so, 2): Symbol not found: _aligned_alloc\\n  Referenced from: /opt/anaconda3/lib/python3.9/site-packages/scs/.dylibs/libgomp.1.dylib (which was built for Mac OS X 10.15)\\n  Expected in: /usr/lib/libSystem.B.dylib\\n in /opt/anaconda3/lib/python3.9/site-packages/scs/.dylibs/libgomp.1.dylib')\n"
     ]
    }
   ],
   "source": [
    "import pandas as pd\n",
    "import numpy as np\n",
    "from pandas.core.arrays.sparse import dtype\n",
    "# from model_v1 import MinRiskByHistoricalVar\n",
    "import matplotlib.pyplot as plt\n",
    "import ffn\n",
    "import dask.dataframe\n",
    "import os\n",
    "import warnings\n",
    "import copy\n",
    "import sklearn as sk\n",
    "import cvxpy as cvx\n",
    "import datetime\n",
    "import matplotlib.pyplot as plt\n",
    "os.chdir('/Users/arthur/Desktop/factor_investment')"
   ]
  },
  {
   "cell_type": "markdown",
   "id": "7bc8f5c4",
   "metadata": {},
   "source": [
    "標準化個因子\n",
    "考量市值大小\n",
    "方向變化（正相關 負相關）\n",
    "缺值等權合成\n",
    "中性化（https://heatask.com/photograph/69198.html）\n"
   ]
  },
  {
   "cell_type": "markdown",
   "id": "d565fec2",
   "metadata": {
    "id": "d565fec2"
   },
   "source": []
  },
  {
   "cell_type": "code",
   "execution_count": 2,
   "id": "ede1fe02",
   "metadata": {},
   "outputs": [],
   "source": [
    "def nor(lis):\n",
    "    lis = (np.array(lis) - np.nanmean(lis)) / (np.nanvar(lis))**(1/2)\n",
    "    return lis"
   ]
  },
  {
   "cell_type": "code",
   "execution_count": 3,
   "id": "57ab3638",
   "metadata": {},
   "outputs": [],
   "source": [
    "def get_optimal_weights(covariance_matrix):\n",
    "\n",
    "    num_of_weights = covariance_matrix.shape[0]\n",
    "    \n",
    "    x = cvx.Variable(num_of_weights)\n",
    "    \n",
    "    portfolio_variance = cvx.quad_form(x, covariance_matrix)\n",
    "    \n",
    "    objective = cvx.Minimize(portfolio_variance)\n",
    "    \n",
    "    constraints = [x >= 0, sum(x) == 1]\n",
    "   \n",
    "    problem = cvx.Problem(objective, constraints)\n",
    "    problem.solve()\n",
    "    \n",
    "    x_values = x.value\n",
    "    return x_values"
   ]
  },
  {
   "cell_type": "code",
   "execution_count": 4,
   "id": "2d71d298",
   "metadata": {},
   "outputs": [],
   "source": [
    "def mul(return_list):\n",
    "    return_list = return_list[~(np.isnan(return_list))]\n",
    "    new_return = 1\n",
    "    for i in return_list:\n",
    "        new_return = new_return*i\n",
    "    \n",
    "    return new_return"
   ]
  },
  {
   "cell_type": "code",
   "execution_count": 5,
   "id": "927286b3",
   "metadata": {
    "id": "927286b3"
   },
   "outputs": [],
   "source": [
    "candidatePoolDF=pd.read_excel('./計算溢酬/CTBCdata/10個因子原始資料.xlsx','125檔', dtype=str,index_col=0,header=1)\n",
    "# factor_size=pd.read_csv('./CTBCdata/419valuefactor.csv', index_col=0)\n",
    "CTP=pd.read_excel('./計算溢酬/CTBCdata/factorvalues.xlsx','CTP', index_col=0)\n",
    "EB=pd.read_excel('./計算溢酬/CTBCdata/factorvalues.xlsx','EB', index_col=0)\n",
    "EP=pd.read_excel('./計算溢酬/CTBCdata/factorvalues.xlsx','EP', index_col=0)\n",
    "MOM=pd.read_excel('./計算溢酬/CTBCdata/factorvalues.xlsx','MOM', index_col=0)\n",
    "VOL=pd.read_excel('./計算溢酬/CTBCdata/factorvalues.xlsx','VOL', index_col=0)"
   ]
  },
  {
   "cell_type": "code",
   "execution_count": 6,
   "id": "db38d3ea",
   "metadata": {
    "id": "db38d3ea"
   },
   "outputs": [
    {
     "name": "stdout",
     "output_type": "stream",
     "text": [
      "['50', '1101', '1102', '1216', '1227', '1301', '1303', '1326', '1402', '1476', '1504', '1565', '1590', '1722', '1802', '2002', '2049', '2105', '2201', '2207', '2227', '2301', '2303', '2308', '2317', '2324', '2327', '2330', '2337', '2344', '2345', '2347', '2353', '2354', '2356', '2357', '2371', '2377', '2379', '2382', '2385', '2395', '2408', '2409', '2412', '2454', '2474', '2492', '2498', '2603', '2609', '2610', '2615', '2618', '2633', '2801', '2823', '2834', '2880', '2881', '2882', '2883', '2884', '2885', '2886', '2887', '2888', '2890', '2891', '2892', '2912', '2915', '3008', '3034', '3037', '3045', '3105', '3176', '3231', '3293', '3481', '3529', '3532', '3552', '3673', '3682', '3702', '3711', '4147', '4157', '4174', '4743', '4904', '4938', '4958', '4966', '5269', '5347', '5483', '5530', '5871', '5876', '5880', '5903', '5904', '6121', '6147', '6239', '6415', '6446', '6456', '6488', '6505', '6669', '8044', '8046', '8069', '8299', '8406', '8436', '8454', '8464', '9904', '9910', '9921', '9945']\n",
      "126\n"
     ]
    }
   ],
   "source": [
    "# NoBenchmarkPool=list(candidatePoolDF.index)\n",
    "# candidatePool=['0050']+NoBenchmarkPool\n",
    "\n",
    "candidatePool=list(candidatePoolDF.index)\n",
    "\n",
    "candidatePool=[str(x) for x in candidatePool]\n",
    "candidatePool.sort()\n",
    "candidatePool = ['50']+candidatePool\n",
    "print(candidatePool)\n",
    "print(len(candidatePool))"
   ]
  },
  {
   "cell_type": "code",
   "execution_count": 7,
   "id": "3101f3be",
   "metadata": {},
   "outputs": [],
   "source": [
    "CTP = CTP[CTP.index.astype('str').isin(candidatePool)]\n",
    "EB = EB[EB.index.astype('str').isin(candidatePool)]\n",
    "EP = EP[EP.index.astype('str').isin(candidatePool)]\n",
    "VOL = VOL[VOL.index.astype('str').isin(candidatePool)]\n",
    "MOM= MOM[MOM.index.astype('str').isin(candidatePool)]\n",
    "\n",
    "CTP = CTP.fillna(np.nan)\n",
    "EB = EB.fillna(np.nan)\n",
    "EP = EP.fillna(np.nan)\n",
    "VOL = VOL.fillna(np.nan)\n",
    "MOM = MOM.fillna(np.nan)"
   ]
  },
  {
   "cell_type": "code",
   "execution_count": 8,
   "id": "fc5b7d3c",
   "metadata": {},
   "outputs": [],
   "source": [
    "def highgroup(factor_df):\n",
    "    high_group = pd.DataFrame()\n",
    "\n",
    "    for i in factor_df.columns:\n",
    "        values = factor_df.loc[:, i].values\n",
    "        values = values[~np.isnan(values)]\n",
    "        num = round(len(values)/5)\n",
    "        top_index = factor_df.index[ np.argpartition(values, -num)[-num:] ]\n",
    "\n",
    "        df = pd.DataFrame({i:top_index}).astype('str')\n",
    "        high_group = pd.concat([high_group, df], ignore_index=True, axis=1)\n",
    "\n",
    "    high_group.columns = factor_df.columns\n",
    "    return high_group\n",
    "        \n",
    "def lowgroup(factor_df):\n",
    "    low_group = pd.DataFrame()\n",
    "\n",
    "    for i in factor_df.columns:\n",
    "        values = factor_df.loc[:, i].values\n",
    "        values = values[~np.isnan(values)]\n",
    "        num = round(len(values)/5)\n",
    "        low_index = factor_df.index[ np.argpartition(values, num)[0:num] ]\n",
    "\n",
    "        df = pd.DataFrame({i:low_index}).astype('str')\n",
    "        low_group = pd.concat([low_group, df], ignore_index=True, axis=1)\n",
    "\n",
    "    low_group.columns = factor_df.columns\n",
    "    return low_group"
   ]
  },
  {
   "cell_type": "code",
   "execution_count": 19,
   "id": "ecb079fe",
   "metadata": {},
   "outputs": [],
   "source": [
    "def cal_premium(current_index):\n",
    "\n",
    "    high_selected_stock = highgroup(current_index).fillna('nan')\n",
    "    low_selected_stock = lowgroup(current_index).fillna('nan')\n",
    "\n",
    "    high_selected_stock.columns = high_selected_stock.columns.date\n",
    "\n",
    "    low_selected_stock.columns = low_selected_stock.columns.date\n",
    "    \n",
    "    try:\n",
    "        prices = pd.read_csv('./計算溢酬/CTBCdata/prices.csv', index_col=0)\n",
    "#         print(prices)\n",
    "    except:\n",
    "        col_list = [\"證券代碼\", \"簡稱\", \"年月日\", \"收盤價(元)\"]\n",
    "        price = pd.read_csv('./data/TEJ_StockPrice_20052022.csv', encoding='big5', encoding_errors='ignore', usecols=col_list)\n",
    "        price[\"證券代碼\"] = [str(x).strip() for x in price[\"證券代碼\"]]\n",
    "        price[\"簡稱\"] = [x.strip() for x in price[\"簡稱\"]]\n",
    "        price.年月日 = pd.to_datetime(price.年月日).dt.date\n",
    "\n",
    "        prices = pd.DataFrame(columns = candidatePool)\n",
    "        for i in price.index:\n",
    "            coid = price.loc[i, \"證券代碼\"]\n",
    "            if coid in candidatePool: # 只抓125檔的價格\n",
    "                date = price.loc[i, \"年月日\"]\n",
    "                close = price.loc[i, \"收盤價(元)\"]\n",
    "                prices.loc[date, coid] = close\n",
    "                if (i % 10000) == 0:\n",
    "                    print(i//10000, end=' ')\n",
    "        for i in pd.date_range(start='2005-01-03', end='2022-05-16').date:\n",
    "            if i not in prices.index.values:\n",
    "        #         print(i)\n",
    "                prices.loc[i, :] = [np.nan]*126\n",
    "\n",
    "        prices = prices.sort_index()\n",
    "        prices = prices.fillna(method='ffill')\n",
    "        prices.to_csv('./計算溢酬/CTBCdata/prices.csv')\n",
    "        \n",
    "    prices.index = prices.index.astype('datetime64[ns]').date\n",
    "\n",
    "    return_df = pd.DataFrame( index = [0, 1], columns=pd.date_range( start=str(high_selected_stock.columns[0]+datetime.timedelta(days=0)), end=str(high_selected_stock.columns[-1]+ datetime.timedelta(days=90)) ).date )\n",
    "\n",
    "    \n",
    "    \n",
    "    for gronpNum in [0, 1]:\n",
    "        if gronpNum == 0:\n",
    "            selected_stock = high_selected_stock\n",
    "        else:\n",
    "            selected_stock = low_selected_stock\n",
    "\n",
    "        for j in range(selected_stock.shape[1]):\n",
    "                start_date = selected_stock.columns[j] + datetime.timedelta(days=0)\n",
    "                end_date = selected_stock.columns[j] + datetime.timedelta(days=90)\n",
    "                print(start_date, end_date)\n",
    "\n",
    "                for i in range(selected_stock.shape[0]):\n",
    "                    if selected_stock.iloc[i, j] != 'nan':\n",
    "                        stock_coid = selected_stock.iloc[i, j]\n",
    "                        stock_buying_price = prices.loc[start_date, stock_coid]\n",
    "\n",
    "                        for k in pd.date_range(start=start_date, end=end_date).date:\n",
    "                            stock_selling_price = prices.loc[k, stock_coid]\n",
    "                            stock_odbselling_price = prices.loc[k-datetime.timedelta(days=1), stock_coid] # one-date-before -> odb\n",
    "                            if k != end_date:\n",
    "                                return_df.loc[gronpNum, k] = np.append(return_df.loc[gronpNum, k], stock_selling_price/stock_odbselling_price)\n",
    "                            else:\n",
    "                                return_df.loc[gronpNum, k] = np.append(return_df.loc[gronpNum, k], stock_selling_price*0.997/stock_odbselling_price)\n",
    "    return return_df"
   ]
  },
  {
   "cell_type": "code",
   "execution_count": 10,
   "id": "990904ec",
   "metadata": {},
   "outputs": [],
   "source": [
    "def aggregate(return_df):\n",
    "\n",
    "    for i in range(len(return_df.columns)):\n",
    "        return_df.iloc[0, i] = np.nanmean(return_df.iloc[0, i] )\n",
    "        return_df.iloc[1, i] = np.nanmean(return_df.iloc[1, i] )\n",
    "\n",
    "    return_df = return_df.fillna(1)\n",
    "\n",
    "    return_df = return_df.T\n",
    "    return_df.columns = ['HighGroup', 'LowGroup']\n",
    "    \n",
    "    return return_df"
   ]
  },
  {
   "cell_type": "code",
   "execution_count": 11,
   "id": "a753b704",
   "metadata": {
    "scrolled": true
   },
   "outputs": [],
   "source": [
    "def cumu(return_df):\n",
    "    cumu_return = copy.copy(return_df)\n",
    "\n",
    "    for i in range(len(return_df.iloc[:, 0])):\n",
    "        if i != 0:\n",
    "            cumu_return.iloc[i, 0] = cumu_return.iloc[i-1, 0] * cumu_return.iloc[i, 0]\n",
    "\n",
    "    for i in range(len(return_df.iloc[:, 1])):\n",
    "        if i != 0:\n",
    "            cumu_return.iloc[i, 1] = cumu_return.iloc[i-1, 1] * cumu_return.iloc[i, 1]\n",
    "    \n",
    "    return cumu_return"
   ]
  },
  {
   "cell_type": "code",
   "execution_count": 14,
   "id": "1895781a",
   "metadata": {},
   "outputs": [],
   "source": [
    "%matplotlib inline\n",
    "\n",
    "def draw(factor, name):\n",
    "    factor_Premium = cal_premium(factor)\n",
    "    factor_Premium = aggregate(factor_Premium)\n",
    "    factor_Cumu_Premium = cumu(factor_Premium)\n",
    "    \n",
    "    \n",
    "#     fig = plt.figure(figsize=(15,4))\n",
    "#     ax = plt.axes()\n",
    "\n",
    "#     ax.plot(factor_Premium.index, factor_Premium.iloc[:, 0]-factor_Premium.iloc[:, 1], label=name+'_Premium')\n",
    "#     ax.plot(factor_Premium.index, len(factor_Premium.iloc[:, 0]-factor_Premium.iloc[:, 1])*[0], label='Benchmark')\n",
    "\n",
    "#     ax.set_xlabel('time')  # Add an x-label to the axes.\n",
    "#     ax.set_ylabel('factor premium')  # Add a y-label to the axes.\n",
    "#     ax.legend();  # Add a legend.\n",
    "    \n",
    "    ### /// ###\n",
    "\n",
    "    fig = plt.figure(figsize=(15,4))\n",
    "    ax = plt.axes()\n",
    "\n",
    "    ax.plot(factor_Cumu_Premium.index, factor_Cumu_Premium.iloc[:, 0]-factor_Cumu_Premium.iloc[:, 1], label=name+'_Cumulative_Premium')\n",
    "    ax.plot(factor_Cumu_Premium.index, len(factor_Cumu_Premium.iloc[:, 0]-factor_Cumu_Premium.iloc[:, 1])*[0], label='Benchmark')\n",
    "\n",
    "    ax.set_xlabel('time')  # Add an x-label to the axes.\n",
    "    ax.set_ylabel('factor premium')  # Add a y-label to the axes.\n",
    "    ax.legend();  # Add a legend.\n",
    "    \n",
    "    factor_Premium.to_csv('/Users/arthur/Desktop/bbmarket/index_data/'+name+'_Premium.csv')"
   ]
  },
  {
   "cell_type": "code",
   "execution_count": 20,
   "id": "14a0ed0e",
   "metadata": {
    "scrolled": true
   },
   "outputs": [
    {
     "name": "stdout",
     "output_type": "stream",
     "text": [
      "2010-05-31 2010-08-29\n",
      "2010-08-31 2010-11-29\n",
      "2010-11-30 2011-02-28\n",
      "2011-03-31 2011-06-29\n",
      "2011-05-31 2011-08-29\n",
      "2011-08-31 2011-11-29\n",
      "2011-11-30 2012-02-28\n",
      "2012-03-31 2012-06-29\n",
      "2012-05-31 2012-08-29\n",
      "2012-08-31 2012-11-29\n",
      "2012-11-30 2013-02-28\n",
      "2013-03-31 2013-06-29\n",
      "2013-05-31 2013-08-29\n",
      "2013-08-31 2013-11-29\n",
      "2013-11-30 2014-02-28\n",
      "2014-03-31 2014-06-29\n",
      "2014-05-31 2014-08-29\n",
      "2014-08-31 2014-11-29\n",
      "2014-11-30 2015-02-28\n",
      "2015-03-31 2015-06-29\n",
      "2015-05-31 2015-08-29\n",
      "2015-08-31 2015-11-29\n",
      "2015-11-30 2016-02-28\n",
      "2016-03-31 2016-06-29\n",
      "2016-05-31 2016-08-29\n",
      "2016-08-31 2016-11-29\n",
      "2016-11-30 2017-02-28\n",
      "2017-03-31 2017-06-29\n",
      "2017-05-31 2017-08-29\n",
      "2017-08-31 2017-11-29\n",
      "2017-11-30 2018-02-28\n",
      "2018-03-31 2018-06-29\n",
      "2018-05-31 2018-08-29\n",
      "2018-08-31 2018-11-29\n",
      "2018-11-30 2019-02-28\n",
      "2019-03-31 2019-06-29\n",
      "2019-05-31 2019-08-29\n",
      "2019-08-31 2019-11-29\n",
      "2019-11-30 2020-02-28\n",
      "2020-03-31 2020-06-29\n",
      "2020-05-31 2020-08-29\n",
      "2020-08-31 2020-11-29\n",
      "2020-11-30 2021-02-28\n",
      "2021-03-31 2021-06-29\n",
      "2021-05-31 2021-08-29\n",
      "2021-08-31 2021-11-29\n",
      "2021-11-30 2022-02-28\n",
      "2010-05-31 2010-08-29\n",
      "2010-08-31 2010-11-29\n",
      "2010-11-30 2011-02-28\n",
      "2011-03-31 2011-06-29\n",
      "2011-05-31 2011-08-29\n",
      "2011-08-31 2011-11-29\n",
      "2011-11-30 2012-02-28\n",
      "2012-03-31 2012-06-29\n",
      "2012-05-31 2012-08-29\n",
      "2012-08-31 2012-11-29\n",
      "2012-11-30 2013-02-28\n",
      "2013-03-31 2013-06-29\n",
      "2013-05-31 2013-08-29\n",
      "2013-08-31 2013-11-29\n",
      "2013-11-30 2014-02-28\n",
      "2014-03-31 2014-06-29\n",
      "2014-05-31 2014-08-29\n",
      "2014-08-31 2014-11-29\n",
      "2014-11-30 2015-02-28\n",
      "2015-03-31 2015-06-29\n",
      "2015-05-31 2015-08-29\n",
      "2015-08-31 2015-11-29\n",
      "2015-11-30 2016-02-28\n",
      "2016-03-31 2016-06-29\n",
      "2016-05-31 2016-08-29\n",
      "2016-08-31 2016-11-29\n",
      "2016-11-30 2017-02-28\n",
      "2017-03-31 2017-06-29\n",
      "2017-05-31 2017-08-29\n",
      "2017-08-31 2017-11-29\n",
      "2017-11-30 2018-02-28\n",
      "2018-03-31 2018-06-29\n",
      "2018-05-31 2018-08-29\n",
      "2018-08-31 2018-11-29\n",
      "2018-11-30 2019-02-28\n",
      "2019-03-31 2019-06-29\n",
      "2019-05-31 2019-08-29\n",
      "2019-08-31 2019-11-29\n",
      "2019-11-30 2020-02-28\n",
      "2020-03-31 2020-06-29\n",
      "2020-05-31 2020-08-29\n",
      "2020-08-31 2020-11-29\n",
      "2020-11-30 2021-02-28\n",
      "2021-03-31 2021-06-29\n",
      "2021-05-31 2021-08-29\n",
      "2021-08-31 2021-11-29\n",
      "2021-11-30 2022-02-28\n"
     ]
    },
    {
     "name": "stderr",
     "output_type": "stream",
     "text": [
      "/var/folders/w8/jwxq4stj29506b1pf67xpb000000gq/T/ipykernel_26079/3076069037.py:4: RuntimeWarning: Mean of empty slice\n",
      "  return_df.iloc[0, i] = np.nanmean(return_df.iloc[0, i] )\n",
      "/var/folders/w8/jwxq4stj29506b1pf67xpb000000gq/T/ipykernel_26079/3076069037.py:5: RuntimeWarning: Mean of empty slice\n",
      "  return_df.iloc[1, i] = np.nanmean(return_df.iloc[1, i] )\n"
     ]
    },
    {
     "data": {
      "image/png": "[encoded data removed]",
      "text/plain": [
       "<Figure size 1080x288 with 1 Axes>"
      ]
     },
     "metadata": {
      "needs_background": "light"
     },
     "output_type": "display_data"
    }
   ],
   "source": [
    "draw(CTP, 'CTP')"
   ]
  },
  {
   "cell_type": "code",
   "execution_count": 14,
   "id": "ea8b3242",
   "metadata": {
    "scrolled": true
   },
   "outputs": [
    {
     "name": "stdout",
     "output_type": "stream",
     "text": [
      "2010-05-31 2010-08-29\n",
      "2010-08-31 2010-11-29\n",
      "2010-11-30 2011-02-28\n",
      "2011-03-31 2011-06-29\n",
      "2011-05-31 2011-08-29\n",
      "2011-08-31 2011-11-29\n",
      "2011-11-30 2012-02-28\n",
      "2012-03-31 2012-06-29\n",
      "2012-05-31 2012-08-29\n",
      "2012-08-31 2012-11-29\n",
      "2012-11-30 2013-02-28\n",
      "2013-03-31 2013-06-29\n",
      "2013-05-31 2013-08-29\n",
      "2013-08-31 2013-11-29\n",
      "2013-11-30 2014-02-28\n",
      "2014-03-31 2014-06-29\n",
      "2014-05-31 2014-08-29\n",
      "2014-08-31 2014-11-29\n",
      "2014-11-30 2015-02-28\n",
      "2015-03-31 2015-06-29\n",
      "2015-05-31 2015-08-29\n",
      "2015-08-31 2015-11-29\n",
      "2015-11-30 2016-02-28\n",
      "2016-03-31 2016-06-29\n",
      "2016-05-31 2016-08-29\n",
      "2016-08-31 2016-11-29\n",
      "2016-11-30 2017-02-28\n",
      "2017-03-31 2017-06-29\n",
      "2017-05-31 2017-08-29\n",
      "2017-08-31 2017-11-29\n",
      "2017-11-30 2018-02-28\n",
      "2018-03-31 2018-06-29\n",
      "2018-05-31 2018-08-29\n",
      "2018-08-31 2018-11-29\n",
      "2018-11-30 2019-02-28\n",
      "2019-03-31 2019-06-29\n",
      "2019-05-31 2019-08-29\n",
      "2019-08-31 2019-11-29\n",
      "2019-11-30 2020-02-28\n",
      "2020-03-31 2020-06-29\n",
      "2020-05-31 2020-08-29\n",
      "2020-08-31 2020-11-29\n",
      "2020-11-30 2021-02-28\n",
      "2021-03-31 2021-06-29\n",
      "2021-05-31 2021-08-29\n",
      "2021-08-31 2021-11-29\n",
      "2021-11-30 2022-02-28\n",
      "2010-05-31 2010-08-29\n",
      "2010-08-31 2010-11-29\n",
      "2010-11-30 2011-02-28\n",
      "2011-03-31 2011-06-29\n",
      "2011-05-31 2011-08-29\n",
      "2011-08-31 2011-11-29\n",
      "2011-11-30 2012-02-28\n",
      "2012-03-31 2012-06-29\n",
      "2012-05-31 2012-08-29\n",
      "2012-08-31 2012-11-29\n",
      "2012-11-30 2013-02-28\n",
      "2013-03-31 2013-06-29\n",
      "2013-05-31 2013-08-29\n",
      "2013-08-31 2013-11-29\n",
      "2013-11-30 2014-02-28\n",
      "2014-03-31 2014-06-29\n",
      "2014-05-31 2014-08-29\n",
      "2014-08-31 2014-11-29\n",
      "2014-11-30 2015-02-28\n",
      "2015-03-31 2015-06-29\n",
      "2015-05-31 2015-08-29\n",
      "2015-08-31 2015-11-29\n",
      "2015-11-30 2016-02-28\n",
      "2016-03-31 2016-06-29\n",
      "2016-05-31 2016-08-29\n",
      "2016-08-31 2016-11-29\n",
      "2016-11-30 2017-02-28\n",
      "2017-03-31 2017-06-29\n",
      "2017-05-31 2017-08-29\n",
      "2017-08-31 2017-11-29\n",
      "2017-11-30 2018-02-28\n",
      "2018-03-31 2018-06-29\n",
      "2018-05-31 2018-08-29\n",
      "2018-08-31 2018-11-29\n",
      "2018-11-30 2019-02-28\n",
      "2019-03-31 2019-06-29\n",
      "2019-05-31 2019-08-29\n",
      "2019-08-31 2019-11-29\n",
      "2019-11-30 2020-02-28\n",
      "2020-03-31 2020-06-29\n",
      "2020-05-31 2020-08-29\n",
      "2020-08-31 2020-11-29\n",
      "2020-11-30 2021-02-28\n",
      "2021-03-31 2021-06-29\n",
      "2021-05-31 2021-08-29\n",
      "2021-08-31 2021-11-29\n",
      "2021-11-30 2022-02-28\n"
     ]
    },
    {
     "name": "stderr",
     "output_type": "stream",
     "text": [
      "/var/folders/w8/jwxq4stj29506b1pf67xpb000000gq/T/ipykernel_6691/3076069037.py:4: RuntimeWarning: Mean of empty slice\n",
      "  return_df.iloc[0, i] = np.nanmean(return_df.iloc[0, i] )\n",
      "/var/folders/w8/jwxq4stj29506b1pf67xpb000000gq/T/ipykernel_6691/3076069037.py:5: RuntimeWarning: Mean of empty slice\n",
      "  return_df.iloc[1, i] = np.nanmean(return_df.iloc[1, i] )\n"
     ]
    },
    {
     "data": {
      "image/png": "[encoded data removed]",
      "text/plain": [
       "<Figure size 1080x288 with 1 Axes>"
      ]
     },
     "metadata": {
      "needs_background": "light"
     },
     "output_type": "display_data"
    }
   ],
   "source": [
    "draw(EB, 'EB')"
   ]
  },
  {
   "cell_type": "code",
   "execution_count": 15,
   "id": "183e095f",
   "metadata": {
    "scrolled": true
   },
   "outputs": [
    {
     "name": "stdout",
     "output_type": "stream",
     "text": [
      "2010-05-31 2010-08-29\n",
      "2010-08-31 2010-11-29\n",
      "2010-11-30 2011-02-28\n",
      "2011-03-31 2011-06-29\n",
      "2011-05-31 2011-08-29\n",
      "2011-08-31 2011-11-29\n",
      "2011-11-30 2012-02-28\n",
      "2012-03-31 2012-06-29\n",
      "2012-05-31 2012-08-29\n",
      "2012-08-31 2012-11-29\n",
      "2012-11-30 2013-02-28\n",
      "2013-03-31 2013-06-29\n",
      "2013-05-31 2013-08-29\n",
      "2013-08-31 2013-11-29\n",
      "2013-11-30 2014-02-28\n",
      "2014-03-31 2014-06-29\n",
      "2014-05-31 2014-08-29\n",
      "2014-08-31 2014-11-29\n",
      "2014-11-30 2015-02-28\n",
      "2015-03-31 2015-06-29\n",
      "2015-05-31 2015-08-29\n",
      "2015-08-31 2015-11-29\n",
      "2015-11-30 2016-02-28\n",
      "2016-03-31 2016-06-29\n",
      "2016-05-31 2016-08-29\n",
      "2016-08-31 2016-11-29\n",
      "2016-11-30 2017-02-28\n",
      "2017-03-31 2017-06-29\n",
      "2017-05-31 2017-08-29\n",
      "2017-08-31 2017-11-29\n",
      "2017-11-30 2018-02-28\n",
      "2018-03-31 2018-06-29\n",
      "2018-05-31 2018-08-29\n",
      "2018-08-31 2018-11-29\n",
      "2018-11-30 2019-02-28\n",
      "2019-03-31 2019-06-29\n",
      "2019-05-31 2019-08-29\n",
      "2019-08-31 2019-11-29\n",
      "2019-11-30 2020-02-28\n",
      "2020-03-31 2020-06-29\n",
      "2020-05-31 2020-08-29\n",
      "2020-08-31 2020-11-29\n",
      "2020-11-30 2021-02-28\n",
      "2021-03-31 2021-06-29\n",
      "2021-05-31 2021-08-29\n",
      "2021-08-31 2021-11-29\n",
      "2021-11-30 2022-02-28\n",
      "2010-05-31 2010-08-29\n",
      "2010-08-31 2010-11-29\n",
      "2010-11-30 2011-02-28\n",
      "2011-03-31 2011-06-29\n",
      "2011-05-31 2011-08-29\n",
      "2011-08-31 2011-11-29\n",
      "2011-11-30 2012-02-28\n",
      "2012-03-31 2012-06-29\n",
      "2012-05-31 2012-08-29\n",
      "2012-08-31 2012-11-29\n",
      "2012-11-30 2013-02-28\n",
      "2013-03-31 2013-06-29\n",
      "2013-05-31 2013-08-29\n",
      "2013-08-31 2013-11-29\n",
      "2013-11-30 2014-02-28\n",
      "2014-03-31 2014-06-29\n",
      "2014-05-31 2014-08-29\n",
      "2014-08-31 2014-11-29\n",
      "2014-11-30 2015-02-28\n",
      "2015-03-31 2015-06-29\n",
      "2015-05-31 2015-08-29\n",
      "2015-08-31 2015-11-29\n",
      "2015-11-30 2016-02-28\n",
      "2016-03-31 2016-06-29\n",
      "2016-05-31 2016-08-29\n",
      "2016-08-31 2016-11-29\n",
      "2016-11-30 2017-02-28\n",
      "2017-03-31 2017-06-29\n",
      "2017-05-31 2017-08-29\n",
      "2017-08-31 2017-11-29\n",
      "2017-11-30 2018-02-28\n",
      "2018-03-31 2018-06-29\n",
      "2018-05-31 2018-08-29\n",
      "2018-08-31 2018-11-29\n",
      "2018-11-30 2019-02-28\n",
      "2019-03-31 2019-06-29\n",
      "2019-05-31 2019-08-29\n",
      "2019-08-31 2019-11-29\n",
      "2019-11-30 2020-02-28\n",
      "2020-03-31 2020-06-29\n",
      "2020-05-31 2020-08-29\n",
      "2020-08-31 2020-11-29\n",
      "2020-11-30 2021-02-28\n",
      "2021-03-31 2021-06-29\n",
      "2021-05-31 2021-08-29\n",
      "2021-08-31 2021-11-29\n",
      "2021-11-30 2022-02-28\n"
     ]
    },
    {
     "name": "stderr",
     "output_type": "stream",
     "text": [
      "/var/folders/w8/jwxq4stj29506b1pf67xpb000000gq/T/ipykernel_6691/3076069037.py:4: RuntimeWarning: Mean of empty slice\n",
      "  return_df.iloc[0, i] = np.nanmean(return_df.iloc[0, i] )\n",
      "/var/folders/w8/jwxq4stj29506b1pf67xpb000000gq/T/ipykernel_6691/3076069037.py:5: RuntimeWarning: Mean of empty slice\n",
      "  return_df.iloc[1, i] = np.nanmean(return_df.iloc[1, i] )\n"
     ]
    },
    {
     "data": {
      "image/png": "[encoded data removed]",
      "text/plain": [
       "<Figure size 1080x288 with 1 Axes>"
      ]
     },
     "metadata": {
      "needs_background": "light"
     },
     "output_type": "display_data"
    }
   ],
   "source": [
    "draw(EP, 'EP')"
   ]
  },
  {
   "cell_type": "code",
   "execution_count": 16,
   "id": "fd5620fe",
   "metadata": {
    "scrolled": true
   },
   "outputs": [
    {
     "name": "stdout",
     "output_type": "stream",
     "text": [
      "2010-05-31 2010-08-29\n",
      "2010-08-31 2010-11-29\n",
      "2010-11-30 2011-02-28\n",
      "2011-03-31 2011-06-29\n",
      "2011-05-31 2011-08-29\n",
      "2011-08-31 2011-11-29\n",
      "2011-11-30 2012-02-28\n",
      "2012-03-31 2012-06-29\n",
      "2012-05-31 2012-08-29\n",
      "2012-08-31 2012-11-29\n",
      "2012-11-30 2013-02-28\n",
      "2013-03-31 2013-06-29\n",
      "2013-05-31 2013-08-29\n",
      "2013-08-31 2013-11-29\n",
      "2013-11-30 2014-02-28\n",
      "2014-03-31 2014-06-29\n",
      "2014-05-31 2014-08-29\n",
      "2014-08-31 2014-11-29\n",
      "2014-11-30 2015-02-28\n",
      "2015-03-31 2015-06-29\n",
      "2015-05-31 2015-08-29\n",
      "2015-08-31 2015-11-29\n",
      "2015-11-30 2016-02-28\n",
      "2016-03-31 2016-06-29\n",
      "2016-05-31 2016-08-29\n",
      "2016-08-31 2016-11-29\n",
      "2016-11-30 2017-02-28\n",
      "2017-03-31 2017-06-29\n",
      "2017-05-31 2017-08-29\n",
      "2017-08-31 2017-11-29\n",
      "2017-11-30 2018-02-28\n",
      "2018-03-31 2018-06-29\n",
      "2018-05-31 2018-08-29\n",
      "2018-08-31 2018-11-29\n",
      "2018-11-30 2019-02-28\n",
      "2019-03-31 2019-06-29\n",
      "2019-05-31 2019-08-29\n",
      "2019-08-31 2019-11-29\n",
      "2019-11-30 2020-02-28\n",
      "2020-03-31 2020-06-29\n",
      "2020-05-31 2020-08-29\n",
      "2020-08-31 2020-11-29\n",
      "2020-11-30 2021-02-28\n",
      "2021-03-31 2021-06-29\n",
      "2021-05-31 2021-08-29\n",
      "2021-08-31 2021-11-29\n",
      "2021-11-30 2022-02-28\n",
      "2010-05-31 2010-08-29\n",
      "2010-08-31 2010-11-29\n",
      "2010-11-30 2011-02-28\n",
      "2011-03-31 2011-06-29\n",
      "2011-05-31 2011-08-29\n",
      "2011-08-31 2011-11-29\n",
      "2011-11-30 2012-02-28\n",
      "2012-03-31 2012-06-29\n",
      "2012-05-31 2012-08-29\n",
      "2012-08-31 2012-11-29\n",
      "2012-11-30 2013-02-28\n",
      "2013-03-31 2013-06-29\n",
      "2013-05-31 2013-08-29\n",
      "2013-08-31 2013-11-29\n",
      "2013-11-30 2014-02-28\n",
      "2014-03-31 2014-06-29\n",
      "2014-05-31 2014-08-29\n",
      "2014-08-31 2014-11-29\n",
      "2014-11-30 2015-02-28\n",
      "2015-03-31 2015-06-29\n",
      "2015-05-31 2015-08-29\n",
      "2015-08-31 2015-11-29\n",
      "2015-11-30 2016-02-28\n",
      "2016-03-31 2016-06-29\n",
      "2016-05-31 2016-08-29\n",
      "2016-08-31 2016-11-29\n",
      "2016-11-30 2017-02-28\n",
      "2017-03-31 2017-06-29\n",
      "2017-05-31 2017-08-29\n",
      "2017-08-31 2017-11-29\n",
      "2017-11-30 2018-02-28\n",
      "2018-03-31 2018-06-29\n",
      "2018-05-31 2018-08-29\n",
      "2018-08-31 2018-11-29\n",
      "2018-11-30 2019-02-28\n",
      "2019-03-31 2019-06-29\n",
      "2019-05-31 2019-08-29\n",
      "2019-08-31 2019-11-29\n",
      "2019-11-30 2020-02-28\n",
      "2020-03-31 2020-06-29\n",
      "2020-05-31 2020-08-29\n",
      "2020-08-31 2020-11-29\n",
      "2020-11-30 2021-02-28\n",
      "2021-03-31 2021-06-29\n",
      "2021-05-31 2021-08-29\n",
      "2021-08-31 2021-11-29\n",
      "2021-11-30 2022-02-28\n"
     ]
    },
    {
     "name": "stderr",
     "output_type": "stream",
     "text": [
      "/var/folders/w8/jwxq4stj29506b1pf67xpb000000gq/T/ipykernel_6691/3076069037.py:4: RuntimeWarning: Mean of empty slice\n",
      "  return_df.iloc[0, i] = np.nanmean(return_df.iloc[0, i] )\n",
      "/var/folders/w8/jwxq4stj29506b1pf67xpb000000gq/T/ipykernel_6691/3076069037.py:5: RuntimeWarning: Mean of empty slice\n",
      "  return_df.iloc[1, i] = np.nanmean(return_df.iloc[1, i] )\n"
     ]
    },
    {
     "data": {
      "image/png": "[encoded data removed]",
      "text/plain": [
       "<Figure size 1080x288 with 1 Axes>"
      ]
     },
     "metadata": {
      "needs_background": "light"
     },
     "output_type": "display_data"
    }
   ],
   "source": [
    "draw(VOL, 'VOL')"
   ]
  },
  {
   "cell_type": "code",
   "execution_count": 17,
   "id": "dabc5445",
   "metadata": {
    "scrolled": true
   },
   "outputs": [
    {
     "name": "stdout",
     "output_type": "stream",
     "text": [
      "2010-05-31 2010-08-29\n",
      "2010-08-31 2010-11-29\n",
      "2010-11-30 2011-02-28\n",
      "2011-03-31 2011-06-29\n",
      "2011-05-31 2011-08-29\n",
      "2011-08-31 2011-11-29\n",
      "2011-11-30 2012-02-28\n",
      "2012-03-31 2012-06-29\n",
      "2012-05-31 2012-08-29\n",
      "2012-08-31 2012-11-29\n",
      "2012-11-30 2013-02-28\n",
      "2013-03-31 2013-06-29\n",
      "2013-05-31 2013-08-29\n",
      "2013-08-31 2013-11-29\n",
      "2013-11-30 2014-02-28\n",
      "2014-03-31 2014-06-29\n",
      "2014-05-31 2014-08-29\n",
      "2014-08-31 2014-11-29\n",
      "2014-11-30 2015-02-28\n",
      "2015-03-31 2015-06-29\n",
      "2015-05-31 2015-08-29\n",
      "2015-08-31 2015-11-29\n",
      "2015-11-30 2016-02-28\n",
      "2016-03-31 2016-06-29\n",
      "2016-05-31 2016-08-29\n",
      "2016-08-31 2016-11-29\n",
      "2016-11-30 2017-02-28\n",
      "2017-03-31 2017-06-29\n",
      "2017-05-31 2017-08-29\n",
      "2017-08-31 2017-11-29\n",
      "2017-11-30 2018-02-28\n",
      "2018-03-31 2018-06-29\n",
      "2018-05-31 2018-08-29\n",
      "2018-08-31 2018-11-29\n",
      "2018-11-30 2019-02-28\n",
      "2019-03-31 2019-06-29\n",
      "2019-05-31 2019-08-29\n",
      "2019-08-31 2019-11-29\n",
      "2019-11-30 2020-02-28\n",
      "2020-03-31 2020-06-29\n",
      "2020-05-31 2020-08-29\n",
      "2020-08-31 2020-11-29\n",
      "2020-11-30 2021-02-28\n",
      "2021-03-31 2021-06-29\n",
      "2021-05-31 2021-08-29\n",
      "2021-08-31 2021-11-29\n",
      "2021-11-30 2022-02-28\n",
      "2010-05-31 2010-08-29\n",
      "2010-08-31 2010-11-29\n",
      "2010-11-30 2011-02-28\n",
      "2011-03-31 2011-06-29\n",
      "2011-05-31 2011-08-29\n",
      "2011-08-31 2011-11-29\n",
      "2011-11-30 2012-02-28\n",
      "2012-03-31 2012-06-29\n",
      "2012-05-31 2012-08-29\n",
      "2012-08-31 2012-11-29\n",
      "2012-11-30 2013-02-28\n",
      "2013-03-31 2013-06-29\n",
      "2013-05-31 2013-08-29\n",
      "2013-08-31 2013-11-29\n",
      "2013-11-30 2014-02-28\n",
      "2014-03-31 2014-06-29\n",
      "2014-05-31 2014-08-29\n",
      "2014-08-31 2014-11-29\n",
      "2014-11-30 2015-02-28\n",
      "2015-03-31 2015-06-29\n",
      "2015-05-31 2015-08-29\n",
      "2015-08-31 2015-11-29\n",
      "2015-11-30 2016-02-28\n",
      "2016-03-31 2016-06-29\n",
      "2016-05-31 2016-08-29\n",
      "2016-08-31 2016-11-29\n",
      "2016-11-30 2017-02-28\n",
      "2017-03-31 2017-06-29\n",
      "2017-05-31 2017-08-29\n",
      "2017-08-31 2017-11-29\n",
      "2017-11-30 2018-02-28\n",
      "2018-03-31 2018-06-29\n",
      "2018-05-31 2018-08-29\n",
      "2018-08-31 2018-11-29\n",
      "2018-11-30 2019-02-28\n",
      "2019-03-31 2019-06-29\n",
      "2019-05-31 2019-08-29\n",
      "2019-08-31 2019-11-29\n",
      "2019-11-30 2020-02-28\n",
      "2020-03-31 2020-06-29\n",
      "2020-05-31 2020-08-29\n",
      "2020-08-31 2020-11-29\n",
      "2020-11-30 2021-02-28\n",
      "2021-03-31 2021-06-29\n",
      "2021-05-31 2021-08-29\n",
      "2021-08-31 2021-11-29\n",
      "2021-11-30 2022-02-28\n"
     ]
    },
    {
     "name": "stderr",
     "output_type": "stream",
     "text": [
      "/var/folders/w8/jwxq4stj29506b1pf67xpb000000gq/T/ipykernel_6691/3076069037.py:4: RuntimeWarning: Mean of empty slice\n",
      "  return_df.iloc[0, i] = np.nanmean(return_df.iloc[0, i] )\n",
      "/var/folders/w8/jwxq4stj29506b1pf67xpb000000gq/T/ipykernel_6691/3076069037.py:5: RuntimeWarning: Mean of empty slice\n",
      "  return_df.iloc[1, i] = np.nanmean(return_df.iloc[1, i] )\n"
     ]
    },
    {
     "data": {
      "image/png": "[encoded data removed]",
      "text/plain": [
       "<Figure size 1080x288 with 1 Axes>"
      ]
     },
     "metadata": {
      "needs_background": "light"
     },
     "output_type": "display_data"
    }
   ],
   "source": [
    "draw(MOM, 'MOM')"
   ]
  },
  {
   "cell_type": "code",
   "execution_count": 18,
   "id": "17d04038",
   "metadata": {
    "scrolled": true
   },
   "outputs": [
    {
     "name": "stdout",
     "output_type": "stream",
     "text": [
      "2013-03-31 2013-06-29\n",
      "2013-05-31 2013-08-29\n",
      "2013-08-31 2013-11-29\n",
      "2013-11-30 2014-02-28\n",
      "2014-03-31 2014-06-29\n",
      "2014-05-31 2014-08-29\n",
      "2014-08-31 2014-11-29\n",
      "2014-11-30 2015-02-28\n",
      "2015-03-31 2015-06-29\n",
      "2015-05-31 2015-08-29\n",
      "2015-08-31 2015-11-29\n",
      "2015-11-30 2016-02-28\n",
      "2016-03-31 2016-06-29\n",
      "2016-05-31 2016-08-29\n",
      "2016-08-31 2016-11-29\n",
      "2016-11-30 2017-02-28\n",
      "2017-03-31 2017-06-29\n",
      "2017-05-31 2017-08-29\n",
      "2017-08-31 2017-11-29\n",
      "2017-11-30 2018-02-28\n",
      "2018-03-31 2018-06-29\n",
      "2018-05-31 2018-08-29\n",
      "2018-08-31 2018-11-29\n",
      "2018-11-30 2019-02-28\n",
      "2019-03-31 2019-06-29\n",
      "2019-05-31 2019-08-29\n",
      "2019-08-31 2019-11-29\n",
      "2019-11-30 2020-02-28\n",
      "2020-03-31 2020-06-29\n",
      "2020-05-31 2020-08-29\n",
      "2020-08-31 2020-11-29\n",
      "2020-11-30 2021-02-28\n",
      "2021-03-31 2021-06-29\n",
      "2021-05-31 2021-08-29\n",
      "2021-08-31 2021-11-29\n",
      "2021-11-30 2022-02-28\n",
      "2013-03-31 2013-06-29\n",
      "2013-05-31 2013-08-29\n",
      "2013-08-31 2013-11-29\n",
      "2013-11-30 2014-02-28\n",
      "2014-03-31 2014-06-29\n",
      "2014-05-31 2014-08-29\n",
      "2014-08-31 2014-11-29\n",
      "2014-11-30 2015-02-28\n",
      "2015-03-31 2015-06-29\n",
      "2015-05-31 2015-08-29\n",
      "2015-08-31 2015-11-29\n",
      "2015-11-30 2016-02-28\n",
      "2016-03-31 2016-06-29\n",
      "2016-05-31 2016-08-29\n",
      "2016-08-31 2016-11-29\n",
      "2016-11-30 2017-02-28\n",
      "2017-03-31 2017-06-29\n",
      "2017-05-31 2017-08-29\n",
      "2017-08-31 2017-11-29\n",
      "2017-11-30 2018-02-28\n",
      "2018-03-31 2018-06-29\n",
      "2018-05-31 2018-08-29\n",
      "2018-08-31 2018-11-29\n",
      "2018-11-30 2019-02-28\n",
      "2019-03-31 2019-06-29\n",
      "2019-05-31 2019-08-29\n",
      "2019-08-31 2019-11-29\n",
      "2019-11-30 2020-02-28\n",
      "2020-03-31 2020-06-29\n",
      "2020-05-31 2020-08-29\n",
      "2020-08-31 2020-11-29\n",
      "2020-11-30 2021-02-28\n",
      "2021-03-31 2021-06-29\n",
      "2021-05-31 2021-08-29\n",
      "2021-08-31 2021-11-29\n",
      "2021-11-30 2022-02-28\n"
     ]
    },
    {
     "name": "stderr",
     "output_type": "stream",
     "text": [
      "/var/folders/w8/jwxq4stj29506b1pf67xpb000000gq/T/ipykernel_6691/3076069037.py:4: RuntimeWarning: Mean of empty slice\n",
      "  return_df.iloc[0, i] = np.nanmean(return_df.iloc[0, i] )\n",
      "/var/folders/w8/jwxq4stj29506b1pf67xpb000000gq/T/ipykernel_6691/3076069037.py:5: RuntimeWarning: Mean of empty slice\n",
      "  return_df.iloc[1, i] = np.nanmean(return_df.iloc[1, i] )\n"
     ]
    },
    {
     "data": {
      "image/png": "[encoded data removed]",
      "text/plain": [
       "<Figure size 1080x288 with 1 Axes>"
      ]
     },
     "metadata": {
      "needs_background": "light"
     },
     "output_type": "display_data"
    }
   ],
   "source": [
    "SEN = pd.read_excel('./計算溢酬/CTBCdata/factorvalues_sentiment.xlsx','sentiment_2', index_col=0)\n",
    "SEN = SEN[SEN.index.astype('str').isin(candidatePool)]\n",
    "SEN = SEN.fillna(np.nan)\n",
    "\n",
    "draw(SEN, 'SEN')"
   ]
  },
  {
   "cell_type": "code",
   "execution_count": 19,
   "id": "51009982",
   "metadata": {
    "scrolled": true
   },
   "outputs": [
    {
     "name": "stdout",
     "output_type": "stream",
     "text": [
      "2013-03-31 2013-06-29\n",
      "2013-05-31 2013-08-29\n",
      "2013-08-31 2013-11-29\n",
      "2013-11-30 2014-02-28\n",
      "2014-03-31 2014-06-29\n",
      "2014-05-31 2014-08-29\n",
      "2014-08-31 2014-11-29\n",
      "2014-11-30 2015-02-28\n",
      "2015-03-31 2015-06-29\n",
      "2015-05-31 2015-08-29\n",
      "2015-08-31 2015-11-29\n",
      "2015-11-30 2016-02-28\n",
      "2016-03-31 2016-06-29\n",
      "2016-05-31 2016-08-29\n",
      "2016-08-31 2016-11-29\n",
      "2016-11-30 2017-02-28\n",
      "2017-03-31 2017-06-29\n",
      "2017-05-31 2017-08-29\n",
      "2017-08-31 2017-11-29\n",
      "2017-11-30 2018-02-28\n",
      "2018-03-31 2018-06-29\n",
      "2018-05-31 2018-08-29\n",
      "2018-08-31 2018-11-29\n",
      "2018-11-30 2019-02-28\n",
      "2019-03-31 2019-06-29\n",
      "2019-05-31 2019-08-29\n",
      "2019-08-31 2019-11-29\n",
      "2019-11-30 2020-02-28\n",
      "2020-03-31 2020-06-29\n",
      "2020-05-31 2020-08-29\n",
      "2020-08-31 2020-11-29\n",
      "2020-11-30 2021-02-28\n",
      "2021-03-31 2021-06-29\n",
      "2021-05-31 2021-08-29\n",
      "2021-08-31 2021-11-29\n",
      "2021-11-30 2022-02-28\n",
      "2013-03-31 2013-06-29\n",
      "2013-05-31 2013-08-29\n",
      "2013-08-31 2013-11-29\n",
      "2013-11-30 2014-02-28\n",
      "2014-03-31 2014-06-29\n",
      "2014-05-31 2014-08-29\n",
      "2014-08-31 2014-11-29\n",
      "2014-11-30 2015-02-28\n",
      "2015-03-31 2015-06-29\n",
      "2015-05-31 2015-08-29\n",
      "2015-08-31 2015-11-29\n",
      "2015-11-30 2016-02-28\n",
      "2016-03-31 2016-06-29\n",
      "2016-05-31 2016-08-29\n",
      "2016-08-31 2016-11-29\n",
      "2016-11-30 2017-02-28\n",
      "2017-03-31 2017-06-29\n",
      "2017-05-31 2017-08-29\n",
      "2017-08-31 2017-11-29\n",
      "2017-11-30 2018-02-28\n",
      "2018-03-31 2018-06-29\n",
      "2018-05-31 2018-08-29\n",
      "2018-08-31 2018-11-29\n",
      "2018-11-30 2019-02-28\n",
      "2019-03-31 2019-06-29\n",
      "2019-05-31 2019-08-29\n",
      "2019-08-31 2019-11-29\n",
      "2019-11-30 2020-02-28\n",
      "2020-03-31 2020-06-29\n",
      "2020-05-31 2020-08-29\n",
      "2020-08-31 2020-11-29\n",
      "2020-11-30 2021-02-28\n",
      "2021-03-31 2021-06-29\n",
      "2021-05-31 2021-08-29\n",
      "2021-08-31 2021-11-29\n",
      "2021-11-30 2022-02-28\n"
     ]
    },
    {
     "name": "stderr",
     "output_type": "stream",
     "text": [
      "/var/folders/w8/jwxq4stj29506b1pf67xpb000000gq/T/ipykernel_6691/3076069037.py:4: RuntimeWarning: Mean of empty slice\n",
      "  return_df.iloc[0, i] = np.nanmean(return_df.iloc[0, i] )\n",
      "/var/folders/w8/jwxq4stj29506b1pf67xpb000000gq/T/ipykernel_6691/3076069037.py:5: RuntimeWarning: Mean of empty slice\n",
      "  return_df.iloc[1, i] = np.nanmean(return_df.iloc[1, i] )\n"
     ]
    },
    {
     "data": {
      "image/png": "[encoded data removed]",
      "text/plain": [
       "<Figure size 1080x288 with 1 Axes>"
      ]
     },
     "metadata": {
      "needs_background": "light"
     },
     "output_type": "display_data"
    }
   ],
   "source": [
    "SEN=pd.read_excel('./計算溢酬/CTBCdata/factorvalues_sentiment.xlsx','HEAT', index_col=0)\n",
    "SEN = SEN[SEN.index.astype('str').isin(candidatePool)]\n",
    "SEN = SEN.fillna(np.nan)\n",
    "\n",
    "draw(SEN, 'HEAT')"
   ]
  },
  {
   "cell_type": "code",
   "execution_count": 21,
   "id": "bd362075",
   "metadata": {
    "scrolled": true
   },
   "outputs": [
    {
     "name": "stdout",
     "output_type": "stream",
     "text": [
      "2013-03-31 2013-06-29\n",
      "2013-05-31 2013-08-29\n",
      "2013-08-31 2013-11-29\n",
      "2013-11-30 2014-02-28\n",
      "2014-03-31 2014-06-29\n",
      "2014-05-31 2014-08-29\n",
      "2014-08-31 2014-11-29\n",
      "2014-11-30 2015-02-28\n",
      "2015-03-31 2015-06-29\n",
      "2015-05-31 2015-08-29\n",
      "2015-08-31 2015-11-29\n",
      "2015-11-30 2016-02-28\n",
      "2016-03-31 2016-06-29\n",
      "2016-05-31 2016-08-29\n",
      "2016-08-31 2016-11-29\n",
      "2016-11-30 2017-02-28\n",
      "2017-03-31 2017-06-29\n",
      "2017-05-31 2017-08-29\n",
      "2017-08-31 2017-11-29\n",
      "2017-11-30 2018-02-28\n",
      "2018-03-31 2018-06-29\n",
      "2018-05-31 2018-08-29\n",
      "2018-08-31 2018-11-29\n",
      "2018-11-30 2019-02-28\n",
      "2019-03-31 2019-06-29\n",
      "2019-05-31 2019-08-29\n",
      "2019-08-31 2019-11-29\n",
      "2019-11-30 2020-02-28\n",
      "2020-03-31 2020-06-29\n",
      "2020-05-31 2020-08-29\n",
      "2020-08-31 2020-11-29\n",
      "2020-11-30 2021-02-28\n",
      "2021-03-31 2021-06-29\n",
      "2021-05-31 2021-08-29\n",
      "2021-08-31 2021-11-29\n",
      "2021-11-30 2022-02-28\n",
      "2013-03-31 2013-06-29\n",
      "2013-05-31 2013-08-29\n",
      "2013-08-31 2013-11-29\n",
      "2013-11-30 2014-02-28\n",
      "2014-03-31 2014-06-29\n",
      "2014-05-31 2014-08-29\n",
      "2014-08-31 2014-11-29\n",
      "2014-11-30 2015-02-28\n",
      "2015-03-31 2015-06-29\n",
      "2015-05-31 2015-08-29\n",
      "2015-08-31 2015-11-29\n",
      "2015-11-30 2016-02-28\n",
      "2016-03-31 2016-06-29\n",
      "2016-05-31 2016-08-29\n",
      "2016-08-31 2016-11-29\n",
      "2016-11-30 2017-02-28\n",
      "2017-03-31 2017-06-29\n",
      "2017-05-31 2017-08-29\n",
      "2017-08-31 2017-11-29\n",
      "2017-11-30 2018-02-28\n",
      "2018-03-31 2018-06-29\n",
      "2018-05-31 2018-08-29\n",
      "2018-08-31 2018-11-29\n",
      "2018-11-30 2019-02-28\n",
      "2019-03-31 2019-06-29\n",
      "2019-05-31 2019-08-29\n",
      "2019-08-31 2019-11-29\n",
      "2019-11-30 2020-02-28\n",
      "2020-03-31 2020-06-29\n",
      "2020-05-31 2020-08-29\n",
      "2020-08-31 2020-11-29\n",
      "2020-11-30 2021-02-28\n",
      "2021-03-31 2021-06-29\n",
      "2021-05-31 2021-08-29\n",
      "2021-08-31 2021-11-29\n",
      "2021-11-30 2022-02-28\n"
     ]
    },
    {
     "name": "stderr",
     "output_type": "stream",
     "text": [
      "/var/folders/w8/jwxq4stj29506b1pf67xpb000000gq/T/ipykernel_26079/3076069037.py:4: RuntimeWarning: Mean of empty slice\n",
      "  return_df.iloc[0, i] = np.nanmean(return_df.iloc[0, i] )\n",
      "/var/folders/w8/jwxq4stj29506b1pf67xpb000000gq/T/ipykernel_26079/3076069037.py:5: RuntimeWarning: Mean of empty slice\n",
      "  return_df.iloc[1, i] = np.nanmean(return_df.iloc[1, i] )\n"
     ]
    },
    {
     "data": {
      "image/png": "[encoded data removed]",
      "text/plain": [
       "<Figure size 1080x288 with 1 Axes>"
      ]
     },
     "metadata": {
      "needs_background": "light"
     },
     "output_type": "display_data"
    }
   ],
   "source": [
    "WB = pd.read_excel('./計算溢酬/CTBCdata/factorvalues_sentiment.xlsx','WB', index_col=0)\n",
    "WB = WB[WB.index.astype('str').isin(candidatePool)]\n",
    "WB = WB.fillna(0.5)\n",
    "\n",
    "draw(WB, 'WB')"
   ]
  },
  {
   "cell_type": "code",
   "execution_count": 22,
   "id": "c551a1d0",
   "metadata": {},
   "outputs": [
    {
     "name": "stdout",
     "output_type": "stream",
     "text": [
      "1.0\n",
      "[1. 2.]\n",
      "3.0000000000000018\n",
      "[16.]\n"
     ]
    }
   ],
   "source": [
    "import numpy as np\n",
    "from sklearn.linear_model import LinearRegression\n",
    "X = np.array([[1, 1], [1, 2], [2, 2], [2, 3]])\n",
    "# y = 1 * x_0 + 2 * x_1 + 3\n",
    "y = np.dot(X, np.array([1, 2])) + 3\n",
    "reg = LinearRegression().fit(X, y)\n",
    "print(reg.score(X, y))\n",
    "\n",
    "print(reg.coef_)\n",
    "\n",
    "print(reg.intercept_)\n",
    "\n",
    "print(reg.predict(np.array([[3, 5]])))\n"
   ]
  },
  {
   "cell_type": "code",
   "execution_count": null,
   "id": "64cc250f",
   "metadata": {},
   "outputs": [],
   "source": []
  },
  {
   "cell_type": "code",
   "execution_count": null,
   "id": "140c44a3",
   "metadata": {},
   "outputs": [],
   "source": []
  },
  {
   "cell_type": "code",
   "execution_count": null,
   "id": "a3d765d9",
   "metadata": {},
   "outputs": [],
   "source": []
  },
  {
   "cell_type": "code",
   "execution_count": null,
   "id": "a864dfd6",
   "metadata": {},
   "outputs": [],
   "source": []
  },
  {
   "cell_type": "code",
   "execution_count": null,
   "id": "65c71e02",
   "metadata": {},
   "outputs": [],
   "source": []
  },
  {
   "cell_type": "code",
   "execution_count": null,
   "id": "d026e958",
   "metadata": {},
   "outputs": [],
   "source": []
  },
  {
   "cell_type": "code",
   "execution_count": null,
   "id": "4f58098c",
   "metadata": {},
   "outputs": [],
   "source": []
  },
  {
   "cell_type": "code",
   "execution_count": null,
   "id": "5c4ca653",
   "metadata": {},
   "outputs": [],
   "source": []
  },
  {
   "cell_type": "code",
   "execution_count": null,
   "id": "6f21e062",
   "metadata": {},
   "outputs": [],
   "source": []
  },
  {
   "cell_type": "code",
   "execution_count": 19,
   "id": "74e02838",
   "metadata": {},
   "outputs": [],
   "source": [
    "%matplotlib inline\n",
    "\n",
    "fig = plt.figure(figsize=(15,4))\n",
    "ax = plt.axes()\n",
    "# ax.plot(return_df.columns, return_df.iloc[0, :], label='daily')\n",
    "ax.plot(return_df.index, return_df.iloc[:, 0]-1, label='MultiFactor_DailyReturn')\n",
    "# ax.plot(return_df.columns, return_df.iloc[1, :], label='0050_daily')\n",
    "ax.plot(return_df.index, return_df.iloc[:, 1]-1, label='0050_DailyReturn')\n",
    "ax.set_xlabel('time')  # Add an x-label to the axes.\n",
    "ax.set_ylabel('return rate')  # Add a y-label to the axes.\n",
    "ax.legend();  # Add a legend."
   ]
  },
  {
   "cell_type": "code",
   "execution_count": null,
   "id": "ca04db34",
   "metadata": {
    "scrolled": true
   },
   "outputs": [],
   "source": [
    "fig = plt.figure(figsize=(15,4))\n",
    "ax = plt.axes()\n",
    "# ax.plot(return_df.columns, return_df.iloc[0, :], label='daily')\n",
    "ax.plot(cumu_return.index, cumu_return.iloc[:, 0], label='MultiFactor_CumulativeReturn')\n",
    "# ax.plot(return_df.columns, return_df.iloc[1, :], label='0050_daily')\n",
    "ax.plot(cumu_return.index, cumu_return.iloc[:, 1], label='0050_CumulativeReturn')\n",
    "ax.set_xlabel('time')  # Add an x-label to the axes.\n",
    "ax.set_ylabel('culumative return')  # Add a y-label to the axes.\n",
    "ax.legend();  # Add a legend."
   ]
  },
  {
   "cell_type": "markdown",
   "id": "9842d8ad",
   "metadata": {},
   "source": [
    "# 指標：年化報酬IRR 波動度 max drawdown、 sharpe ratio、 sortino ratio"
   ]
  },
  {
   "cell_type": "code",
   "execution_count": 30,
   "id": "d4eeb624",
   "metadata": {},
   "outputs": [],
   "source": [
    "MultiFactor_Performance = {}\n",
    "Fifty_Performance = {}"
   ]
  },
  {
   "cell_type": "markdown",
   "id": "9b0a7518",
   "metadata": {},
   "source": [
    "### IRR"
   ]
  },
  {
   "cell_type": "code",
   "execution_count": 31,
   "id": "4fb1e4ea",
   "metadata": {},
   "outputs": [],
   "source": [
    "MultiFactor_Performance['IRR'] = cumu_return.iloc[-1, 0]**(1/11.25) - 1\n",
    "Fifty_Performance['IRR'] = cumu_return.iloc[-1, 1]**(1/11.25) - 1"
   ]
  },
  {
   "cell_type": "markdown",
   "id": "f936abcb",
   "metadata": {},
   "source": [
    "### Volality"
   ]
  },
  {
   "cell_type": "code",
   "execution_count": 32,
   "id": "e96b7fdf",
   "metadata": {},
   "outputs": [
    {
     "data": {
      "text/plain": [
       "2013-04-30    True\n",
       "2013-05-01    True\n",
       "2013-05-02    True\n",
       "2013-05-03    True\n",
       "2013-05-04    True\n",
       "              ... \n",
       "2022-03-26    True\n",
       "2022-03-27    True\n",
       "2022-03-28    True\n",
       "2022-03-29    True\n",
       "2022-03-30    True\n",
       "Name: MultiFactor_Portfolio, Length: 3257, dtype: bool"
      ]
     },
     "execution_count": 32,
     "metadata": {},
     "output_type": "execute_result"
    }
   ],
   "source": [
    "return_df.MultiFactor_Portfolio>0"
   ]
  },
  {
   "cell_type": "code",
   "execution_count": 33,
   "id": "85b505f8",
   "metadata": {},
   "outputs": [
    {
     "data": {
      "image/png": "[encoded data removed]",
      "text/plain": [
       "<Figure size 1080x288 with 1 Axes>"
      ]
     },
     "metadata": {
      "needs_background": "light"
     },
     "output_type": "display_data"
    }
   ],
   "source": [
    "volality_df = copy.copy(return_df)\n",
    "volality_df['MultiFactor_Portfolio'] = volality_df['MultiFactor_Portfolio'].rolling(30).apply(lambda x : x.std())\n",
    "volality_df['0050'] = volality_df['0050'].rolling(30).apply(lambda x : x.std())\n",
    "\n",
    "fig = plt.figure(figsize=(15,4))\n",
    "ax = plt.axes()\n",
    "# ax.plot(return_df.columns, return_df.iloc[0, :], label='daily')\n",
    "ax.plot(volality_df.index, volality_df.iloc[:, 0], label='MultiFactor_Volality')\n",
    "# ax.plot(return_df.columns, return_df.iloc[1, :], label='0050_daily')\n",
    "ax.plot(volality_df.index, volality_df.iloc[:, 1], label='0050_Volality')\n",
    "ax.set_xlabel('time')  # Add an x-label to the axes.\n",
    "ax.set_ylabel('volality')  # Add a y-label to the axes.\n",
    "ax.legend();  # Add a legend."
   ]
  },
  {
   "cell_type": "markdown",
   "id": "3d267a71",
   "metadata": {},
   "source": [
    "### Sharpe Ratio"
   ]
  },
  {
   "cell_type": "code",
   "execution_count": 34,
   "id": "6fc83fd8",
   "metadata": {},
   "outputs": [],
   "source": [
    "MultiFactor_Performance['SharpeRatio'] = np.mean(return_df.iloc[:, 0]-1) / np.std(return_df.iloc[:, 0]-1)\n",
    "Fifty_Performance['SharpeRatio'] = np.mean(return_df.iloc[:, 1]-1) / np.std(return_df.iloc[:, 1]-1)"
   ]
  },
  {
   "cell_type": "markdown",
   "id": "42cb46e6",
   "metadata": {},
   "source": [
    "### Sortino Ratio"
   ]
  },
  {
   "cell_type": "code",
   "execution_count": 35,
   "id": "a2ffaac1",
   "metadata": {
    "scrolled": true
   },
   "outputs": [
    {
     "data": {
      "text/plain": [
       "0.0703075063145118"
      ]
     },
     "execution_count": 35,
     "metadata": {},
     "output_type": "execute_result"
    }
   ],
   "source": [
    "np.mean(return_df.iloc[:, 0]-1) / np.std(return_df.loc[return_df.MultiFactor_Portfolio > 1, 'MultiFactor_Portfolio']-1)"
   ]
  },
  {
   "cell_type": "code",
   "execution_count": 36,
   "id": "6da2ec57",
   "metadata": {},
   "outputs": [
    {
     "data": {
      "text/plain": [
       "2013-04-30    True\n",
       "2013-05-01    True\n",
       "2013-05-02    True\n",
       "2013-05-03    True\n",
       "2013-05-04    True\n",
       "              ... \n",
       "2022-03-26    True\n",
       "2022-03-27    True\n",
       "2022-03-28    True\n",
       "2022-03-29    True\n",
       "2022-03-30    True\n",
       "Name: MultiFactor_Portfolio, Length: 3257, dtype: bool"
      ]
     },
     "execution_count": 36,
     "metadata": {},
     "output_type": "execute_result"
    }
   ],
   "source": [
    "return_df.MultiFactor_Portfolio>0"
   ]
  },
  {
   "cell_type": "code",
   "execution_count": 37,
   "id": "3218b362",
   "metadata": {},
   "outputs": [],
   "source": [
    "MultiFactor_Performance['SortinoRatio'] = np.mean(return_df.iloc[:, 0]-1) / np.std(return_df.loc[return_df['MultiFactor_Portfolio'] > 1, 'MultiFactor_Portfolio']-1)\n",
    "Fifty_Performance['SortinoRatio'] = np.mean(return_df.iloc[:, 1]-1) / np.std(return_df.loc[return_df['0050'] > 1, '0050']-1)"
   ]
  },
  {
   "cell_type": "code",
   "execution_count": 38,
   "id": "f2db3378",
   "metadata": {},
   "outputs": [
    {
     "data": {
      "text/plain": [
       "{'IRR': 0.1479077577892456,\n",
       " 'SharpeRatio': 0.05439760680091587,\n",
       " 'SortinoRatio': 0.0703075063145118}"
      ]
     },
     "execution_count": 38,
     "metadata": {},
     "output_type": "execute_result"
    }
   ],
   "source": [
    "MultiFactor_Performance"
   ]
  },
  {
   "cell_type": "code",
   "execution_count": 39,
   "id": "3238c317",
   "metadata": {},
   "outputs": [
    {
     "data": {
      "text/plain": [
       "{'IRR': 0.1104965143339749,\n",
       " 'SharpeRatio': 0.04843215496874025,\n",
       " 'SortinoRatio': 0.05764437428167082}"
      ]
     },
     "execution_count": 39,
     "metadata": {},
     "output_type": "execute_result"
    }
   ],
   "source": [
    "Fifty_Performance"
   ]
  },
  {
   "cell_type": "code",
   "execution_count": null,
   "id": "b1d9c69c",
   "metadata": {},
   "outputs": [],
   "source": []
  },
  {
   "cell_type": "code",
   "execution_count": null,
   "id": "ba914f61",
   "metadata": {},
   "outputs": [],
   "source": [
    "import pandas as pd\n",
    "import numpy as np\n",
    "from pandas.core.arrays.sparse import dtype\n",
    "# from model_v1 import MinRiskByHistoricalVar\n",
    "import matplotlib.pyplot as plt\n",
    "import ffn\n",
    "import dask.dataframe\n",
    "import os\n",
    "import warnings\n",
    "import copy\n",
    "import sklearn as sk\n",
    "import cvxpy as cvx\n",
    "import datetime\n",
    "import matplotlib.pyplot as plt\n",
    "os.chdir('/Users/arthur/Desktop/factor_investment')\n",
    "\n",
    "標準化個因子\n",
    "考量市值大小\n",
    "方向變化（正相關 負相關）\n",
    "缺值等權合成\n",
    "中性化（https://heatask.com/photograph/69198.html）\n",
    "\n",
    "\n",
    "\n",
    "\n",
    "def nor(lis):\n",
    "    lis = (np.array(lis) - np.nanmean(lis)) / (np.nanvar(lis))**(1/2)\n",
    "    return lis\n",
    "\n",
    "def get_optimal_weights(covariance_matrix):\n",
    "\n",
    "    num_of_weights = covariance_matrix.shape[0]\n",
    "    \n",
    "    x = cvx.Variable(num_of_weights)\n",
    "    \n",
    "    portfolio_variance = cvx.quad_form(x, covariance_matrix)\n",
    "    \n",
    "    objective = cvx.Minimize(portfolio_variance)\n",
    "    \n",
    "    constraints = [x >= 0, sum(x) == 1]\n",
    "   \n",
    "    problem = cvx.Problem(objective, constraints)\n",
    "    problem.solve()\n",
    "    \n",
    "    x_values = x.value\n",
    "    return x_values\n",
    "\n",
    "def mul(return_list):\n",
    "    return_list = return_list[~(np.isnan(return_list))]\n",
    "    new_return = 1\n",
    "    for i in return_list:\n",
    "        new_return = new_return*i\n",
    "    \n",
    "    return new_return\n",
    "\n",
    "candidatePoolDF=pd.read_excel('./計算溢酬/CTBCdata/10個因子原始資料.xlsx','125檔', dtype=str,index_col=0,header=1)\n",
    "# factor_size=pd.read_csv('./CTBCdata/419valuefactor.csv', index_col=0)\n",
    "CTP=pd.read_excel('./計算溢酬/CTBCdata/factorvalues.xlsx','CTP', index_col=0)\n",
    "EB=pd.read_excel('./計算溢酬/CTBCdata/factorvalues.xlsx','EB', index_col=0)\n",
    "EP=pd.read_excel('./計算溢酬/CTBCdata/factorvalues.xlsx','EP', index_col=0)\n",
    "MOM=pd.read_excel('./計算溢酬/CTBCdata/factorvalues.xlsx','MOM', index_col=0)\n",
    "VOL=pd.read_excel('./計算溢酬/CTBCdata/factorvalues.xlsx','VOL', index_col=0)\n",
    "\n",
    "# NoBenchmarkPool=list(candidatePoolDF.index)\n",
    "# candidatePool=['0050']+NoBenchmarkPool\n",
    "\n",
    "candidatePool=list(candidatePoolDF.index)\n",
    "\n",
    "candidatePool=[str(x) for x in candidatePool]\n",
    "candidatePool.sort()\n",
    "candidatePool = ['50']+candidatePool\n",
    "print(candidatePool)\n",
    "print(len(candidatePool))\n",
    "\n",
    "CTP = CTP[CTP.index.astype('str').isin(candidatePool)]\n",
    "EB = EB[EB.index.astype('str').isin(candidatePool)]\n",
    "EP = EP[EP.index.astype('str').isin(candidatePool)]\n",
    "VOL = VOL[VOL.index.astype('str').isin(candidatePool)]\n",
    "MOM= MOM[MOM.index.astype('str').isin(candidatePool)]\n",
    "\n",
    "CTP = CTP.fillna(np.nan)\n",
    "EB = EB.fillna(np.nan)\n",
    "EP = EP.fillna(np.nan)\n",
    "VOL = VOL.fillna(np.nan)\n",
    "MOM = MOM.fillna(np.nan)\n",
    "\n",
    "weights_df = pd.DataFrame()\n",
    "CTP_Value = copy.copy(CTP) # 標準化\n",
    "EB_Value = copy.copy(EB)\n",
    "EP_Value = copy.copy(EP)\n",
    "VOL_Value = copy.copy(VOL)\n",
    "MOM_Value = copy.copy(MOM)\n",
    "\n",
    "for i in range(CTP.shape[1]):\n",
    "#     index = CTP.iloc[:, i].values == CTP.iloc[:, i].values\n",
    "    CTP_value = nor(CTP.iloc[:, i])\n",
    "    CTP_Value.iloc[:, i] = CTP_value\n",
    "    \n",
    "    EB_value = nor(EB.iloc[:, i])\n",
    "    EB_Value.iloc[:, i] = EB_value\n",
    "    \n",
    "    EP_value = nor(EP.iloc[:, i])\n",
    "    EP_Value.iloc[:, i] = EP_value\n",
    "    \n",
    "    MOM_value = nor(MOM.iloc[:, i])\n",
    "    MOM_Value.iloc[:, i] = MOM_value\n",
    "    \n",
    "    VOL_value = nor(VOL.iloc[:, i])\n",
    "    VOL_Value.iloc[:, i] = VOL_value\n",
    "\n",
    "for i in range(CTP.shape[1]):\n",
    "    index = np.logical_and(CTP_Value.iloc[:, i].values == CTP_Value.iloc[:, i].values, EB_Value.iloc[:, i].values == EB_Value.iloc[:, i].values)\n",
    "    index = np.logical_and(index, EP_Value.iloc[:, i].values == EP_Value.iloc[:, i].values)\n",
    "    index = np.logical_and(index, MOM_Value.iloc[:, i].values == MOM_Value.iloc[:, i].values)\n",
    "    index = np.logical_and(index, VOL_Value.iloc[:, i].values == VOL_Value.iloc[:, i].values)\n",
    "    \n",
    "    try:\n",
    "        CTP_value = CTP_Value.iloc[:, i].values[index]\n",
    "        EB_value = EB_Value.iloc[:, i].values[index]\n",
    "        EP_value = EP_Value.iloc[:, i].values[index]\n",
    "        MOM_value = MOM_Value.iloc[:, i].values[index]\n",
    "        VOL_value = VOL_Value.iloc[:, i].values[index]\n",
    "        \n",
    "        covMatrix = np.cov(np.array([CTP_value, EB_value, EP_value, MOM_value, VOL_value]))\n",
    "\n",
    "        weights_df[CTP.columns[i]] = get_optimal_weights(covMatrix)\n",
    "    except:\n",
    "        continue\n",
    "\n",
    "weights_df\n",
    "\n",
    "current_index = pd.DataFrame()\n",
    "for i in weights_df.columns:\n",
    "    weight = weights_df[i]\n",
    "    current_index[i] = weight[0]*CTP_Value[i] + weight[1]*EB_Value[i] + weight[2]*EP_Value[i] + weight[3]*MOM_Value[i] + weight[4]*VOL_Value[i]\n",
    "\n",
    "current_index.index = current_index.index.astype('str')\n",
    "current_index = current_index[current_index.index.isin(candidatePool)]\n",
    "current_index\n",
    "\n",
    "def group(factor_df):\n",
    "    high_group = pd.DataFrame()\n",
    "\n",
    "    for i in factor_df.columns:\n",
    "        values = factor_df.loc[:, i].values\n",
    "        values = values[~np.isnan(values)]\n",
    "        num = round(len(values)/5)\n",
    "        top_index = factor_df.index[ np.argpartition(values, -num)[-num:] ]\n",
    "\n",
    "        df = pd.DataFrame({i:top_index})\n",
    "        high_group = pd.concat([high_group, df], ignore_index=True, axis=1)\n",
    "\n",
    "    high_group.columns = factor_df.columns\n",
    "    return high_group\n",
    "\n",
    "selected_stock = group(current_index)\n",
    "selected_stock = selected_stock.astype('str')\n",
    "selected_stock.columns = selected_stock.columns.date\n",
    "\n",
    "selected_stock\n",
    "\n",
    "try:\n",
    "    prices = pd.read_csv('./計算溢酬/CTBCdata/prices.csv', index_col=0)\n",
    "    print(prices)\n",
    "except:\n",
    "    col_list = [\"證券代碼\", \"簡稱\", \"年月日\", \"收盤價(元)\"]\n",
    "    price = pd.read_csv('./data/TEJ_StockPrice_20052022.csv', encoding='big5', encoding_errors='ignore', usecols=col_list)\n",
    "    price[\"證券代碼\"] = [str(x).strip() for x in price[\"證券代碼\"]]\n",
    "    price[\"簡稱\"] = [x.strip() for x in price[\"簡稱\"]]\n",
    "    price.年月日 = pd.to_datetime(price.年月日).dt.date\n",
    "    \n",
    "    prices = pd.DataFrame(columns = candidatePool)\n",
    "    for i in price.index:\n",
    "        coid = price.loc[i, \"證券代碼\"]\n",
    "        if coid in candidatePool: # 只抓125檔的價格\n",
    "            date = price.loc[i, \"年月日\"]\n",
    "            close = price.loc[i, \"收盤價(元)\"]\n",
    "            prices.loc[date, coid] = close\n",
    "            if (i % 10000) == 0:\n",
    "                print(i//10000, end=' ')\n",
    "    for i in pd.date_range(start='2005-01-03', end='2022-05-16').date:\n",
    "        if i not in prices.index.values:\n",
    "    #         print(i)\n",
    "            prices.loc[i, :] = [np.nan]*126\n",
    "\n",
    "    prices = prices.sort_index()\n",
    "    prices = prices.fillna(method='ffill')\n",
    "    prices.to_csv('./計算溢酬/CTBCdata/prices.csv')\n",
    "    prices\n",
    "\n",
    "prices.index = prices.index.astype('datetime64[ns]').date\n",
    "\n",
    "selected_stock\n",
    "\n",
    "return_df = pd.DataFrame( index = [0, 1], columns=pd.date_range( start=str(selected_stock.columns[9]+datetime.timedelta(days=30)), end=str(selected_stock.columns[-1]+ datetime.timedelta(days=120)) ).date )\n",
    "cumu_return = copy.copy(return_df)\n",
    "# num_buy = copy.copy(selected_stock)\n",
    "\n",
    "\n",
    "for j in range(9, selected_stock.shape[1]):\n",
    "    start_date = selected_stock.columns[j] + datetime.timedelta(days=30)\n",
    "    end_date = selected_stock.columns[j] + datetime.timedelta(days=120)\n",
    "    print(start_date, end_date)\n",
    "    \n",
    "    for i in range(selected_stock.shape[0]):\n",
    "        if selected_stock.iloc[i, j] != 'nan':\n",
    "            stock_coid = selected_stock.iloc[i, j]\n",
    "            stock_buying_price = prices.loc[start_date, stock_coid]\n",
    "#             stock_buying_num = 100/stock_buying_price\n",
    "#             num_buy.iloc[i, j] = stock_buying_num\n",
    "\n",
    "            for k in pd.date_range(start=start_date, end=end_date).date:\n",
    "                stock_selling_price = prices.loc[k, stock_coid]\n",
    "                stock_odbselling_price = prices.loc[k-datetime.timedelta(days=1), stock_coid] # one-date-before -> odb\n",
    "                if k != end_date:\n",
    "                    return_df.loc[0, k] = np.append(return_df.loc[0, k], stock_selling_price/stock_odbselling_price)\n",
    "                else:\n",
    "                    return_df.loc[0, k] = np.append(return_df.loc[0, k], stock_selling_price*0.997/stock_odbselling_price)\n",
    "\n",
    "return_df\n",
    "\n",
    "for i in range(1, len(return_df.columns)):\n",
    "    return_df.loc[1, return_df.columns[i]] = prices.loc[return_df.columns[i], '50']/prices.loc[return_df.columns[i-1], '50']\n",
    "\n",
    "return_df\n",
    "\n",
    "# for j in range(9, selected_stock.shape[1]):\n",
    "#     start_date = selected_stock.columns[j] + datetime.timedelta(days=30)\n",
    "#     end_date = selected_stock.columns[j] + datetime.timedelta(days=120)\n",
    "#     print(start_date, end_date)\n",
    "    \n",
    "\n",
    "#     stock_coid = '50'\n",
    "#     stock_buying_price = prices.loc[start_date, stock_coid]\n",
    "# #     stock_buying_num = 100/stock_buying_price\n",
    "\n",
    "#     for k in pd.date_range(start=start_date, end=end_date).date:\n",
    "#         stock_selling_price = prices.loc[k, stock_coid]\n",
    "#         stock_odbselling_price = prices.loc[k-datetime.timedelta(days=1), stock_coid]\n",
    "#         if k != end_date:\n",
    "#             return_df.loc[1, k] = np.append(return_df.loc[1, k], stock_selling_price/stock_odbselling_price)\n",
    "#         else:\n",
    "#             return_df.loc[1, k] = np.append(return_df.loc[1, k], stock_selling_price*0.997/stock_odbselling_price)\n",
    "\n",
    "for i in range(len(return_df.columns)):\n",
    "    return_df.iloc[0, i] = np.nanmean(return_df.iloc[0, i] )\n",
    "    return_df.iloc[1, i] = np.nanmean(return_df.iloc[1, i] )\n",
    "\n",
    "return_df = return_df.fillna(1)\n",
    "\n",
    "return_df\n",
    "\n",
    "return_df = return_df.T\n",
    "return_df.columns = ['MultiFactor_Portfolio', '0050']\n",
    "return_df\n",
    "\n",
    "prices.loc[datetime.date(2022, 3, 30), '50'] / prices.loc[datetime.date(2022, 3, 29), '50']\n",
    "\n",
    "cumu_return = copy.copy(return_df)\n",
    "\n",
    "for i in range(len(return_df.iloc[:, 0])):\n",
    "    if i != 0:\n",
    "        cumu_return.iloc[i, 0] = cumu_return.iloc[i-1, 0] * cumu_return.iloc[i, 0]\n",
    "\n",
    "for i in range(len(return_df.iloc[:, 1])):\n",
    "    if i != 0:\n",
    "        cumu_return.iloc[i, 1] = cumu_return.iloc[i-1, 1] * cumu_return.iloc[i, 1]\n",
    "\n",
    "%matplotlib inline\n",
    "\n",
    "fig = plt.figure(figsize=(15,4))\n",
    "ax = plt.axes()\n",
    "# ax.plot(return_df.columns, return_df.iloc[0, :], label='daily')\n",
    "ax.plot(return_df.index, return_df.iloc[:, 0]-1, label='MultiFactor_DailyReturn')\n",
    "# ax.plot(return_df.columns, return_df.iloc[1, :], label='0050_daily')\n",
    "ax.plot(return_df.index, return_df.iloc[:, 1]-1, label='0050_DailyReturn')\n",
    "ax.set_xlabel('time')  # Add an x-label to the axes.\n",
    "ax.set_ylabel('return rate')  # Add a y-label to the axes.\n",
    "ax.legend();  # Add a legend.\n",
    "\n",
    "fig = plt.figure(figsize=(15,4))\n",
    "ax = plt.axes()\n",
    "# ax.plot(return_df.columns, return_df.iloc[0, :], label='daily')\n",
    "ax.plot(cumu_return.index, cumu_return.iloc[:, 0], label='MultiFactor_CumulativeReturn')\n",
    "# ax.plot(return_df.columns, return_df.iloc[1, :], label='0050_daily')\n",
    "ax.plot(cumu_return.index, cumu_return.iloc[:, 1], label='0050_CumulativeReturn')\n",
    "ax.set_xlabel('time')  # Add an x-label to the axes.\n",
    "ax.set_ylabel('culumative return')  # Add a y-label to the axes.\n",
    "ax.legend();  # Add a legend.\n",
    "\n",
    "# 指標：年化報酬IRR 波動度 max drawdown、 sharpe ratio、 sortino ratio\n",
    "\n",
    "MultiFactor_Performance = {}\n",
    "Fifty_Performance = {}\n",
    "\n",
    "### IRR\n",
    "\n",
    "MultiFactor_Performance['IRR'] = cumu_return.iloc[-1, 0]**(1/11.25) - 1\n",
    "Fifty_Performance['IRR'] = cumu_return.iloc[-1, 1]**(1/11.25) - 1\n",
    "\n",
    "### Volality\n",
    "\n",
    "return_df.MultiFactor_Portfolio>0\n",
    "\n",
    "volality_df = copy.copy(return_df)\n",
    "volality_df['MultiFactor_Portfolio'] = volality_df['MultiFactor_Portfolio'].rolling(30).apply(lambda x : x.std())\n",
    "volality_df['0050'] = volality_df['0050'].rolling(30).apply(lambda x : x.std())\n",
    "\n",
    "fig = plt.figure(figsize=(15,4))\n",
    "ax = plt.axes()\n",
    "# ax.plot(return_df.columns, return_df.iloc[0, :], label='daily')\n",
    "ax.plot(volality_df.index, volality_df.iloc[:, 0], label='MultiFactor_Volality')\n",
    "# ax.plot(return_df.columns, return_df.iloc[1, :], label='0050_daily')\n",
    "ax.plot(volality_df.index, volality_df.iloc[:, 1], label='0050_Volality')\n",
    "ax.set_xlabel('time')  # Add an x-label to the axes.\n",
    "ax.set_ylabel('volality')  # Add a y-label to the axes.\n",
    "ax.legend();  # Add a legend.\n",
    "\n",
    "### Sharpe Ratio\n",
    "\n",
    "MultiFactor_Performance['SharpeRatio'] = np.mean(return_df.iloc[:, 0]-1) / np.std(return_df.iloc[:, 0]-1)\n",
    "Fifty_Performance['SharpeRatio'] = np.mean(return_df.iloc[:, 1]-1) / np.std(return_df.iloc[:, 1]-1)\n",
    "\n",
    "### Sortino Ratio\n",
    "\n",
    "np.mean(return_df.iloc[:, 0]-1) / np.std(return_df.loc[return_df.MultiFactor_Portfolio > 1, 'MultiFactor_Portfolio']-1)\n",
    "\n",
    "return_df.MultiFactor_Portfolio>0\n",
    "\n",
    "MultiFactor_Performance['SortinoRatio'] = np.mean(return_df.iloc[:, 0]-1) / np.std(return_df.loc[return_df['MultiFactor_Portfolio'] > 1, 'MultiFactor_Portfolio']-1)\n",
    "Fifty_Performance['SortinoRatio'] = np.mean(return_df.iloc[:, 1]-1) / np.std(return_df.loc[return_df['0050'] > 1, '0050']-1)\n",
    "\n",
    "MultiFactor_Performance\n",
    "\n",
    "Fifty_Performance\n",
    "\n"
   ]
  }
 ],
 "metadata": {
  "kernelspec": {
   "display_name": "Python 3 (ipykernel)",
   "language": "python",
   "name": "python3"
  },
  "language_info": {
   "codemirror_mode": {
    "name": "ipython",
    "version": 3
   },
   "file_extension": ".py",
   "mimetype": "text/x-python",
   "name": "python",
   "nbconvert_exporter": "python",
   "pygments_lexer": "ipython3",
   "version": "3.9.7"
  }
 },
 "nbformat": 4,
 "nbformat_minor": 5
}
