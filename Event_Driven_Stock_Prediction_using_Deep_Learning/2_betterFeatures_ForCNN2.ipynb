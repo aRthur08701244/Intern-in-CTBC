{
 "cells": [
  {
   "cell_type": "code",
   "execution_count": 1,
   "id": "b65cf390",
   "metadata": {},
   "outputs": [],
   "source": [
    "import os\n",
    "import pandas as pd\n",
    "import numpy as np\n",
    "os.chdir('/Users/arthur/Desktop/Event_Driven_Stock_Prediction_using_Deep_Learning/')"
   ]
  },
  {
   "cell_type": "code",
   "execution_count": 3,
   "id": "f5fd9895",
   "metadata": {},
   "outputs": [],
   "source": [
    "# train = pd.read_csv('./input/featureMatrix_0_train.csv')\n",
    "# valid = pd.read_csv('./input/featureMatrix_0_validation.csv')\n",
    "# test = pd.read_csv('./input/featureMatrix_0_test.csv')"
   ]
  },
  {
   "cell_type": "code",
   "execution_count": 4,
   "id": "a26bc9b3",
   "metadata": {
    "scrolled": true
   },
   "outputs": [],
   "source": [
    "# train_df = pd.DataFrame()\n",
    "# for i in train.index:\n",
    "#     feature = pd.DataFrame( data = train.iloc[i, 0].split(' ') )\n",
    "#     train_df = pd.concat([train_df, feature])"
   ]
  },
  {
   "cell_type": "code",
   "execution_count": 5,
   "id": "e9953e34",
   "metadata": {},
   "outputs": [],
   "source": [
    "# valid_df = pd.DataFrame()\n",
    "# for i in valid.index:\n",
    "#     feature = pd.DataFrame( data = valid.iloc[i, 0].split(' ') )\n",
    "#     valid_df = pd.concat([valid_df, feature])"
   ]
  },
  {
   "cell_type": "code",
   "execution_count": 7,
   "id": "867604ac",
   "metadata": {},
   "outputs": [],
   "source": [
    "# test_df = pd.DataFrame()\n",
    "# for i in test.index:\n",
    "#     feature = pd.DataFrame( data = test.iloc[i, 0].split(' ') )\n",
    "#     test_df = pd.concat([test_df, feature])"
   ]
  },
  {
   "cell_type": "code",
   "execution_count": 2,
   "id": "718e4688",
   "metadata": {
    "scrolled": true
   },
   "outputs": [
    {
     "name": "stdout",
     "output_type": "stream",
     "text": [
      "featureMatrix_28_train.csv has already existed\n",
      "featureMatrix_7_train.csv has already existed\n",
      "featureMatrix_25_train.csv has already existed\n",
      "featureMatrix_10_train.csv has already existed\n",
      "featureMatrix_1_train.csv has already existed\n",
      "featureMatrix_1_validation.csv has already existed\n",
      "Processing .DS_Store\n",
      "We have lost .DS_Store\n",
      "featureMatrix_4_test.csv has already existed\n",
      "featureMatrix_5_test.csv has already existed\n",
      "featureMatrix_16_train.csv has already existed\n",
      "featureMatrix_23_train.csv has already existed\n",
      "featureMatrix_4_validation.csv has already existed\n",
      "featureMatrix_29_train.csv has already existed\n",
      "featureMatrix_3_test.csv has already existed\n",
      "featureMatrix_2_test.csv has already existed\n",
      "featureMatrix_6_train.csv has already existed\n",
      "featureMatrix_30_train.csv has already existed\n",
      "Processing featureMatrix_3_validation.csv\n",
      "Processing featureMatrix_24_train.csv\n",
      "Processing featureMatrix_8_test.csv\n",
      "Processing featureMatrix_11_train.csv\n",
      "Processing featureMatrix_2_validation.csv\n",
      "Processing featureMatrix_17_train.csv\n",
      "Processing featureMatrix_22_train.csv\n",
      "Processing featureMatrix_5_train.csv\n",
      "Processing featureMatrix_12_train.csv\n",
      "Processing featureMatrix_8_train.csv\n",
      "Processing featureMatrix_27_train.csv\n",
      "Processing featureMatrix_7_test.csv\n",
      "Processing featureMatrix_6_test.csv\n",
      "Processing featureMatrix_3_train.csv\n",
      "Processing featureMatrix_19_train.csv\n",
      "Processing featureMatrix_21_train.csv\n",
      "Processing featureMatrix_14_train.csv\n",
      "Processing featureMatrix_4_train.csv\n",
      "Processing featureMatrix_13_train.csv\n",
      "Processing featureMatrix_9_train.csv\n",
      "Processing featureMatrix_26_train.csv\n",
      "Processing featureMatrix_2_train.csv\n",
      "Processing featureMatrix_18_train.csv\n",
      "Processing featureMatrix_20_train.csv\n",
      "Processing featureMatrix_1_test.csv\n",
      "Processing featureMatrix_15_train.csv\n"
     ]
    }
   ],
   "source": [
    "loc = './input/stockFeatures2/'\n",
    "input_files = [f for f in os.listdir(loc)]\n",
    "\n",
    "for file in input_files:\n",
    "    existed_files = [f for f in os.listdir('./input/betterFeatures_ForCNN/') if file.endswith('.csv')]\n",
    "    if file in existed_files:\n",
    "        print(file, 'has already existed')\n",
    "    else:\n",
    "        try:\n",
    "            print('Processing', file)\n",
    "            matrix = pd.read_csv(loc+file)\n",
    "            # print(matrix)\n",
    "            feature_df = pd.DataFrame()\n",
    "            for i in matrix.index:\n",
    "                feature = pd.DataFrame( data = matrix.iloc[i, 0].split(' ') )\n",
    "                feature_df = pd.concat([feature_df, feature.T])\n",
    "            feature_df.to_csv('./input/betterFeatures_ForCNN/' + file)\n",
    "        except:\n",
    "            print('We have lost', file)"
   ]
  },
  {
   "cell_type": "code",
   "execution_count": null,
   "id": "d0975639",
   "metadata": {},
   "outputs": [],
   "source": []
  }
 ],
 "metadata": {
  "kernelspec": {
   "display_name": "Python 3 (ipykernel)",
   "language": "python",
   "name": "python3"
  },
  "language_info": {
   "codemirror_mode": {
    "name": "ipython",
    "version": 3
   },
   "file_extension": ".py",
   "mimetype": "text/x-python",
   "name": "python",
   "nbconvert_exporter": "python",
   "pygments_lexer": "ipython3",
   "version": "3.9.7"
  },
  "vscode": {
   "interpreter": {
    "hash": "aee8b7b246df8f9039afb4144a1f6fd8d2ca17a180786b69acc140d282b71a49"
   }
  }
 },
 "nbformat": 4,
 "nbformat_minor": 5
}
